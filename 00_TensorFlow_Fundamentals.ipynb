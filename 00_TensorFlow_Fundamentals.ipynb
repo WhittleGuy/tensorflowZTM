{
 "cells": [
  {
   "cell_type": "markdown",
   "id": "9ad6ce8e",
   "metadata": {},
   "source": [
    "# Introduction to Tensors"
   ]
  },
  {
   "cell_type": "code",
   "execution_count": 1,
   "id": "baee63cd",
   "metadata": {},
   "outputs": [],
   "source": [
    "# Import TensorFlow\n",
    "import tensorflow as tf"
   ]
  },
  {
   "cell_type": "code",
   "execution_count": 2,
   "id": "27ff36f0",
   "metadata": {},
   "outputs": [
    {
     "name": "stdout",
     "output_type": "stream",
     "text": [
      "tf.Tensor(7, shape=(), dtype=int32)\n",
      "Dimensions: 0\n"
     ]
    }
   ],
   "source": [
    "# Create tensors with tf.constant()\n",
    "scalar = tf.constant(7)\n",
    "print(scalar)\n",
    "# Check the number of dimensions of a tensor\n",
    "print(f'Dimensions: {scalar.ndim}')"
   ]
  },
  {
   "cell_type": "code",
   "execution_count": 3,
   "id": "4687140c",
   "metadata": {},
   "outputs": [
    {
     "name": "stdout",
     "output_type": "stream",
     "text": [
      "Dimensions: 1\n"
     ]
    }
   ],
   "source": [
    "# Create a vector\n",
    "vector = tf.constant([10, 10])\n",
    "print(f'Dimensions: {vector.ndim}')"
   ]
  },
  {
   "cell_type": "code",
   "execution_count": 4,
   "id": "36db5cc8",
   "metadata": {},
   "outputs": [
    {
     "name": "stdout",
     "output_type": "stream",
     "text": [
      "tf.Tensor(\n",
      "[[10  7]\n",
      " [ 7 10]], shape=(2, 2), dtype=int32)\n",
      "Dimensions: 2\n"
     ]
    }
   ],
   "source": [
    "# Create a matrix\n",
    "matrix = tf.constant([[10, 7], [7, 10]])\n",
    "print(matrix)\n",
    "print(f'Dimensions: {matrix.ndim}')"
   ]
  },
  {
   "cell_type": "code",
   "execution_count": 5,
   "id": "2420d414",
   "metadata": {},
   "outputs": [
    {
     "name": "stdout",
     "output_type": "stream",
     "text": [
      "tf.Tensor(\n",
      "[[10.  7.]\n",
      " [ 3.  2.]\n",
      " [ 8.  9.]], shape=(3, 2), dtype=float16)\n",
      "Dimensions: 2\n"
     ]
    }
   ],
   "source": [
    "# Create another matrix, specifying type\n",
    "another_matrix = tf.constant([[10., 7.], [3., 2.], [8., 9.]], dtype=tf.float16)\n",
    "print(another_matrix)\n",
    "print(f'Dimensions: {another_matrix.ndim}')"
   ]
  },
  {
   "cell_type": "code",
   "execution_count": 6,
   "id": "fe02ce11",
   "metadata": {},
   "outputs": [
    {
     "name": "stdout",
     "output_type": "stream",
     "text": [
      "tf.Tensor(\n",
      "[[[ 1  2  3]\n",
      "  [ 4  5  6]]\n",
      "\n",
      " [[ 7  8  9]\n",
      "  [10 11 12]]\n",
      "\n",
      " [[13 14 15]\n",
      "  [16 17 18]]], shape=(3, 2, 3), dtype=int32)\n",
      "Dimensions: 3\n"
     ]
    }
   ],
   "source": [
    "# Create a tensor\n",
    "tensor = tf.constant([[[1, 2, 3],[4, 5, 6]],[[7, 8, 9],[10, 11, 12]],[[13, 14, 15],[16, 17, 18]]])\n",
    "print(tensor)\n",
    "print(f'Dimensions: {tensor.ndim}')"
   ]
  },
  {
   "cell_type": "markdown",
   "id": "5271946f",
   "metadata": {},
   "source": [
    "#### Summary So Far\n",
    "* Scalar: A single number\n",
    "* Vector: A number with direction\n",
    "* Matrix: A 2-dimensional array of numbers\n",
    "* Tensor: An n-dimensional array of numbers"
   ]
  },
  {
   "cell_type": "markdown",
   "id": "ff3e9200",
   "metadata": {},
   "source": [
    "### Using tf.Variable()"
   ]
  },
  {
   "cell_type": "code",
   "execution_count": 7,
   "id": "1e4a17a7",
   "metadata": {},
   "outputs": [
    {
     "name": "stdout",
     "output_type": "stream",
     "text": [
      "<tf.Variable 'Variable:0' shape=(2,) dtype=int32, numpy=array([10,  7])>\n",
      "tf.Tensor([10  7], shape=(2,), dtype=int32)\n"
     ]
    }
   ],
   "source": [
    "# Create the same tensor with tf.Variable() as above\n",
    "changeable_tensor = tf.Variable([10, 7])\n",
    "unchangeable_tensor = tf.constant([10, 7])\n",
    "print(changeable_tensor)\n",
    "print(unchangeable_tensor)"
   ]
  },
  {
   "cell_type": "code",
   "execution_count": 8,
   "id": "5cff25ab",
   "metadata": {},
   "outputs": [
    {
     "data": {
      "text/plain": [
       "<tf.Variable 'UnreadVariable' shape=(2,) dtype=int32, numpy=array([7, 7])>"
      ]
     },
     "execution_count": 8,
     "metadata": {},
     "output_type": "execute_result"
    }
   ],
   "source": [
    "# Try to change an element in changeable tensor\n",
    "# changeable_tensor[0] = 7 # invalid\n",
    "changeable_tensor[0].assign(7)\n",
    "\n",
    "# Try to change unchangeable tensor\n",
    "# unchangeable_tensor[0] = 7 # invalid\n",
    "# unchangeable_tensor[0].assign(7) # invalid"
   ]
  },
  {
   "cell_type": "markdown",
   "id": "c13f763a",
   "metadata": {},
   "source": [
    "🔑 **Note:** Usually do not have to worry about choosing between `tf.constant()` and `tf.Variable()`, TensorFlow will do it for you. However, if you need to create tensors, use `tf.constant()` and change if necessary."
   ]
  },
  {
   "cell_type": "markdown",
   "id": "3fcf7d0b",
   "metadata": {},
   "source": [
    "### Creating Random Tensors"
   ]
  },
  {
   "cell_type": "code",
   "execution_count": 9,
   "id": "6eabcbce",
   "metadata": {},
   "outputs": [
    {
     "name": "stdout",
     "output_type": "stream",
     "text": [
      "tf.Tensor(\n",
      "[[-0.7565803  -0.06854702]\n",
      " [ 0.07595026 -1.2573844 ]\n",
      " [-0.23193763 -1.8107855 ]], shape=(3, 2), dtype=float32)\n",
      "tf.Tensor(\n",
      "[[-0.7565803  -0.06854702]\n",
      " [ 0.07595026 -1.2573844 ]\n",
      " [-0.23193763 -1.8107855 ]], shape=(3, 2), dtype=float32)\n",
      "tf.Tensor(\n",
      "[[ True  True]\n",
      " [ True  True]\n",
      " [ True  True]], shape=(3, 2), dtype=bool)\n"
     ]
    }
   ],
   "source": [
    "# Create two random (but the same) tensors\n",
    "random_1 = tf.random.Generator.from_seed(42) # Set for reproducibility\n",
    "random_1 = random_1.normal(shape=[3,2])\n",
    "print(random_1)\n",
    "random_2 = tf.random.Generator.from_seed(42) # Set for reproducibility\n",
    "random_2 = random_2.normal(shape=[3,2])\n",
    "print(random_2)\n",
    "\n",
    "# Are they equal? \n",
    "print(random_1 == random_2)"
   ]
  },
  {
   "cell_type": "markdown",
   "id": "f13a5a29",
   "metadata": {},
   "source": [
    "### Shuffle the order of elements in a tensor"
   ]
  },
  {
   "cell_type": "code",
   "execution_count": 10,
   "id": "ae3b5649",
   "metadata": {},
   "outputs": [
    {
     "name": "stdout",
     "output_type": "stream",
     "text": [
      "tf.Tensor(\n",
      "[[10  7]\n",
      " [ 3  4]\n",
      " [ 2  5]], shape=(3, 2), dtype=int32)\n",
      "Dimensions: 2\n",
      "tf.Tensor(\n",
      "[[ 2  5]\n",
      " [10  7]\n",
      " [ 3  4]], shape=(3, 2), dtype=int32)\n",
      "Dimensions: 2\n"
     ]
    }
   ],
   "source": [
    "# Shuffle a tensor (valuable for shuffling data so inherent order doesn't affect learning)\n",
    "not_shuffled = tf.constant([[10, 7], [3, 4], [2, 5]])\n",
    "print(not_shuffled)\n",
    "print(f'Dimensions: {not_shuffled.ndim}')\n",
    "\n",
    "# Shuffle our non_shuffled tensor\n",
    "shuffled = tf.random.shuffle(not_shuffled)\n",
    "print(shuffled)\n",
    "print(f'Dimensions: {shuffled.ndim}') # Shuffled along first dimension"
   ]
  },
  {
   "cell_type": "code",
   "execution_count": 11,
   "id": "5d073bed",
   "metadata": {},
   "outputs": [
    {
     "name": "stdout",
     "output_type": "stream",
     "text": [
      "tf.Tensor(\n",
      "[[10  7]\n",
      " [ 3  4]\n",
      " [ 2  5]], shape=(3, 2), dtype=int32)\n",
      "Dimensions: 2\n"
     ]
    }
   ],
   "source": [
    "# Shuffle our non_shuffled tensor\n",
    "tf.random.set_seed(42)\n",
    "shuffled = tf.random.shuffle(not_shuffled, seed=42) # Derived from two seeds: global and operation level\n",
    "print(shuffled)\n",
    "print(f'Dimensions: {shuffled.ndim}') # Shuffled along first dimension"
   ]
  },
  {
   "cell_type": "markdown",
   "id": "9c32288a",
   "metadata": {},
   "source": [
    "🛠 **Exercise:** Read through the TensorFlow documentation on random seed generation: https://www.tensorflow.org/api_docs/python/tf/random/set_seed"
   ]
  },
  {
   "cell_type": "markdown",
   "id": "97c1dea6",
   "metadata": {},
   "source": [
    "### Other Ways to Make Tensors"
   ]
  },
  {
   "cell_type": "code",
   "execution_count": 12,
   "id": "6c19d727",
   "metadata": {},
   "outputs": [
    {
     "data": {
      "text/plain": [
       "<tf.Tensor: shape=(2, 3), dtype=float32, numpy=\n",
       "array([[0., 0., 0.],\n",
       "       [0., 0., 0.]], dtype=float32)>"
      ]
     },
     "execution_count": 12,
     "metadata": {},
     "output_type": "execute_result"
    }
   ],
   "source": [
    "# Create a tensor of all ones\n",
    "tf.ones([10,7])\n",
    "\n",
    "# Create a tensor of all zeroes\n",
    "tf.zeros(shape=[2,3])"
   ]
  },
  {
   "cell_type": "markdown",
   "id": "8197f020",
   "metadata": {},
   "source": [
    "#### Turn NumPy Arrays into Tensors (tensors can be run on GPU)"
   ]
  },
  {
   "cell_type": "code",
   "execution_count": 13,
   "id": "6da546c9",
   "metadata": {},
   "outputs": [
    {
     "data": {
      "text/plain": [
       "(array([ 1,  2,  3,  4,  5,  6,  7,  8,  9, 10, 11, 12, 13, 14, 15, 16, 17,\n",
       "        18, 19, 20, 21, 22, 23, 24]),\n",
       " <tf.Tensor: shape=(24,), dtype=int32, numpy=\n",
       " array([ 1,  2,  3,  4,  5,  6,  7,  8,  9, 10, 11, 12, 13, 14, 15, 16, 17,\n",
       "        18, 19, 20, 21, 22, 23, 24])>)"
      ]
     },
     "execution_count": 13,
     "metadata": {},
     "output_type": "execute_result"
    }
   ],
   "source": [
    "# Can also turn NumPy arrays into TensorFlow tensors\n",
    "import numpy as np\n",
    "\n",
    "numpy_A = np.arange(1, 25, dtype=np.int32)\n",
    "\n",
    "A = tf.constant(numpy_A)\n",
    "\n",
    "numpy_A, A\n",
    "# X = tf.constant(some_matrix) # capital for matrix or tensor\n",
    "# y = tf.constant(vector) # lowercase for vector"
   ]
  },
  {
   "cell_type": "code",
   "execution_count": 14,
   "id": "7471d65f",
   "metadata": {},
   "outputs": [
    {
     "data": {
      "text/plain": [
       "(<tf.Tensor: shape=(2, 3, 4), dtype=int32, numpy=\n",
       " array([[[ 1,  2,  3,  4],\n",
       "         [ 5,  6,  7,  8],\n",
       "         [ 9, 10, 11, 12]],\n",
       " \n",
       "        [[13, 14, 15, 16],\n",
       "         [17, 18, 19, 20],\n",
       "         [21, 22, 23, 24]]])>,\n",
       " <tf.Tensor: shape=(24,), dtype=int32, numpy=\n",
       " array([ 1,  2,  3,  4,  5,  6,  7,  8,  9, 10, 11, 12, 13, 14, 15, 16, 17,\n",
       "        18, 19, 20, 21, 22, 23, 24])>)"
      ]
     },
     "execution_count": 14,
     "metadata": {},
     "output_type": "execute_result"
    }
   ],
   "source": [
    "A = tf.constant(numpy_A, shape=(2, 3, 4)) # New tensor must have same number of elements as original tensor\n",
    "B = tf.constant(numpy_A)\n",
    "A, B"
   ]
  },
  {
   "cell_type": "markdown",
   "id": "38608f6f",
   "metadata": {},
   "source": [
    "### Getting Information from Tensors\n",
    "\n",
    "When dealing with tensors, you want to be aware of the following attributes\n",
    "* Shape\n",
    "* Rank\n",
    "* Axis or Dimension\n",
    "* Size"
   ]
  },
  {
   "cell_type": "code",
   "execution_count": 15,
   "id": "7a8ff853",
   "metadata": {},
   "outputs": [
    {
     "data": {
      "text/plain": [
       "(TensorShape([2, 3, 4, 5]), 4, <tf.Tensor: shape=(), dtype=int32, numpy=120>)"
      ]
     },
     "execution_count": 15,
     "metadata": {},
     "output_type": "execute_result"
    }
   ],
   "source": [
    "# Create a rank 4 tensor (4 dimensions)\n",
    "rank_4 = tf.zeros([2, 3, 4, 5])\n",
    "\n",
    "rank_4.shape, rank_4.ndim, tf.size(rank_4)"
   ]
  },
  {
   "cell_type": "code",
   "execution_count": 16,
   "id": "abb5d3d5",
   "metadata": {},
   "outputs": [
    {
     "name": "stdout",
     "output_type": "stream",
     "text": [
      "Datatype of every element: <dtype: 'float32'>\n",
      "Number of dimensions (rank): 4\n",
      "Shape of tensor: (2, 3, 4, 5)\n",
      "Elements along zeroeth axis: 2\n",
      "Elements along last axis: 5\n",
      "Total number of elements: 120\n"
     ]
    }
   ],
   "source": [
    "# Get various attributes of our tensor\n",
    "print(\"Datatype of every element:\", rank_4.dtype)\n",
    "print(\"Number of dimensions (rank):\", rank_4.ndim)\n",
    "print(\"Shape of tensor:\", rank_4.shape)\n",
    "print(\"Elements along zeroeth axis:\", rank_4.shape[0])\n",
    "print(\"Elements along last axis:\", rank_4.shape[-1])\n",
    "print(\"Total number of elements:\", tf.size(rank_4).numpy()) # .numpy() makes pretty number instead of tf tensor type"
   ]
  },
  {
   "cell_type": "markdown",
   "id": "5404316b",
   "metadata": {},
   "source": [
    "### Indexing Tensors\n",
    "\n",
    "Tensors can be indexed just like Python lists"
   ]
  },
  {
   "cell_type": "code",
   "execution_count": 17,
   "id": "38c9cd37",
   "metadata": {},
   "outputs": [
    {
     "data": {
      "text/plain": [
       "<tf.Tensor: shape=(1, 1, 1, 5), dtype=float32, numpy=array([[[[0., 0., 0., 0., 0.]]]], dtype=float32)>"
      ]
     },
     "execution_count": 17,
     "metadata": {},
     "output_type": "execute_result"
    }
   ],
   "source": [
    "# Get the first two elements of each dimension\n",
    "rank_4[:2, :2, :2, :2]\n",
    "\n",
    "# Get first element from each dimension from each index except final dimension\n",
    "rank_4[:1, :1, :1, :] # : -> get whole thing"
   ]
  },
  {
   "cell_type": "code",
   "execution_count": 18,
   "id": "b2a67dcc",
   "metadata": {},
   "outputs": [
    {
     "data": {
      "text/plain": [
       "<tf.Tensor: shape=(2, 2, 1), dtype=int32, numpy=\n",
       "array([[[10],\n",
       "        [ 7]],\n",
       "\n",
       "       [[ 3],\n",
       "        [ 4]]])>"
      ]
     },
     "execution_count": 18,
     "metadata": {},
     "output_type": "execute_result"
    }
   ],
   "source": [
    "# Create a rank 2 tensor (2 dimensions)\n",
    "rank_2 = tf.constant([[10, 7], [3, 4]])\n",
    "\n",
    "# Get last item of each row\n",
    "rank_2[:, -1]\n",
    "\n",
    "# Add an extra dimension\n",
    "rank_3 = rank_2[..., tf.newaxis] # ... spreads all axes \n",
    "\n",
    "# Alternative to newaxis\n",
    "rank_3 = tf.expand_dims(rank_2, axis=-1) # -1 means expand final axis\n",
    "rank_3"
   ]
  },
  {
   "cell_type": "markdown",
   "id": "9807ed4c",
   "metadata": {},
   "source": [
    "### Manipulating Tensors (Tensor Operations)\n",
    "\n",
    "**Basic Operations**\n",
    "\n",
    "`+`,`-`,`*`,`/`"
   ]
  },
  {
   "cell_type": "code",
   "execution_count": 19,
   "id": "0f1ddd18",
   "metadata": {},
   "outputs": [
    {
     "data": {
      "text/plain": [
       "<tf.Tensor: shape=(2, 2), dtype=int32, numpy=\n",
       "array([[20, 17],\n",
       "       [13, 14]])>"
      ]
     },
     "execution_count": 19,
     "metadata": {},
     "output_type": "execute_result"
    }
   ],
   "source": [
    "# You can add values to a tensor using the addition operator\n",
    "tensor = tf.constant([[10,7], [3, 4]])\n",
    "tensor + 10 # Original tensor is unchanged"
   ]
  },
  {
   "cell_type": "code",
   "execution_count": 20,
   "id": "e6d8f85f",
   "metadata": {},
   "outputs": [
    {
     "data": {
      "text/plain": [
       "<tf.Tensor: shape=(2, 2), dtype=int32, numpy=\n",
       "array([[100,  70],\n",
       "       [ 30,  40]])>"
      ]
     },
     "execution_count": 20,
     "metadata": {},
     "output_type": "execute_result"
    }
   ],
   "source": [
    "# Multiplication also works\n",
    "tensor * 10"
   ]
  },
  {
   "cell_type": "code",
   "execution_count": 21,
   "id": "26c6d040",
   "metadata": {},
   "outputs": [
    {
     "data": {
      "text/plain": [
       "<tf.Tensor: shape=(2, 2), dtype=int32, numpy=\n",
       "array([[ 0, -3],\n",
       "       [-7, -6]])>"
      ]
     },
     "execution_count": 21,
     "metadata": {},
     "output_type": "execute_result"
    }
   ],
   "source": [
    "# Subtraction \n",
    "tensor - 10"
   ]
  },
  {
   "cell_type": "code",
   "execution_count": 22,
   "id": "11f2d61d",
   "metadata": {},
   "outputs": [
    {
     "data": {
      "text/plain": [
       "<tf.Tensor: shape=(2, 2), dtype=int32, numpy=\n",
       "array([[100,  70],\n",
       "       [ 30,  40]])>"
      ]
     },
     "execution_count": 22,
     "metadata": {},
     "output_type": "execute_result"
    }
   ],
   "source": [
    "# We can use TensorFlow functions as well\n",
    "tf.multiply(tensor, 10) # Using tensor functions is generally faster on GPUs than python operators"
   ]
  },
  {
   "cell_type": "markdown",
   "id": "6782a5e9",
   "metadata": {},
   "source": [
    "**Matrix Multiplication**\n",
    "\n",
    "In machine learning, matrix multiplication is one of the most common tensor operations.\n",
    "\n",
    "**Two Rules**\n",
    "* Inner dimensions must match\n",
    "* Reuslting matrix will be the shape of the outer dimensions"
   ]
  },
  {
   "cell_type": "code",
   "execution_count": 23,
   "id": "0a6dfcf9",
   "metadata": {},
   "outputs": [
    {
     "data": {
      "text/plain": [
       "<tf.Tensor: shape=(2, 2), dtype=int32, numpy=\n",
       "array([[121,  98],\n",
       "       [ 42,  37]])>"
      ]
     },
     "execution_count": 23,
     "metadata": {},
     "output_type": "execute_result"
    }
   ],
   "source": [
    "# Matrix multiplication in TensorFlow\n",
    "tf.matmul(tensor, tensor)"
   ]
  },
  {
   "cell_type": "code",
   "execution_count": 24,
   "id": "e9e9e969",
   "metadata": {},
   "outputs": [
    {
     "data": {
      "text/plain": [
       "<tf.Tensor: shape=(3, 2), dtype=int32, numpy=\n",
       "array([[20, 59],\n",
       "       [34, 57],\n",
       "       [30, 60]])>"
      ]
     },
     "execution_count": 24,
     "metadata": {},
     "output_type": "execute_result"
    }
   ],
   "source": [
    "A = tf.constant([[1, 2, 5], [7, 2, 1], [3, 3, 3]])\n",
    "B = tf.constant([[3, 5], [6, 7], [1, 8]])\n",
    "tf.matmul(A, B)\n",
    "A @ B # Pythonic"
   ]
  },
  {
   "cell_type": "code",
   "execution_count": 25,
   "id": "40b41aff",
   "metadata": {},
   "outputs": [
    {
     "data": {
      "text/plain": [
       "(<tf.Tensor: shape=(3, 2), dtype=int32, numpy=\n",
       " array([[1, 2],\n",
       "        [3, 4],\n",
       "        [5, 6]])>,\n",
       " <tf.Tensor: shape=(3, 2), dtype=int32, numpy=\n",
       " array([[ 7,  8],\n",
       "        [ 9, 10],\n",
       "        [11, 12]])>)"
      ]
     },
     "execution_count": 25,
     "metadata": {},
     "output_type": "execute_result"
    }
   ],
   "source": [
    "# Create a (3, 2) tensor\n",
    "X = tf.constant([[1, 2], [3, 4], [5, 6]])\n",
    "# Create another (3, 2) tensor\n",
    "Y = tf.constant([[7, 8], [9, 10], [11, 12]])\n",
    "\n",
    "X, Y"
   ]
  },
  {
   "cell_type": "code",
   "execution_count": 26,
   "id": "f12bb5c0",
   "metadata": {},
   "outputs": [],
   "source": [
    "# Try to multiply same dim (non-square) matrices\n",
    "# tf.matmul(X, Y) # invalid"
   ]
  },
  {
   "cell_type": "code",
   "execution_count": 27,
   "id": "8655dadb",
   "metadata": {},
   "outputs": [
    {
     "data": {
      "text/plain": [
       "<tf.Tensor: shape=(3, 2), dtype=int32, numpy=\n",
       "array([[ 7,  8],\n",
       "       [ 9, 10],\n",
       "       [11, 12]])>"
      ]
     },
     "execution_count": 27,
     "metadata": {},
     "output_type": "execute_result"
    }
   ],
   "source": [
    "Y"
   ]
  },
  {
   "cell_type": "code",
   "execution_count": 28,
   "id": "6c170e6d",
   "metadata": {},
   "outputs": [
    {
     "data": {
      "text/plain": [
       "<tf.Tensor: shape=(2, 3), dtype=int32, numpy=\n",
       "array([[ 7,  8,  9],\n",
       "       [10, 11, 12]])>"
      ]
     },
     "execution_count": 28,
     "metadata": {},
     "output_type": "execute_result"
    }
   ],
   "source": [
    "# Let's change the shape of Y\n",
    "tf.reshape(Y, shape=(2, 3))"
   ]
  },
  {
   "cell_type": "code",
   "execution_count": 29,
   "id": "9b5f0c93",
   "metadata": {},
   "outputs": [
    {
     "data": {
      "text/plain": [
       "<tf.Tensor: shape=(3, 3), dtype=int32, numpy=\n",
       "array([[ 27,  30,  33],\n",
       "       [ 61,  68,  75],\n",
       "       [ 95, 106, 117]])>"
      ]
     },
     "execution_count": 29,
     "metadata": {},
     "output_type": "execute_result"
    }
   ],
   "source": [
    "# Try to multiply X by reshaped Y\n",
    "tf.matmul(X, tf.reshape(Y, shape=(2,3)))"
   ]
  },
  {
   "cell_type": "code",
   "execution_count": 30,
   "id": "eb54cde3",
   "metadata": {},
   "outputs": [
    {
     "data": {
      "text/plain": [
       "<tf.Tensor: shape=(2, 2), dtype=int32, numpy=\n",
       "array([[ 58,  64],\n",
       "       [139, 154]])>"
      ]
     },
     "execution_count": 30,
     "metadata": {},
     "output_type": "execute_result"
    }
   ],
   "source": [
    "# Try using a reshaped X instead\n",
    "tf.matmul(tf.reshape(X, shape=(2, 3)), Y)"
   ]
  },
  {
   "cell_type": "code",
   "execution_count": 31,
   "id": "3cad2e95",
   "metadata": {},
   "outputs": [
    {
     "data": {
      "text/plain": [
       "(<tf.Tensor: shape=(2, 3), dtype=int32, numpy=\n",
       " array([[1, 3, 5],\n",
       "        [2, 4, 6]])>,\n",
       " <tf.Tensor: shape=(2, 3), dtype=int32, numpy=\n",
       " array([[1, 2, 3],\n",
       "        [4, 5, 6]])>)"
      ]
     },
     "execution_count": 31,
     "metadata": {},
     "output_type": "execute_result"
    }
   ],
   "source": [
    "# Can do the same with transpose\n",
    "tf.transpose(X), tf.reshape(X, shape=(2,3))"
   ]
  },
  {
   "cell_type": "code",
   "execution_count": 32,
   "id": "cea3235a",
   "metadata": {},
   "outputs": [
    {
     "data": {
      "text/plain": [
       "<tf.Tensor: shape=(2, 2), dtype=int32, numpy=\n",
       "array([[ 89,  98],\n",
       "       [116, 128]])>"
      ]
     },
     "execution_count": 32,
     "metadata": {},
     "output_type": "execute_result"
    }
   ],
   "source": [
    "# Try matrix multiplication with transpose rather than reshape\n",
    "tf.matmul(tf.transpose(X), Y)"
   ]
  },
  {
   "cell_type": "markdown",
   "id": "ff0a2663",
   "metadata": {},
   "source": [
    "**The Dot Product**\n",
    "\n",
    "Matrix m ultiplication is also reffered to as the dot product. \n",
    "\n",
    "You can perform matrix multiplication using:\n",
    "* `tf.matmul()`\n",
    "* `tf.tensordot()`"
   ]
  },
  {
   "cell_type": "code",
   "execution_count": 33,
   "id": "063e4068",
   "metadata": {},
   "outputs": [
    {
     "data": {
      "text/plain": [
       "<tf.Tensor: shape=(2, 2), dtype=int32, numpy=\n",
       "array([[ 89,  98],\n",
       "       [116, 128]])>"
      ]
     },
     "execution_count": 33,
     "metadata": {},
     "output_type": "execute_result"
    }
   ],
   "source": [
    "# Perform the dot product on X and Y (requires X *or* Y to be transposed)\n",
    "tf.tensordot(tf.transpose(X), Y, axes=1)"
   ]
  },
  {
   "cell_type": "code",
   "execution_count": 34,
   "id": "435b7926",
   "metadata": {},
   "outputs": [
    {
     "data": {
      "text/plain": [
       "<tf.Tensor: shape=(3, 3), dtype=int32, numpy=\n",
       "array([[ 23,  29,  35],\n",
       "       [ 53,  67,  81],\n",
       "       [ 83, 105, 127]])>"
      ]
     },
     "execution_count": 34,
     "metadata": {},
     "output_type": "execute_result"
    }
   ],
   "source": [
    "# Perform matrix multiplication between X and Y (transposed)\n",
    "tf.matmul(X, tf.transpose(Y))"
   ]
  },
  {
   "cell_type": "code",
   "execution_count": 35,
   "id": "e7416aef",
   "metadata": {},
   "outputs": [
    {
     "data": {
      "text/plain": [
       "<tf.Tensor: shape=(3, 3), dtype=int32, numpy=\n",
       "array([[ 27,  30,  33],\n",
       "       [ 61,  68,  75],\n",
       "       [ 95, 106, 117]])>"
      ]
     },
     "execution_count": 35,
     "metadata": {},
     "output_type": "execute_result"
    }
   ],
   "source": [
    "# Perform matrix multiplication between X and Y (reshaped)\n",
    "tf.matmul(X, tf.reshape(Y, shape=(2, 3)))"
   ]
  },
  {
   "cell_type": "code",
   "execution_count": 36,
   "id": "0d65fed2",
   "metadata": {},
   "outputs": [
    {
     "name": "stdout",
     "output_type": "stream",
     "text": [
      "Normal Y:\n",
      " tf.Tensor(\n",
      "[[ 7  8]\n",
      " [ 9 10]\n",
      " [11 12]], shape=(3, 2), dtype=int32)\n",
      "\n",
      "Reshaped Y (2, 3):\n",
      " tf.Tensor(\n",
      "[[ 7  8  9]\n",
      " [10 11 12]], shape=(2, 3), dtype=int32)\n",
      "\n",
      "Transposed Y:\n",
      " tf.Tensor(\n",
      "[[ 7  9 11]\n",
      " [ 8 10 12]], shape=(2, 3), dtype=int32)\n"
     ]
    }
   ],
   "source": [
    "# Check the values of Y, reshaped Y and transposed Y\n",
    "print(\"Normal Y:\\n\", Y)\n",
    "print(\"\\nReshaped Y (2, 3):\\n\", tf.reshape(Y, shape=(2, 3)))\n",
    "print(\"\\nTransposed Y:\\n\", tf.transpose(Y))"
   ]
  },
  {
   "cell_type": "markdown",
   "id": "43276956",
   "metadata": {},
   "source": [
    "Generally, when performing matrix multiplication on two tensors and one of the axes doesn't line up, you will transpose (rather than reshape) one of the tensors to satisfy the matrix multiplication rules."
   ]
  },
  {
   "cell_type": "markdown",
   "id": "e50aacfc",
   "metadata": {},
   "source": [
    "### Changing the Datatype of a Tensor"
   ]
  },
  {
   "cell_type": "code",
   "execution_count": 37,
   "id": "829cc5a0",
   "metadata": {},
   "outputs": [
    {
     "data": {
      "text/plain": [
       "tf.float32"
      ]
     },
     "execution_count": 37,
     "metadata": {},
     "output_type": "execute_result"
    }
   ],
   "source": [
    "# Create a new tensor with the default datatype (float32)\n",
    "B = tf.constant([1.7, 7.4])\n",
    "B.dtype"
   ]
  },
  {
   "cell_type": "code",
   "execution_count": 38,
   "id": "090aa40b",
   "metadata": {},
   "outputs": [
    {
     "data": {
      "text/plain": [
       "tf.int32"
      ]
     },
     "execution_count": 38,
     "metadata": {},
     "output_type": "execute_result"
    }
   ],
   "source": [
    "C = tf.constant([7, 10])\n",
    "C.dtype"
   ]
  },
  {
   "cell_type": "code",
   "execution_count": 39,
   "id": "f49ed2be",
   "metadata": {},
   "outputs": [
    {
     "data": {
      "text/plain": [
       "<tf.Tensor: shape=(2,), dtype=float16, numpy=array([1.7, 7.4], dtype=float16)>"
      ]
     },
     "execution_count": 39,
     "metadata": {},
     "output_type": "execute_result"
    }
   ],
   "source": [
    "# Change from float32 to float16 (reduced precision)\n",
    "D = tf.cast(B, dtype=tf.float16)\n",
    "D"
   ]
  },
  {
   "cell_type": "code",
   "execution_count": 40,
   "id": "ab7be46e",
   "metadata": {},
   "outputs": [
    {
     "data": {
      "text/plain": [
       "<tf.Tensor: shape=(2,), dtype=float32, numpy=array([ 7., 10.], dtype=float32)>"
      ]
     },
     "execution_count": 40,
     "metadata": {},
     "output_type": "execute_result"
    }
   ],
   "source": [
    "# Change from int32 to float32\n",
    "E = tf.cast(C, dtype=tf.float32)\n",
    "E"
   ]
  },
  {
   "cell_type": "markdown",
   "id": "b1ba1142",
   "metadata": {},
   "source": [
    "### Aggregating Tensors\n",
    "\n",
    "Aggregating tensors = condensing them from  multiple values down to a smaller amount of values"
   ]
  },
  {
   "cell_type": "code",
   "execution_count": 41,
   "id": "0bc77534",
   "metadata": {},
   "outputs": [
    {
     "data": {
      "text/plain": [
       "<tf.Tensor: shape=(2,), dtype=int32, numpy=array([ 7, 10])>"
      ]
     },
     "execution_count": 41,
     "metadata": {},
     "output_type": "execute_result"
    }
   ],
   "source": [
    "# Get the absolute values\n",
    "D = tf.constant([-7, -10])\n",
    "tf.abs(D)"
   ]
  },
  {
   "cell_type": "markdown",
   "id": "b7acb40a",
   "metadata": {},
   "source": [
    "Let's go through the following forms of aggregation:\n",
    "* Minimum\n",
    "* Maximum\n",
    "* Mean\n",
    "* Sum"
   ]
  },
  {
   "cell_type": "code",
   "execution_count": 42,
   "id": "c87b0384",
   "metadata": {
    "scrolled": true
   },
   "outputs": [
    {
     "data": {
      "text/plain": [
       "<tf.Tensor: shape=(50,), dtype=int32, numpy=\n",
       "array([80, 38, 12, 86, 99, 88, 46, 84, 44, 57, 38, 39, 88, 34, 20, 50, 28,\n",
       "       36, 41, 90,  3, 39, 15,  1, 15, 75, 39, 74, 82, 52, 13, 97, 15, 40,\n",
       "       20, 80, 46, 95,  5, 60, 78, 67, 69, 36, 63, 32, 43, 56, 73, 63])>"
      ]
     },
     "execution_count": 42,
     "metadata": {},
     "output_type": "execute_result"
    }
   ],
   "source": [
    "# Create a random tensor with values between 0 and 100 of size 50\n",
    "E = tf.constant(np.random.randint(0, 100, size=50))\n",
    "E"
   ]
  },
  {
   "cell_type": "code",
   "execution_count": 43,
   "id": "c27c0a55",
   "metadata": {},
   "outputs": [
    {
     "data": {
      "text/plain": [
       "<tf.Tensor: shape=(), dtype=int32, numpy=1>"
      ]
     },
     "execution_count": 43,
     "metadata": {},
     "output_type": "execute_result"
    }
   ],
   "source": [
    "# Find the minimum\n",
    "tf.reduce_min(E)"
   ]
  },
  {
   "cell_type": "code",
   "execution_count": 44,
   "id": "c6a11116",
   "metadata": {},
   "outputs": [
    {
     "data": {
      "text/plain": [
       "<tf.Tensor: shape=(), dtype=int32, numpy=99>"
      ]
     },
     "execution_count": 44,
     "metadata": {},
     "output_type": "execute_result"
    }
   ],
   "source": [
    "# Find the maximum\n",
    "tf.reduce_max(E)"
   ]
  },
  {
   "cell_type": "code",
   "execution_count": 45,
   "id": "faf08657",
   "metadata": {},
   "outputs": [
    {
     "data": {
      "text/plain": [
       "<tf.Tensor: shape=(), dtype=int32, numpy=50>"
      ]
     },
     "execution_count": 45,
     "metadata": {},
     "output_type": "execute_result"
    }
   ],
   "source": [
    "# Find the mean\n",
    "tf.reduce_mean(E)"
   ]
  },
  {
   "cell_type": "code",
   "execution_count": 46,
   "id": "67cb5b57",
   "metadata": {},
   "outputs": [
    {
     "data": {
      "text/plain": [
       "<tf.Tensor: shape=(), dtype=int32, numpy=2544>"
      ]
     },
     "execution_count": 46,
     "metadata": {},
     "output_type": "execute_result"
    }
   ],
   "source": [
    "# Find the sum\n",
    "tf.reduce_sum(E)"
   ]
  },
  {
   "cell_type": "markdown",
   "id": "3dc46ff2",
   "metadata": {},
   "source": [
    "🛠 **Exercise:** With what we have just learned, find the variance and standard deviation of tensor E using TensorFlow methods."
   ]
  },
  {
   "cell_type": "code",
   "execution_count": 47,
   "id": "60e24ed1",
   "metadata": {},
   "outputs": [
    {
     "data": {
      "text/plain": [
       "<tf.Tensor: shape=(), dtype=float32, numpy=747.5856>"
      ]
     },
     "execution_count": 47,
     "metadata": {},
     "output_type": "execute_result"
    }
   ],
   "source": [
    "# Find the variance\n",
    "tf.math.reduce_variance(tf.cast(E, dtype=tf.float32))"
   ]
  },
  {
   "cell_type": "code",
   "execution_count": 48,
   "id": "7a2260b0",
   "metadata": {},
   "outputs": [
    {
     "data": {
      "text/plain": [
       "<tf.Tensor: shape=(), dtype=float32, numpy=27.34201>"
      ]
     },
     "execution_count": 48,
     "metadata": {},
     "output_type": "execute_result"
    }
   ],
   "source": [
    "# Find the standard deviation\n",
    "tf.math.reduce_std(tf.cast(E, dtype=tf.float32)) # Cast to avoid error of requiring \"real or complex\""
   ]
  },
  {
   "cell_type": "markdown",
   "id": "07084cca",
   "metadata": {},
   "source": [
    "### Find the Positional Maximum and Minimum"
   ]
  },
  {
   "cell_type": "code",
   "execution_count": 49,
   "id": "ec27f6a9",
   "metadata": {},
   "outputs": [
    {
     "data": {
      "text/plain": [
       "<tf.Tensor: shape=(50,), dtype=float32, numpy=\n",
       "array([0.6645621 , 0.44100678, 0.3528825 , 0.46448255, 0.03366041,\n",
       "       0.68467236, 0.74011743, 0.8724445 , 0.22632635, 0.22319686,\n",
       "       0.3103881 , 0.7223358 , 0.13318717, 0.5480639 , 0.5746088 ,\n",
       "       0.8996835 , 0.00946367, 0.5212307 , 0.6345445 , 0.1993283 ,\n",
       "       0.72942245, 0.54583454, 0.10756552, 0.6767061 , 0.6602763 ,\n",
       "       0.33695042, 0.60141766, 0.21062577, 0.8527372 , 0.44062173,\n",
       "       0.9485276 , 0.23752594, 0.81179297, 0.5263394 , 0.494308  ,\n",
       "       0.21612847, 0.8457197 , 0.8718841 , 0.3083862 , 0.6868038 ,\n",
       "       0.23764038, 0.7817228 , 0.9671384 , 0.06870162, 0.79873943,\n",
       "       0.66028714, 0.5871513 , 0.16461694, 0.7381023 , 0.32054043],\n",
       "      dtype=float32)>"
      ]
     },
     "execution_count": 49,
     "metadata": {},
     "output_type": "execute_result"
    }
   ],
   "source": [
    "# Create a new tensor for finding positional maximum and minimum\n",
    "tf.random.set_seed(42)\n",
    "F = tf.random.uniform(shape=[50])\n",
    "F"
   ]
  },
  {
   "cell_type": "code",
   "execution_count": 50,
   "id": "f1be9a58",
   "metadata": {},
   "outputs": [
    {
     "data": {
      "text/plain": [
       "(<tf.Tensor: shape=(), dtype=int64, numpy=42>,\n",
       " <tf.Tensor: shape=(), dtype=float32, numpy=0.9671384>,\n",
       " <tf.Tensor: shape=(), dtype=float32, numpy=0.9671384>)"
      ]
     },
     "execution_count": 50,
     "metadata": {},
     "output_type": "execute_result"
    }
   ],
   "source": [
    "# Find the positional maximum\n",
    "tf.argmax(F), F[tf.argmax(F)], tf.reduce_max(F)"
   ]
  },
  {
   "cell_type": "code",
   "execution_count": 51,
   "id": "42d388af",
   "metadata": {},
   "outputs": [
    {
     "data": {
      "text/plain": [
       "(<tf.Tensor: shape=(), dtype=int64, numpy=16>,\n",
       " <tf.Tensor: shape=(), dtype=float32, numpy=0.009463668>,\n",
       " <tf.Tensor: shape=(), dtype=float32, numpy=0.009463668>)"
      ]
     },
     "execution_count": 51,
     "metadata": {},
     "output_type": "execute_result"
    }
   ],
   "source": [
    "# Find the positional minimum\n",
    "tf.argmin(F), F[tf.argmin(F)], tf.reduce_min(F)"
   ]
  },
  {
   "cell_type": "markdown",
   "id": "77fe779b",
   "metadata": {},
   "source": [
    "### Squeezing a Tensor (Removing all single dimensions)"
   ]
  },
  {
   "cell_type": "code",
   "execution_count": 52,
   "id": "83cd916e",
   "metadata": {},
   "outputs": [
    {
     "data": {
      "text/plain": [
       "<tf.Tensor: shape=(1, 1, 1, 1, 50), dtype=float32, numpy=\n",
       "array([[[[[0.6645621 , 0.44100678, 0.3528825 , 0.46448255, 0.03366041,\n",
       "           0.68467236, 0.74011743, 0.8724445 , 0.22632635, 0.22319686,\n",
       "           0.3103881 , 0.7223358 , 0.13318717, 0.5480639 , 0.5746088 ,\n",
       "           0.8996835 , 0.00946367, 0.5212307 , 0.6345445 , 0.1993283 ,\n",
       "           0.72942245, 0.54583454, 0.10756552, 0.6767061 , 0.6602763 ,\n",
       "           0.33695042, 0.60141766, 0.21062577, 0.8527372 , 0.44062173,\n",
       "           0.9485276 , 0.23752594, 0.81179297, 0.5263394 , 0.494308  ,\n",
       "           0.21612847, 0.8457197 , 0.8718841 , 0.3083862 , 0.6868038 ,\n",
       "           0.23764038, 0.7817228 , 0.9671384 , 0.06870162, 0.79873943,\n",
       "           0.66028714, 0.5871513 , 0.16461694, 0.7381023 , 0.32054043]]]]],\n",
       "      dtype=float32)>"
      ]
     },
     "execution_count": 52,
     "metadata": {},
     "output_type": "execute_result"
    }
   ],
   "source": [
    "# Create a tensor \n",
    "tf.random.set_seed(42)\n",
    "G = tf.constant(tf.random.uniform(shape=[50]), shape=(1, 1, 1, 1, 50))\n",
    "G"
   ]
  },
  {
   "cell_type": "code",
   "execution_count": 53,
   "id": "a08cbd08",
   "metadata": {},
   "outputs": [
    {
     "data": {
      "text/plain": [
       "(TensorShape([1, 1, 1, 1, 50]), TensorShape([50]))"
      ]
     },
     "execution_count": 53,
     "metadata": {},
     "output_type": "execute_result"
    }
   ],
   "source": [
    "G.shape, tf.squeeze(G).shape"
   ]
  },
  {
   "cell_type": "markdown",
   "id": "27c02caf",
   "metadata": {},
   "source": [
    "### One-hot Encoding Tensors"
   ]
  },
  {
   "cell_type": "code",
   "execution_count": 54,
   "id": "a0610bfe",
   "metadata": {},
   "outputs": [
    {
     "data": {
      "text/plain": [
       "<tf.Tensor: shape=(4, 4), dtype=float32, numpy=\n",
       "array([[1., 0., 0., 0.],\n",
       "       [0., 1., 0., 0.],\n",
       "       [0., 0., 1., 0.],\n",
       "       [0., 0., 0., 1.]], dtype=float32)>"
      ]
     },
     "execution_count": 54,
     "metadata": {},
     "output_type": "execute_result"
    }
   ],
   "source": [
    "# Create a list of indicies\n",
    "some_list = [0, 1, 2, 3] # Could be red, green, blue, purple\n",
    "\n",
    "# One-hot encode our list of indicies\n",
    "tf.one_hot(some_list, depth=4)"
   ]
  },
  {
   "cell_type": "code",
   "execution_count": 55,
   "id": "63bbb43e",
   "metadata": {},
   "outputs": [
    {
     "data": {
      "text/plain": [
       "<tf.Tensor: shape=(4, 4), dtype=string, numpy=\n",
       "array([[b'ON', b'OFF', b'OFF', b'OFF'],\n",
       "       [b'OFF', b'ON', b'OFF', b'OFF'],\n",
       "       [b'OFF', b'OFF', b'ON', b'OFF'],\n",
       "       [b'OFF', b'OFF', b'OFF', b'ON']], dtype=object)>"
      ]
     },
     "execution_count": 55,
     "metadata": {},
     "output_type": "execute_result"
    }
   ],
   "source": [
    "# Specify custom values for one-hot encoding\n",
    "tf.one_hot(some_list, depth=4, on_value=\"ON\", off_value=\"OFF\")"
   ]
  },
  {
   "cell_type": "markdown",
   "id": "9c1c4692",
   "metadata": {},
   "source": [
    "### More TensorFlow Math Functions\n",
    "* Squaring\n",
    "* Log\n",
    "* Square Root"
   ]
  },
  {
   "cell_type": "code",
   "execution_count": 56,
   "id": "ca4a6488",
   "metadata": {},
   "outputs": [
    {
     "data": {
      "text/plain": [
       "<tf.Tensor: shape=(9,), dtype=int32, numpy=array([1, 2, 3, 4, 5, 6, 7, 8, 9])>"
      ]
     },
     "execution_count": 56,
     "metadata": {},
     "output_type": "execute_result"
    }
   ],
   "source": [
    "# Create a new tensor\n",
    "H = tf.range(1,10)\n",
    "H"
   ]
  },
  {
   "cell_type": "code",
   "execution_count": 57,
   "id": "560c8b9d",
   "metadata": {},
   "outputs": [
    {
     "data": {
      "text/plain": [
       "<tf.Tensor: shape=(9,), dtype=int32, numpy=array([ 1,  4,  9, 16, 25, 36, 49, 64, 81])>"
      ]
     },
     "execution_count": 57,
     "metadata": {},
     "output_type": "execute_result"
    }
   ],
   "source": [
    "# Square\n",
    "tf.square(H)"
   ]
  },
  {
   "cell_type": "code",
   "execution_count": 58,
   "id": "3ae9191c",
   "metadata": {},
   "outputs": [
    {
     "data": {
      "text/plain": [
       "<tf.Tensor: shape=(9,), dtype=float32, numpy=\n",
       "array([1.       , 1.4142135, 1.7320508, 2.       , 2.236068 , 2.4494898,\n",
       "       2.6457512, 2.828427 , 3.       ], dtype=float32)>"
      ]
     },
     "execution_count": 58,
     "metadata": {},
     "output_type": "execute_result"
    }
   ],
   "source": [
    "# Square Root (method requires float type)\n",
    "tf.sqrt(tf.cast(H, dtype=tf.float32))"
   ]
  },
  {
   "cell_type": "code",
   "execution_count": 59,
   "id": "8c53618b",
   "metadata": {},
   "outputs": [
    {
     "data": {
      "text/plain": [
       "<tf.Tensor: shape=(9,), dtype=float32, numpy=\n",
       "array([0.       , 0.6931472, 1.0986123, 1.3862944, 1.609438 , 1.7917595,\n",
       "       1.9459102, 2.0794415, 2.1972246], dtype=float32)>"
      ]
     },
     "execution_count": 59,
     "metadata": {},
     "output_type": "execute_result"
    }
   ],
   "source": [
    "# Log\n",
    "tf.math.log(tf.cast(H, dtype=tf.float32))"
   ]
  },
  {
   "cell_type": "markdown",
   "id": "47b64f4d",
   "metadata": {},
   "source": [
    "### Tensors and NumPy\n",
    "\n",
    "TensorFlow interacts beautifully with NumPy arrays"
   ]
  },
  {
   "cell_type": "code",
   "execution_count": 60,
   "id": "58aa671e",
   "metadata": {},
   "outputs": [
    {
     "data": {
      "text/plain": [
       "<tf.Tensor: shape=(3,), dtype=float64, numpy=array([ 3.,  7., 10.])>"
      ]
     },
     "execution_count": 60,
     "metadata": {},
     "output_type": "execute_result"
    }
   ],
   "source": [
    "# Create a tensor directly from a NumPy array\n",
    "J = tf.constant(np.array([3., 7., 10.,]))\n",
    "J"
   ]
  },
  {
   "cell_type": "code",
   "execution_count": 61,
   "id": "8c80afff",
   "metadata": {},
   "outputs": [
    {
     "data": {
      "text/plain": [
       "(array([ 3.,  7., 10.]), numpy.ndarray)"
      ]
     },
     "execution_count": 61,
     "metadata": {},
     "output_type": "execute_result"
    }
   ],
   "source": [
    "# Convert tensor back to NumPy array\n",
    "np.array(J), type(np.array(J))"
   ]
  },
  {
   "cell_type": "code",
   "execution_count": 62,
   "id": "15746542",
   "metadata": {},
   "outputs": [
    {
     "data": {
      "text/plain": [
       "(array([ 3.,  7., 10.]), numpy.ndarray)"
      ]
     },
     "execution_count": 62,
     "metadata": {},
     "output_type": "execute_result"
    }
   ],
   "source": [
    "# Convert tensor J to a NumPy array\n",
    "J.numpy(), type(J.numpy())"
   ]
  },
  {
   "cell_type": "code",
   "execution_count": 63,
   "id": "62728762",
   "metadata": {},
   "outputs": [
    {
     "data": {
      "text/plain": [
       "<tf.Tensor: shape=(1,), dtype=float32, numpy=array([3.], dtype=float32)>"
      ]
     },
     "execution_count": 63,
     "metadata": {},
     "output_type": "execute_result"
    }
   ],
   "source": [
    "J = tf.constant([3.])\n",
    "J"
   ]
  },
  {
   "cell_type": "code",
   "execution_count": 66,
   "id": "1f67a104",
   "metadata": {},
   "outputs": [
    {
     "data": {
      "text/plain": [
       "3.0"
      ]
     },
     "execution_count": 66,
     "metadata": {},
     "output_type": "execute_result"
    }
   ],
   "source": [
    "J.numpy()[0] # Access directly"
   ]
  },
  {
   "cell_type": "code",
   "execution_count": 67,
   "id": "9a07cac5",
   "metadata": {},
   "outputs": [
    {
     "data": {
      "text/plain": [
       "(tf.float64, tf.float32)"
      ]
     },
     "execution_count": 67,
     "metadata": {},
     "output_type": "execute_result"
    }
   ],
   "source": [
    "# The default types of each are slightly differrent\n",
    "numpy_J = tf.constant(np.array([3., 7., 10.]))\n",
    "tensor_J = tf.constant([3., 7., 10.])\n",
    "\n",
    "# Check the datatypes of each\n",
    "numpy_J.dtype, tensor_J.dtype"
   ]
  }
 ],
 "metadata": {
  "kernelspec": {
   "display_name": "Python 3 (ipykernel)",
   "language": "python",
   "name": "python3"
  },
  "language_info": {
   "codemirror_mode": {
    "name": "ipython",
    "version": 3
   },
   "file_extension": ".py",
   "mimetype": "text/x-python",
   "name": "python",
   "nbconvert_exporter": "python",
   "pygments_lexer": "ipython3",
   "version": "3.9.10"
  }
 },
 "nbformat": 4,
 "nbformat_minor": 5
}
