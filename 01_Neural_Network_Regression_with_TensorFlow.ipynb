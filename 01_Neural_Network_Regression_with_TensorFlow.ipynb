{
 "cells": [
  {
   "cell_type": "markdown",
   "id": "90462de6",
   "metadata": {},
   "source": [
    "# Introduction to Regression with Neural Networks in TensorFlow\n",
    "\n",
    "There are many definitions for a regression problem, but in our case, we are going to simplify it: predicting a numerical variable based on some other combination of variables"
   ]
  },
  {
   "cell_type": "code",
   "execution_count": 1,
   "id": "46f95e30",
   "metadata": {},
   "outputs": [
    {
     "name": "stdout",
     "output_type": "stream",
     "text": [
      "2.9.1\n"
     ]
    }
   ],
   "source": [
    "# Import TensorFlow\n",
    "import tensorflow as tf\n",
    "print(tf.__version__)"
   ]
  },
  {
   "cell_type": "markdown",
   "id": "d53d738e",
   "metadata": {},
   "source": [
    "### Creating Data to View and Fit"
   ]
  },
  {
   "cell_type": "code",
   "execution_count": 2,
   "id": "23d2c82a",
   "metadata": {},
   "outputs": [
    {
     "data": {
      "image/png": "[encoded data removed]",
      "text/plain": [
       "<Figure size 432x288 with 1 Axes>"
      ]
     },
     "metadata": {
      "needs_background": "light"
     },
     "output_type": "display_data"
    }
   ],
   "source": [
    "import numpy as np\n",
    "import matplotlib.pyplot as plt\n",
    "\n",
    "# Create features\n",
    "X = np.array([-7.0, -4.0, -1.0, 2.0, 5.0, 8.0, 11.0, 14.0])\n",
    "\n",
    "# Create labels\n",
    "y = np.array([3.0, 6.0, 9.0, 12.0, 15.0, 18.0, 21.0, 24.0])\n",
    "\n",
    "# Visualize it\n",
    "plt.scatter(X, y)\n",
    "plt.show()"
   ]
  },
  {
   "cell_type": "markdown",
   "id": "16a8ff06",
   "metadata": {},
   "source": [
    "### Input and Output Shapes"
   ]
  },
  {
   "cell_type": "code",
   "execution_count": 3,
   "id": "4f84864d",
   "metadata": {},
   "outputs": [
    {
     "data": {
      "text/plain": [
       "(<tf.Tensor: shape=(3,), dtype=string, numpy=array([b'bedrooms', b'bathrooms', b'garage_size'], dtype=object)>,\n",
       " <tf.Tensor: shape=(1,), dtype=int32, numpy=array([939700])>)"
      ]
     },
     "execution_count": 3,
     "metadata": {},
     "output_type": "execute_result"
    }
   ],
   "source": [
    "# Create a a demo tensor for our housing price prediction problem\n",
    "house_info = tf.constant([\"bedrooms\", \"bathrooms\", \"garage_size\"])\n",
    "house_price = tf.constant([939700])\n",
    "house_info, house_price"
   ]
  },
  {
   "cell_type": "code",
   "execution_count": 4,
   "id": "36c0b265",
   "metadata": {},
   "outputs": [
    {
     "data": {
      "text/plain": [
       "(-7.0, 3.0)"
      ]
     },
     "execution_count": 4,
     "metadata": {},
     "output_type": "execute_result"
    }
   ],
   "source": [
    "X[0], y[0]"
   ]
  },
  {
   "cell_type": "code",
   "execution_count": 5,
   "id": "e72afc53",
   "metadata": {},
   "outputs": [
    {
     "data": {
      "text/plain": [
       "(-4.0, 6.0)"
      ]
     },
     "execution_count": 5,
     "metadata": {},
     "output_type": "execute_result"
    }
   ],
   "source": [
    "X[1], y[1]"
   ]
  },
  {
   "cell_type": "code",
   "execution_count": 6,
   "id": "d4ac2cbd",
   "metadata": {},
   "outputs": [
    {
     "data": {
      "text/plain": [
       "((), ())"
      ]
     },
     "execution_count": 6,
     "metadata": {},
     "output_type": "execute_result"
    }
   ],
   "source": [
    "input_shape = X[0].shape\n",
    "output_shape = y[0].shape\n",
    "output_shape, input_shape"
   ]
  },
  {
   "cell_type": "code",
   "execution_count": 7,
   "id": "71ea5075",
   "metadata": {},
   "outputs": [
    {
     "data": {
      "text/plain": [
       "(-7.0, 3.0)"
      ]
     },
     "execution_count": 7,
     "metadata": {},
     "output_type": "execute_result"
    }
   ],
   "source": [
    "X[0], y[0]"
   ]
  },
  {
   "cell_type": "code",
   "execution_count": 8,
   "id": "588739c4",
   "metadata": {},
   "outputs": [
    {
     "data": {
      "text/plain": [
       "(<tf.Tensor: shape=(8,), dtype=float32, numpy=array([-7., -4., -1.,  2.,  5.,  8., 11., 14.], dtype=float32)>,\n",
       " <tf.Tensor: shape=(8,), dtype=float32, numpy=array([ 3.,  6.,  9., 12., 15., 18., 21., 24.], dtype=float32)>)"
      ]
     },
     "execution_count": 8,
     "metadata": {},
     "output_type": "execute_result"
    }
   ],
   "source": [
    "# Turn our NumPy arays into tensors\n",
    "X = tf.cast(tf.constant(X), dtype=tf.float32)\n",
    "y = tf.cast(tf.constant(y), dtype=tf.float32)\n",
    "X, y"
   ]
  },
  {
   "cell_type": "code",
   "execution_count": 9,
   "id": "ae054a07",
   "metadata": {},
   "outputs": [
    {
     "data": {
      "text/plain": [
       "(TensorShape([]), TensorShape([]))"
      ]
     },
     "execution_count": 9,
     "metadata": {},
     "output_type": "execute_result"
    }
   ],
   "source": [
    "input_shape = X[0].shape\n",
    "output_shape = y[0].shape\n",
    "input_shape, output_shape"
   ]
  },
  {
   "cell_type": "code",
   "execution_count": 10,
   "id": "d4766307",
   "metadata": {},
   "outputs": [
    {
     "data": {
      "image/png": "[encoded data removed]",
      "text/plain": [
       "<Figure size 432x288 with 1 Axes>"
      ]
     },
     "metadata": {
      "needs_background": "light"
     },
     "output_type": "display_data"
    }
   ],
   "source": [
    "plt.scatter(X, y)\n",
    "plt.show()"
   ]
  },
  {
   "cell_type": "markdown",
   "id": "cd1fcf56",
   "metadata": {},
   "source": [
    "### Steps in Modeling with TensorFlow\n",
    "\n",
    "1. **Creating a model** - define the input and output layers as well as the hidden layers of a deep learning model\n",
    "2. **Compile a model** - define the loss function (in other words, the function which tells our model how wrong it is), the optimizer (tells our model how to improve the patterns it is learning), and the evaluation metrics (what we can use to interpret the performance of our model).\n",
    "3. **Fitting a model** - letting the model try to find patterns between X and y (features and labels)."
   ]
  },
  {
   "cell_type": "code",
   "execution_count": 11,
   "id": "3a751649",
   "metadata": {},
   "outputs": [],
   "source": [
    "X = X[..., None]\n",
    "y = y[..., None]"
   ]
  },
  {
   "cell_type": "code",
   "execution_count": 12,
   "id": "67c60c0e",
   "metadata": {},
   "outputs": [
    {
     "name": "stdout",
     "output_type": "stream",
     "text": [
      "Epoch 1/5\n",
      "1/1 [==============================] - 0s 185ms/step - loss: 11.5048 - mae: 11.5048\n",
      "Epoch 2/5\n",
      "1/1 [==============================] - 0s 1ms/step - loss: 11.3723 - mae: 11.3723\n",
      "Epoch 3/5\n",
      "1/1 [==============================] - 0s 2ms/step - loss: 11.2398 - mae: 11.2398\n",
      "Epoch 4/5\n",
      "1/1 [==============================] - 0s 2ms/step - loss: 11.1073 - mae: 11.1073\n",
      "Epoch 5/5\n",
      "1/1 [==============================] - 0s 2ms/step - loss: 10.9748 - mae: 10.9748\n"
     ]
    },
    {
     "data": {
      "text/plain": [
       "<keras.callbacks.History at 0x21375c734c0>"
      ]
     },
     "execution_count": 12,
     "metadata": {},
     "output_type": "execute_result"
    }
   ],
   "source": [
    "# Set random seed\n",
    "tf.random.set_seed(42)\n",
    "\n",
    "# 1. Create a model using the Sequential API\n",
    "model = tf.keras.Sequential([\n",
    "    tf.keras.layers.Dense(1)\n",
    "])\n",
    "\n",
    "# 2. Compile the model\n",
    "model.compile(loss=tf.keras.losses.mae, # mae = Mean Absolute Error\n",
    "              optimizer=tf.keras.optimizers.SGD(), # SGD = Stochastic Gradient Descent\n",
    "              metrics=[\"mae\"])\n",
    "\n",
    "# 3. Fit the model\n",
    "model.fit(X, y, epochs=5)"
   ]
  },
  {
   "cell_type": "code",
   "execution_count": 13,
   "id": "8e1a3fe3",
   "metadata": {},
   "outputs": [
    {
     "data": {
      "text/plain": [
       "(<tf.Tensor: shape=(8, 1), dtype=float32, numpy=\n",
       " array([[-7.],\n",
       "        [-4.],\n",
       "        [-1.],\n",
       "        [ 2.],\n",
       "        [ 5.],\n",
       "        [ 8.],\n",
       "        [11.],\n",
       "        [14.]], dtype=float32)>,\n",
       " <tf.Tensor: shape=(8, 1), dtype=float32, numpy=\n",
       " array([[ 3.],\n",
       "        [ 6.],\n",
       "        [ 9.],\n",
       "        [12.],\n",
       "        [15.],\n",
       "        [18.],\n",
       "        [21.],\n",
       "        [24.]], dtype=float32)>)"
      ]
     },
     "execution_count": 13,
     "metadata": {},
     "output_type": "execute_result"
    }
   ],
   "source": [
    "X, y"
   ]
  },
  {
   "cell_type": "code",
   "execution_count": 14,
   "id": "09486eb2",
   "metadata": {},
   "outputs": [
    {
     "name": "stdout",
     "output_type": "stream",
     "text": [
      "1/1 [==============================] - 0s 58ms/step\n"
     ]
    },
    {
     "data": {
      "text/plain": [
       "array([[12.716021]], dtype=float32)"
      ]
     },
     "execution_count": 14,
     "metadata": {},
     "output_type": "execute_result"
    }
   ],
   "source": [
    "model.predict([17.0])"
   ]
  },
  {
   "cell_type": "markdown",
   "id": "9e36491f",
   "metadata": {},
   "source": [
    "### Improving Our Model\n",
    "\n",
    "We can improve our model by altering the steps we took to create a model\n",
    "\n",
    "1. **Creating a model** - here we might add more layers, increase the number of hidden units (all called neurons) within each of the hidden layers, change the activation function of each layer\n",
    "2. **Compiling a model** - change the optimization function or perhaps the **learning rate** of the optimization function\n",
    "3. **Fit the model** - fit the model for more **epochs** or on more data"
   ]
  },
  {
   "cell_type": "code",
   "execution_count": 15,
   "id": "a9f2ed93",
   "metadata": {},
   "outputs": [
    {
     "name": "stdout",
     "output_type": "stream",
     "text": [
      "Epoch 1/100\n",
      "1/1 [==============================] - 0s 161ms/step - loss: 11.2219 - mae: 11.2219\n",
      "Epoch 2/100\n",
      "1/1 [==============================] - 0s 2ms/step - loss: 11.0894 - mae: 11.0894\n",
      "Epoch 3/100\n",
      "1/1 [==============================] - 0s 2ms/step - loss: 10.9569 - mae: 10.9569\n",
      "Epoch 4/100\n",
      "1/1 [==============================] - 0s 1ms/step - loss: 10.8244 - mae: 10.8244\n",
      "Epoch 5/100\n",
      "1/1 [==============================] - 0s 2ms/step - loss: 10.6919 - mae: 10.6919\n",
      "Epoch 6/100\n",
      "1/1 [==============================] - 0s 2ms/step - loss: 10.5594 - mae: 10.5594\n",
      "Epoch 7/100\n",
      "1/1 [==============================] - 0s 1ms/step - loss: 10.4269 - mae: 10.4269\n",
      "Epoch 8/100\n",
      "1/1 [==============================] - 0s 1ms/step - loss: 10.2944 - mae: 10.2944\n",
      "Epoch 9/100\n",
      "1/1 [==============================] - 0s 2ms/step - loss: 10.1619 - mae: 10.1619\n",
      "Epoch 10/100\n",
      "1/1 [==============================] - 0s 2ms/step - loss: 10.0294 - mae: 10.0294\n",
      "Epoch 11/100\n",
      "1/1 [==============================] - 0s 2ms/step - loss: 9.8969 - mae: 9.8969\n",
      "Epoch 12/100\n",
      "1/1 [==============================] - 0s 2ms/step - loss: 9.7644 - mae: 9.7644\n",
      "Epoch 13/100\n",
      "1/1 [==============================] - 0s 2ms/step - loss: 9.6319 - mae: 9.6319\n",
      "Epoch 14/100\n",
      "1/1 [==============================] - 0s 1000us/step - loss: 9.4994 - mae: 9.4994\n",
      "Epoch 15/100\n",
      "1/1 [==============================] - 0s 2ms/step - loss: 9.3669 - mae: 9.3669\n",
      "Epoch 16/100\n",
      "1/1 [==============================] - 0s 2ms/step - loss: 9.2344 - mae: 9.2344\n",
      "Epoch 17/100\n",
      "1/1 [==============================] - 0s 2ms/step - loss: 9.1019 - mae: 9.1019\n",
      "Epoch 18/100\n",
      "1/1 [==============================] - 0s 1ms/step - loss: 8.9694 - mae: 8.9694\n",
      "Epoch 19/100\n",
      "1/1 [==============================] - 0s 2ms/step - loss: 8.8369 - mae: 8.8369\n",
      "Epoch 20/100\n",
      "1/1 [==============================] - 0s 1ms/step - loss: 8.7044 - mae: 8.7044\n",
      "Epoch 21/100\n",
      "1/1 [==============================] - 0s 2ms/step - loss: 8.5719 - mae: 8.5719\n",
      "Epoch 22/100\n",
      "1/1 [==============================] - 0s 3ms/step - loss: 8.4394 - mae: 8.4394\n",
      "Epoch 23/100\n",
      "1/1 [==============================] - 0s 2ms/step - loss: 8.3069 - mae: 8.3069\n",
      "Epoch 24/100\n",
      "1/1 [==============================] - 0s 1000us/step - loss: 8.1744 - mae: 8.1744\n",
      "Epoch 25/100\n",
      "1/1 [==============================] - 0s 2ms/step - loss: 8.0419 - mae: 8.0419\n",
      "Epoch 26/100\n",
      "1/1 [==============================] - 0s 2ms/step - loss: 7.9094 - mae: 7.9094\n",
      "Epoch 27/100\n",
      "1/1 [==============================] - 0s 2ms/step - loss: 7.7769 - mae: 7.7769\n",
      "Epoch 28/100\n",
      "1/1 [==============================] - 0s 1ms/step - loss: 7.6444 - mae: 7.6444\n",
      "Epoch 29/100\n",
      "1/1 [==============================] - 0s 2ms/step - loss: 7.5119 - mae: 7.5119\n",
      "Epoch 30/100\n",
      "1/1 [==============================] - 0s 2ms/step - loss: 7.3794 - mae: 7.3794\n",
      "Epoch 31/100\n",
      "1/1 [==============================] - 0s 999us/step - loss: 7.2750 - mae: 7.2750\n",
      "Epoch 32/100\n",
      "1/1 [==============================] - 0s 2ms/step - loss: 7.2694 - mae: 7.2694\n",
      "Epoch 33/100\n",
      "1/1 [==============================] - 0s 1ms/step - loss: 7.2638 - mae: 7.2638\n",
      "Epoch 34/100\n",
      "1/1 [==============================] - 0s 2ms/step - loss: 7.2581 - mae: 7.2581\n",
      "Epoch 35/100\n",
      "1/1 [==============================] - 0s 2ms/step - loss: 7.2525 - mae: 7.2525\n",
      "Epoch 36/100\n",
      "1/1 [==============================] - 0s 2ms/step - loss: 7.2469 - mae: 7.2469\n",
      "Epoch 37/100\n",
      "1/1 [==============================] - 0s 999us/step - loss: 7.2412 - mae: 7.2412\n",
      "Epoch 38/100\n",
      "1/1 [==============================] - 0s 2ms/step - loss: 7.2356 - mae: 7.2356\n",
      "Epoch 39/100\n",
      "1/1 [==============================] - 0s 2ms/step - loss: 7.2300 - mae: 7.2300\n",
      "Epoch 40/100\n",
      "1/1 [==============================] - 0s 2ms/step - loss: 7.2244 - mae: 7.2244\n",
      "Epoch 41/100\n",
      "1/1 [==============================] - 0s 1ms/step - loss: 7.2188 - mae: 7.2188\n",
      "Epoch 42/100\n",
      "1/1 [==============================] - 0s 1ms/step - loss: 7.2131 - mae: 7.2131\n",
      "Epoch 43/100\n",
      "1/1 [==============================] - 0s 2ms/step - loss: 7.2075 - mae: 7.2075\n",
      "Epoch 44/100\n",
      "1/1 [==============================] - 0s 1ms/step - loss: 7.2019 - mae: 7.2019\n",
      "Epoch 45/100\n",
      "1/1 [==============================] - 0s 2ms/step - loss: 7.1962 - mae: 7.1962\n",
      "Epoch 46/100\n",
      "1/1 [==============================] - 0s 1ms/step - loss: 7.1906 - mae: 7.1906\n",
      "Epoch 47/100\n",
      "1/1 [==============================] - 0s 2ms/step - loss: 7.1850 - mae: 7.1850\n",
      "Epoch 48/100\n",
      "1/1 [==============================] - 0s 2ms/step - loss: 7.1794 - mae: 7.1794\n",
      "Epoch 49/100\n",
      "1/1 [==============================] - 0s 1ms/step - loss: 7.1737 - mae: 7.1737\n",
      "Epoch 50/100\n",
      "1/1 [==============================] - 0s 2ms/step - loss: 7.1681 - mae: 7.1681\n",
      "Epoch 51/100\n",
      "1/1 [==============================] - 0s 1ms/step - loss: 7.1625 - mae: 7.1625\n",
      "Epoch 52/100\n",
      "1/1 [==============================] - 0s 2ms/step - loss: 7.1569 - mae: 7.1569\n",
      "Epoch 53/100\n",
      "1/1 [==============================] - 0s 2ms/step - loss: 7.1512 - mae: 7.1512\n",
      "Epoch 54/100\n",
      "1/1 [==============================] - 0s 2ms/step - loss: 7.1456 - mae: 7.1456\n",
      "Epoch 55/100\n",
      "1/1 [==============================] - 0s 1ms/step - loss: 7.1400 - mae: 7.1400\n",
      "Epoch 56/100\n",
      "1/1 [==============================] - 0s 1ms/step - loss: 7.1344 - mae: 7.1344\n",
      "Epoch 57/100\n",
      "1/1 [==============================] - 0s 2ms/step - loss: 7.1287 - mae: 7.1287\n",
      "Epoch 58/100\n",
      "1/1 [==============================] - 0s 2ms/step - loss: 7.1231 - mae: 7.1231\n",
      "Epoch 59/100\n",
      "1/1 [==============================] - 0s 1ms/step - loss: 7.1175 - mae: 7.1175\n",
      "Epoch 60/100\n",
      "1/1 [==============================] - 0s 2ms/step - loss: 7.1119 - mae: 7.1119\n",
      "Epoch 61/100\n",
      "1/1 [==============================] - 0s 1ms/step - loss: 7.1062 - mae: 7.1062\n",
      "Epoch 62/100\n",
      "1/1 [==============================] - 0s 2ms/step - loss: 7.1006 - mae: 7.1006\n",
      "Epoch 63/100\n",
      "1/1 [==============================] - 0s 1ms/step - loss: 7.0950 - mae: 7.0950\n",
      "Epoch 64/100\n",
      "1/1 [==============================] - 0s 2ms/step - loss: 7.0894 - mae: 7.0894\n",
      "Epoch 65/100\n",
      "1/1 [==============================] - 0s 1000us/step - loss: 7.0838 - mae: 7.0838\n",
      "Epoch 66/100\n",
      "1/1 [==============================] - 0s 2ms/step - loss: 7.0781 - mae: 7.0781\n",
      "Epoch 67/100\n",
      "1/1 [==============================] - 0s 2ms/step - loss: 7.0725 - mae: 7.0725\n",
      "Epoch 68/100\n",
      "1/1 [==============================] - 0s 1ms/step - loss: 7.0669 - mae: 7.0669\n",
      "Epoch 69/100\n",
      "1/1 [==============================] - 0s 2ms/step - loss: 7.0613 - mae: 7.0613\n",
      "Epoch 70/100\n",
      "1/1 [==============================] - 0s 2ms/step - loss: 7.0556 - mae: 7.0556\n",
      "Epoch 71/100\n",
      "1/1 [==============================] - 0s 1000us/step - loss: 7.0500 - mae: 7.0500\n",
      "Epoch 72/100\n",
      "1/1 [==============================] - 0s 2ms/step - loss: 7.0444 - mae: 7.0444\n",
      "Epoch 73/100\n",
      "1/1 [==============================] - 0s 1ms/step - loss: 7.0388 - mae: 7.0388\n",
      "Epoch 74/100\n",
      "1/1 [==============================] - 0s 2ms/step - loss: 7.0331 - mae: 7.0331\n",
      "Epoch 75/100\n",
      "1/1 [==============================] - 0s 1ms/step - loss: 7.0275 - mae: 7.0275\n",
      "Epoch 76/100\n",
      "1/1 [==============================] - 0s 2ms/step - loss: 7.0219 - mae: 7.0219\n",
      "Epoch 77/100\n",
      "1/1 [==============================] - 0s 1ms/step - loss: 7.0163 - mae: 7.0163\n",
      "Epoch 78/100\n",
      "1/1 [==============================] - 0s 2ms/step - loss: 7.0106 - mae: 7.0106\n",
      "Epoch 79/100\n",
      "1/1 [==============================] - 0s 2ms/step - loss: 7.0050 - mae: 7.0050\n",
      "Epoch 80/100\n",
      "1/1 [==============================] - 0s 1ms/step - loss: 6.9994 - mae: 6.9994\n",
      "Epoch 81/100\n",
      "1/1 [==============================] - 0s 1ms/step - loss: 6.9938 - mae: 6.9938\n",
      "Epoch 82/100\n",
      "1/1 [==============================] - 0s 2ms/step - loss: 6.9881 - mae: 6.9881\n",
      "Epoch 83/100\n",
      "1/1 [==============================] - 0s 1ms/step - loss: 6.9825 - mae: 6.9825\n",
      "Epoch 84/100\n",
      "1/1 [==============================] - 0s 2ms/step - loss: 6.9769 - mae: 6.9769\n",
      "Epoch 85/100\n",
      "1/1 [==============================] - 0s 1ms/step - loss: 6.9713 - mae: 6.9713\n",
      "Epoch 86/100\n",
      "1/1 [==============================] - 0s 1000us/step - loss: 6.9656 - mae: 6.9656\n",
      "Epoch 87/100\n",
      "1/1 [==============================] - 0s 2ms/step - loss: 6.9600 - mae: 6.9600\n",
      "Epoch 88/100\n"
     ]
    },
    {
     "name": "stdout",
     "output_type": "stream",
     "text": [
      "1/1 [==============================] - 0s 1ms/step - loss: 6.9544 - mae: 6.9544\n",
      "Epoch 89/100\n",
      "1/1 [==============================] - 0s 2ms/step - loss: 6.9488 - mae: 6.9488\n",
      "Epoch 90/100\n",
      "1/1 [==============================] - 0s 1000us/step - loss: 6.9431 - mae: 6.9431\n",
      "Epoch 91/100\n",
      "1/1 [==============================] - 0s 1ms/step - loss: 6.9375 - mae: 6.9375\n",
      "Epoch 92/100\n",
      "1/1 [==============================] - 0s 1ms/step - loss: 6.9319 - mae: 6.9319\n",
      "Epoch 93/100\n",
      "1/1 [==============================] - 0s 1000us/step - loss: 6.9263 - mae: 6.9263\n",
      "Epoch 94/100\n",
      "1/1 [==============================] - 0s 2ms/step - loss: 6.9206 - mae: 6.9206\n",
      "Epoch 95/100\n",
      "1/1 [==============================] - 0s 1ms/step - loss: 6.9150 - mae: 6.9150\n",
      "Epoch 96/100\n",
      "1/1 [==============================] - 0s 2ms/step - loss: 6.9094 - mae: 6.9094\n",
      "Epoch 97/100\n",
      "1/1 [==============================] - 0s 1ms/step - loss: 6.9038 - mae: 6.9038\n",
      "Epoch 98/100\n",
      "1/1 [==============================] - 0s 1ms/step - loss: 6.8981 - mae: 6.8981\n",
      "Epoch 99/100\n",
      "1/1 [==============================] - 0s 2ms/step - loss: 6.8925 - mae: 6.8925\n",
      "Epoch 100/100\n",
      "1/1 [==============================] - 0s 1ms/step - loss: 6.8869 - mae: 6.8869\n"
     ]
    },
    {
     "data": {
      "text/plain": [
       "<keras.callbacks.History at 0x2137cecdd60>"
      ]
     },
     "execution_count": 15,
     "metadata": {},
     "output_type": "execute_result"
    }
   ],
   "source": [
    "# Let's rebuild our model\n",
    "# 1. Create a model using the Sequential API\n",
    "model = tf.keras.Sequential([\n",
    "    tf.keras.layers.Dense(1),\n",
    "])\n",
    "\n",
    "# 2. Compile the model\n",
    "model.compile(loss=tf.keras.losses.mae,\n",
    "              optimizer=tf.keras.optimizers.SGD(),\n",
    "              metrics=[\"mae\"])\n",
    "\n",
    "# 3. Fit the model\n",
    "model.fit(X, y, epochs=100)"
   ]
  },
  {
   "cell_type": "code",
   "execution_count": 16,
   "id": "24154ce6",
   "metadata": {},
   "outputs": [
    {
     "name": "stdout",
     "output_type": "stream",
     "text": [
      "1/1 [==============================] - 0s 38ms/step\n"
     ]
    },
    {
     "data": {
      "text/plain": [
       "array([[29.739855]], dtype=float32)"
      ]
     },
     "execution_count": 16,
     "metadata": {},
     "output_type": "execute_result"
    }
   ],
   "source": [
    "model.predict([17.0])"
   ]
  },
  {
   "cell_type": "code",
   "execution_count": 17,
   "id": "1785c90c",
   "metadata": {},
   "outputs": [
    {
     "name": "stdout",
     "output_type": "stream",
     "text": [
      "Epoch 1/100\n",
      "1/1 [==============================] - 0s 209ms/step - loss: 11.7682 - mae: 11.7682\n",
      "Epoch 2/100\n",
      "1/1 [==============================] - 0s 4ms/step - loss: 11.0963 - mae: 11.0963\n",
      "Epoch 3/100\n",
      "1/1 [==============================] - 0s 2ms/step - loss: 10.4150 - mae: 10.4150\n",
      "Epoch 4/100\n",
      "1/1 [==============================] - 0s 1ms/step - loss: 9.7212 - mae: 9.7212\n",
      "Epoch 5/100\n",
      "1/1 [==============================] - 0s 1ms/step - loss: 9.0104 - mae: 9.0104\n",
      "Epoch 6/100\n",
      "1/1 [==============================] - 0s 2ms/step - loss: 8.2778 - mae: 8.2778\n",
      "Epoch 7/100\n",
      "1/1 [==============================] - 0s 1ms/step - loss: 7.5198 - mae: 7.5198\n",
      "Epoch 8/100\n",
      "1/1 [==============================] - 0s 2ms/step - loss: 6.9648 - mae: 6.9648\n",
      "Epoch 9/100\n",
      "1/1 [==============================] - 0s 2ms/step - loss: 7.0672 - mae: 7.0672\n",
      "Epoch 10/100\n",
      "1/1 [==============================] - 0s 2ms/step - loss: 7.3315 - mae: 7.3315\n",
      "Epoch 11/100\n",
      "1/1 [==============================] - 0s 2ms/step - loss: 7.4673 - mae: 7.4673\n",
      "Epoch 12/100\n",
      "1/1 [==============================] - 0s 2ms/step - loss: 7.5285 - mae: 7.5285\n",
      "Epoch 13/100\n",
      "1/1 [==============================] - 0s 2ms/step - loss: 7.4011 - mae: 7.4011\n",
      "Epoch 14/100\n",
      "1/1 [==============================] - 0s 2ms/step - loss: 7.1923 - mae: 7.1923\n",
      "Epoch 15/100\n",
      "1/1 [==============================] - 0s 2ms/step - loss: 6.9575 - mae: 6.9575\n",
      "Epoch 16/100\n",
      "1/1 [==============================] - 0s 2ms/step - loss: 6.6953 - mae: 6.6953\n",
      "Epoch 17/100\n",
      "1/1 [==============================] - 0s 1ms/step - loss: 6.4127 - mae: 6.4127\n",
      "Epoch 18/100\n",
      "1/1 [==============================] - 0s 2ms/step - loss: 6.3048 - mae: 6.3048\n",
      "Epoch 19/100\n",
      "1/1 [==============================] - 0s 2ms/step - loss: 6.2575 - mae: 6.2575\n",
      "Epoch 20/100\n",
      "1/1 [==============================] - 0s 2ms/step - loss: 6.3982 - mae: 6.3982\n",
      "Epoch 21/100\n",
      "1/1 [==============================] - 0s 999us/step - loss: 6.4551 - mae: 6.4551\n",
      "Epoch 22/100\n",
      "1/1 [==============================] - 0s 2ms/step - loss: 6.4000 - mae: 6.4000\n",
      "Epoch 23/100\n",
      "1/1 [==============================] - 0s 1ms/step - loss: 6.2482 - mae: 6.2482\n",
      "Epoch 24/100\n",
      "1/1 [==============================] - 0s 2ms/step - loss: 6.0105 - mae: 6.0105\n",
      "Epoch 25/100\n",
      "1/1 [==============================] - 0s 1ms/step - loss: 5.7876 - mae: 5.7876\n",
      "Epoch 26/100\n",
      "1/1 [==============================] - 0s 2ms/step - loss: 5.6809 - mae: 5.6809\n",
      "Epoch 27/100\n",
      "1/1 [==============================] - 0s 2ms/step - loss: 5.5715 - mae: 5.5715\n",
      "Epoch 28/100\n",
      "1/1 [==============================] - 0s 1ms/step - loss: 5.6122 - mae: 5.6122\n",
      "Epoch 29/100\n",
      "1/1 [==============================] - 0s 2ms/step - loss: 5.6074 - mae: 5.6074\n",
      "Epoch 30/100\n",
      "1/1 [==============================] - 0s 1ms/step - loss: 5.5541 - mae: 5.5541\n",
      "Epoch 31/100\n",
      "1/1 [==============================] - 0s 1ms/step - loss: 5.4568 - mae: 5.4568\n",
      "Epoch 32/100\n",
      "1/1 [==============================] - 0s 2ms/step - loss: 5.3199 - mae: 5.3199\n",
      "Epoch 33/100\n",
      "1/1 [==============================] - 0s 1000us/step - loss: 5.1477 - mae: 5.1477\n",
      "Epoch 34/100\n",
      "1/1 [==============================] - 0s 2ms/step - loss: 4.9442 - mae: 4.9442\n",
      "Epoch 35/100\n",
      "1/1 [==============================] - 0s 1ms/step - loss: 4.8239 - mae: 4.8239\n",
      "Epoch 36/100\n",
      "1/1 [==============================] - 0s 2ms/step - loss: 4.7389 - mae: 4.7389\n",
      "Epoch 37/100\n",
      "1/1 [==============================] - 0s 1000us/step - loss: 4.6657 - mae: 4.6657\n",
      "Epoch 38/100\n",
      "1/1 [==============================] - 0s 2ms/step - loss: 4.5846 - mae: 4.5846\n",
      "Epoch 39/100\n",
      "1/1 [==============================] - 0s 2ms/step - loss: 4.4027 - mae: 4.4027\n",
      "Epoch 40/100\n",
      "1/1 [==============================] - 0s 2ms/step - loss: 4.2653 - mae: 4.2653\n",
      "Epoch 41/100\n",
      "1/1 [==============================] - 0s 1000us/step - loss: 4.1212 - mae: 4.1212\n",
      "Epoch 42/100\n",
      "1/1 [==============================] - 0s 2ms/step - loss: 3.9702 - mae: 3.9702\n",
      "Epoch 43/100\n",
      "1/1 [==============================] - 0s 1ms/step - loss: 3.8272 - mae: 3.8272\n",
      "Epoch 44/100\n",
      "1/1 [==============================] - 0s 2ms/step - loss: 3.7041 - mae: 3.7041\n",
      "Epoch 45/100\n",
      "1/1 [==============================] - 0s 1000us/step - loss: 3.5320 - mae: 3.5320\n",
      "Epoch 46/100\n",
      "1/1 [==============================] - 0s 2ms/step - loss: 3.3664 - mae: 3.3664\n",
      "Epoch 47/100\n",
      "1/1 [==============================] - 0s 2ms/step - loss: 3.2116 - mae: 3.2116\n",
      "Epoch 48/100\n",
      "1/1 [==============================] - 0s 1ms/step - loss: 3.0463 - mae: 3.0463\n",
      "Epoch 49/100\n",
      "1/1 [==============================] - 0s 2ms/step - loss: 2.8705 - mae: 2.8705\n",
      "Epoch 50/100\n",
      "1/1 [==============================] - 0s 2ms/step - loss: 2.6840 - mae: 2.6840\n",
      "Epoch 51/100\n",
      "1/1 [==============================] - 0s 2ms/step - loss: 2.4868 - mae: 2.4868\n",
      "Epoch 52/100\n",
      "1/1 [==============================] - 0s 2ms/step - loss: 2.2787 - mae: 2.2787\n",
      "Epoch 53/100\n",
      "1/1 [==============================] - 0s 2ms/step - loss: 2.0596 - mae: 2.0596\n",
      "Epoch 54/100\n",
      "1/1 [==============================] - 0s 2ms/step - loss: 1.8293 - mae: 1.8293\n",
      "Epoch 55/100\n",
      "1/1 [==============================] - 0s 1000us/step - loss: 1.5876 - mae: 1.5876\n",
      "Epoch 56/100\n",
      "1/1 [==============================] - 0s 2ms/step - loss: 1.3530 - mae: 1.3530\n",
      "Epoch 57/100\n",
      "1/1 [==============================] - 0s 2ms/step - loss: 1.0849 - mae: 1.0849\n",
      "Epoch 58/100\n",
      "1/1 [==============================] - 0s 2ms/step - loss: 0.8224 - mae: 0.8224\n",
      "Epoch 59/100\n",
      "1/1 [==============================] - 0s 2ms/step - loss: 0.5467 - mae: 0.5467\n",
      "Epoch 60/100\n",
      "1/1 [==============================] - 0s 1000us/step - loss: 0.2758 - mae: 0.2758\n",
      "Epoch 61/100\n",
      "1/1 [==============================] - 0s 2ms/step - loss: 0.1354 - mae: 0.1354\n",
      "Epoch 62/100\n",
      "1/1 [==============================] - 0s 2ms/step - loss: 0.4494 - mae: 0.4494\n",
      "Epoch 63/100\n",
      "1/1 [==============================] - 0s 1ms/step - loss: 0.6498 - mae: 0.6498\n",
      "Epoch 64/100\n",
      "1/1 [==============================] - 0s 2ms/step - loss: 0.6216 - mae: 0.6216\n",
      "Epoch 65/100\n",
      "1/1 [==============================] - 0s 1000us/step - loss: 0.8036 - mae: 0.8036\n",
      "Epoch 66/100\n",
      "1/1 [==============================] - 0s 2ms/step - loss: 0.7995 - mae: 0.7995\n",
      "Epoch 67/100\n",
      "1/1 [==============================] - 0s 1ms/step - loss: 0.7409 - mae: 0.7409\n",
      "Epoch 68/100\n",
      "1/1 [==============================] - 0s 2ms/step - loss: 0.7806 - mae: 0.7806\n",
      "Epoch 69/100\n",
      "1/1 [==============================] - 0s 1ms/step - loss: 0.6305 - mae: 0.6305\n",
      "Epoch 70/100\n",
      "1/1 [==============================] - 0s 2ms/step - loss: 0.5556 - mae: 0.5556\n",
      "Epoch 71/100\n",
      "1/1 [==============================] - 0s 1ms/step - loss: 0.4306 - mae: 0.4306\n",
      "Epoch 72/100\n",
      "1/1 [==============================] - 0s 1ms/step - loss: 0.2786 - mae: 0.2786\n",
      "Epoch 73/100\n",
      "1/1 [==============================] - 0s 2ms/step - loss: 0.1378 - mae: 0.1378\n",
      "Epoch 74/100\n",
      "1/1 [==============================] - 0s 1ms/step - loss: 0.1193 - mae: 0.1193\n",
      "Epoch 75/100\n",
      "1/1 [==============================] - 0s 1ms/step - loss: 0.2777 - mae: 0.2777\n",
      "Epoch 76/100\n",
      "1/1 [==============================] - 0s 1ms/step - loss: 0.3245 - mae: 0.3245\n",
      "Epoch 77/100\n",
      "1/1 [==============================] - 0s 2ms/step - loss: 0.4157 - mae: 0.4157\n",
      "Epoch 78/100\n",
      "1/1 [==============================] - 0s 1ms/step - loss: 0.4319 - mae: 0.4319\n",
      "Epoch 79/100\n",
      "1/1 [==============================] - 0s 2ms/step - loss: 0.3391 - mae: 0.3391\n",
      "Epoch 80/100\n",
      "1/1 [==============================] - 0s 2ms/step - loss: 0.2968 - mae: 0.2968\n",
      "Epoch 81/100\n",
      "1/1 [==============================] - 0s 2ms/step - loss: 0.2355 - mae: 0.2355\n",
      "Epoch 82/100\n",
      "1/1 [==============================] - 0s 2ms/step - loss: 0.1633 - mae: 0.1633\n",
      "Epoch 83/100\n",
      "1/1 [==============================] - 0s 1000us/step - loss: 0.1339 - mae: 0.1339\n",
      "Epoch 84/100\n",
      "1/1 [==============================] - 0s 2ms/step - loss: 0.1262 - mae: 0.1262\n",
      "Epoch 85/100\n",
      "1/1 [==============================] - 0s 1ms/step - loss: 0.1702 - mae: 0.1702\n",
      "Epoch 86/100\n",
      "1/1 [==============================] - 0s 2ms/step - loss: 0.2124 - mae: 0.2124\n",
      "Epoch 87/100\n",
      "1/1 [==============================] - 0s 1ms/step - loss: 0.2288 - mae: 0.2288\n",
      "Epoch 88/100\n"
     ]
    },
    {
     "name": "stdout",
     "output_type": "stream",
     "text": [
      "1/1 [==============================] - 0s 2ms/step - loss: 0.1901 - mae: 0.1901\n",
      "Epoch 89/100\n",
      "1/1 [==============================] - 0s 1000us/step - loss: 0.1354 - mae: 0.1354\n",
      "Epoch 90/100\n",
      "1/1 [==============================] - 0s 2ms/step - loss: 0.1218 - mae: 0.1218\n",
      "Epoch 91/100\n",
      "1/1 [==============================] - 0s 1ms/step - loss: 0.0382 - mae: 0.0382\n",
      "Epoch 92/100\n",
      "1/1 [==============================] - 0s 2ms/step - loss: 0.2197 - mae: 0.2197\n",
      "Epoch 93/100\n",
      "1/1 [==============================] - 0s 1000us/step - loss: 0.2189 - mae: 0.2189\n",
      "Epoch 94/100\n",
      "1/1 [==============================] - 0s 1ms/step - loss: 0.1427 - mae: 0.1427\n",
      "Epoch 95/100\n",
      "1/1 [==============================] - 0s 2ms/step - loss: 0.1168 - mae: 0.1168\n",
      "Epoch 96/100\n",
      "1/1 [==============================] - 0s 2ms/step - loss: 0.2069 - mae: 0.2069\n",
      "Epoch 97/100\n",
      "1/1 [==============================] - 0s 2ms/step - loss: 0.1524 - mae: 0.1524\n",
      "Epoch 98/100\n",
      "1/1 [==============================] - 0s 1ms/step - loss: 0.2133 - mae: 0.2133\n",
      "Epoch 99/100\n",
      "1/1 [==============================] - 0s 1ms/step - loss: 0.2329 - mae: 0.2329\n",
      "Epoch 100/100\n",
      "1/1 [==============================] - 0s 1000us/step - loss: 0.0780 - mae: 0.0780\n"
     ]
    },
    {
     "data": {
      "text/plain": [
       "<keras.callbacks.History at 0x2137df534c0>"
      ]
     },
     "execution_count": 17,
     "metadata": {},
     "output_type": "execute_result"
    }
   ],
   "source": [
    "# Let's see if we can improve our code to improve our model\n",
    "# 1. Create a model (Add a hidden layer with )\n",
    "model = tf.keras.Sequential([\n",
    "    tf.keras.layers.Dense(50, activation=None),\n",
    "    tf.keras.layers.Dense(1),\n",
    "])\n",
    "\n",
    "# 2. Compile the model\n",
    "model.compile(loss=\"mae\",\n",
    "              optimizer=tf.keras.optimizers.Adam(learning_rate=0.01),\n",
    "              metrics=[\"mae\"])\n",
    "\n",
    "# 3. Fit the model\n",
    "model.fit(X, y, epochs=100)"
   ]
  },
  {
   "cell_type": "code",
   "execution_count": 18,
   "id": "16125b5b",
   "metadata": {},
   "outputs": [
    {
     "name": "stdout",
     "output_type": "stream",
     "text": [
      "1/1 [==============================] - 0s 32ms/step\n"
     ]
    },
    {
     "data": {
      "text/plain": [
       "array([[26.583532]], dtype=float32)"
      ]
     },
     "execution_count": 18,
     "metadata": {},
     "output_type": "execute_result"
    }
   ],
   "source": [
    "model.predict([17.0])"
   ]
  },
  {
   "cell_type": "markdown",
   "id": "6a12a270",
   "metadata": {},
   "source": [
    "### Evaluating A Model\n",
    "\n",
    "In practice, a typical workflow you will go through when building neural networks is:\n",
    "\n",
    "```\n",
    "Build a model -> fit it -> evaluate it -> tweak the model -> fit it -> evaluate it -> tweak the model -> fit it -> evaluate it -> tweak the model -> fit it -> evaluate it -> tweak the model -> ...\n",
    "```"
   ]
  },
  {
   "cell_type": "markdown",
   "id": "4050f8f7",
   "metadata": {},
   "source": [
    "When it comes to evaluation, there are three words you should memorize:\n",
    "\n",
    "> \"Visualize, visualize, visualize\"\n",
    "    \n",
    "It's a good idea to visualize:\n",
    "* The data - what data are we working with? What does it look like?\n",
    "* The model itself - what does our model look like?\n",
    "* The training of a model - how does a model perform while it learns?\n",
    "* The predictions of the model - how do the predictions of the model line up against ground truth?\n",
    "    "
   ]
  },
  {
   "cell_type": "code",
   "execution_count": 116,
   "id": "3fe0a729",
   "metadata": {},
   "outputs": [
    {
     "data": {
      "text/plain": [
       "<tf.Tensor: shape=(50,), dtype=int32, numpy=\n",
       "array([-100,  -96,  -92,  -88,  -84,  -80,  -76,  -72,  -68,  -64,  -60,\n",
       "        -56,  -52,  -48,  -44,  -40,  -36,  -32,  -28,  -24,  -20,  -16,\n",
       "        -12,   -8,   -4,    0,    4,    8,   12,   16,   20,   24,   28,\n",
       "         32,   36,   40,   44,   48,   52,   56,   60,   64,   68,   72,\n",
       "         76,   80,   84,   88,   92,   96])>"
      ]
     },
     "execution_count": 116,
     "metadata": {},
     "output_type": "execute_result"
    }
   ],
   "source": [
    "# Make a bigger dataset\n",
    "X = tf.range(-100, 100, 4)\n",
    "X"
   ]
  },
  {
   "cell_type": "code",
   "execution_count": 117,
   "id": "4f2a580f",
   "metadata": {},
   "outputs": [
    {
     "data": {
      "text/plain": [
       "<tf.Tensor: shape=(50,), dtype=int32, numpy=\n",
       "array([-90, -86, -82, -78, -74, -70, -66, -62, -58, -54, -50, -46, -42,\n",
       "       -38, -34, -30, -26, -22, -18, -14, -10,  -6,  -2,   2,   6,  10,\n",
       "        14,  18,  22,  26,  30,  34,  38,  42,  46,  50,  54,  58,  62,\n",
       "        66,  70,  74,  78,  82,  86,  90,  94,  98, 102, 106])>"
      ]
     },
     "execution_count": 117,
     "metadata": {},
     "output_type": "execute_result"
    }
   ],
   "source": [
    "# Make labels for the dataset\n",
    "y = X + 10\n",
    "y"
   ]
  },
  {
   "cell_type": "code",
   "execution_count": 118,
   "id": "243e56ac",
   "metadata": {},
   "outputs": [
    {
     "data": {
      "image/png": "[encoded data removed]",
      "text/plain": [
       "<Figure size 432x288 with 1 Axes>"
      ]
     },
     "metadata": {
      "needs_background": "light"
     },
     "output_type": "display_data"
    }
   ],
   "source": [
    "# Visualize the data\n",
    "plt.scatter(X, y);"
   ]
  },
  {
   "cell_type": "markdown",
   "id": "bb9525a1",
   "metadata": {},
   "source": [
    "#### The Three Sets...\n",
    "\n",
    "* **Training Set** - The model lerans from this data, which is typically 70-80% of the total data you have available\n",
    "* **Validation Set** - The model gets tuned on this data, which is typically 10-15% of data available\n",
    "* **Test Set** - The model is evaluated on this data to test what it has learned. This set is typically 10-15% of data available"
   ]
  },
  {
   "cell_type": "code",
   "execution_count": 119,
   "id": "c2caa4c8",
   "metadata": {},
   "outputs": [
    {
     "data": {
      "text/plain": [
       "50"
      ]
     },
     "execution_count": 119,
     "metadata": {},
     "output_type": "execute_result"
    }
   ],
   "source": [
    "# Check the length of the samples\n",
    "len(X)"
   ]
  },
  {
   "cell_type": "code",
   "execution_count": 120,
   "id": "2114c476",
   "metadata": {},
   "outputs": [],
   "source": [
    "# Split the data into train and test sets\n",
    "X_train = X[:40] # 80%\n",
    "y_train = y[:40]\n",
    "\n",
    "X_test = X[40:] # 20%\n",
    "y_test = y[40:]"
   ]
  },
  {
   "cell_type": "markdown",
   "id": "5c240251",
   "metadata": {},
   "source": [
    "### Visualizing the Data\n",
    "\n",
    "Now that we have our training and test sets, let's visualize it again!"
   ]
  },
  {
   "cell_type": "code",
   "execution_count": 24,
   "id": "d702ff25",
   "metadata": {},
   "outputs": [
    {
     "data": {
      "image/png": "[encoded data removed]",
      "text/plain": [
       "<Figure size 720x504 with 1 Axes>"
      ]
     },
     "metadata": {
      "needs_background": "light"
     },
     "output_type": "display_data"
    }
   ],
   "source": [
    "plt.figure(figsize=(10, 7))\n",
    "# Plot training data in blue\n",
    "plt.scatter(X_train, y_train, c=\"b\", label=\"Training Data\")\n",
    "# Plot test data in green\n",
    "plt.scatter(X_test, y_test, c=\"g\", label=\"Testing Data\")\n",
    "#Show a legend\n",
    "plt.legend();"
   ]
  },
  {
   "cell_type": "code",
   "execution_count": 25,
   "id": "3cae09eb",
   "metadata": {},
   "outputs": [],
   "source": [
    "# 1. Create a model\n",
    "model = tf.keras.Sequential([\n",
    "    tf.keras.layers.Dense(1)\n",
    "])\n",
    "\n",
    "# 2. Compile the model\n",
    "model.compile(loss=tf.keras.losses.mae,\n",
    "              optimizer=tf.keras.optimizers.SGD(),\n",
    "              metrics=[\"mae\"])\n",
    "\n",
    "# # 3. Fit the model\n",
    "# model.fit(X_train, y_train, epochs=100)"
   ]
  },
  {
   "cell_type": "markdown",
   "id": "66cc0714",
   "metadata": {},
   "source": [
    "### Visualizing the Model"
   ]
  },
  {
   "cell_type": "code",
   "execution_count": 51,
   "id": "280c270c",
   "metadata": {},
   "outputs": [],
   "source": [
    "# model.summary() # error here"
   ]
  },
  {
   "cell_type": "code",
   "execution_count": 97,
   "id": "7d54163a",
   "metadata": {},
   "outputs": [],
   "source": [
    "# Let's create a model which builds automatically by defining the `input_shape` in the first layer\n",
    "tf.random.set_seed(42)\n",
    "\n",
    "# Create a model\n",
    "model = tf.keras.Sequential([\n",
    "    tf.keras.layers.Dense(10, input_shape=[1], name=\"input_layer\"),\n",
    "    tf.keras.layers.Dense(1, name=\"output_layer\")\n",
    "], name=\"model_one\")\n",
    "\n",
    "# Compile the model\n",
    "model.compile(loss=tf.keras.losses.mae,\n",
    "              optimizer=tf.keras.optimizers.SGD(),\n",
    "              metrics=[\"mae\"])"
   ]
  },
  {
   "cell_type": "code",
   "execution_count": 58,
   "id": "51590837",
   "metadata": {},
   "outputs": [
    {
     "name": "stdout",
     "output_type": "stream",
     "text": [
      "Model: \"model_one\"\n",
      "_________________________________________________________________\n",
      " Layer (type)                Output Shape              Param #   \n",
      "=================================================================\n",
      " input_layer (Dense)         (None, 10)                20        \n",
      "                                                                 \n",
      " output_layer (Dense)        (None, 1)                 11        \n",
      "                                                                 \n",
      "=================================================================\n",
      "Total params: 31\n",
      "Trainable params: 31\n",
      "Non-trainable params: 0\n",
      "_________________________________________________________________\n"
     ]
    }
   ],
   "source": [
    "model.summary()"
   ]
  },
  {
   "cell_type": "markdown",
   "id": "fbe67705",
   "metadata": {},
   "source": [
    "* Total Parameters - Total number of parameters in the model\n",
    "* Trainable Parameters - Parameters the model can update as it trains\n",
    "* Non-trainable Parameters - Parameters that aren't updated during training. This is typical when you use already learned patters or parameters from other model during transfer learning."
   ]
  },
  {
   "cell_type": "code",
   "execution_count": 59,
   "id": "a77a3f83",
   "metadata": {},
   "outputs": [
    {
     "data": {
      "text/plain": [
       "<keras.callbacks.History at 0x21300b46fd0>"
      ]
     },
     "execution_count": 59,
     "metadata": {},
     "output_type": "execute_result"
    }
   ],
   "source": [
    "# Let's fit our model to the training data\n",
    "model.fit(X_train, y_train, epochs=100, verbose=0)"
   ]
  },
  {
   "cell_type": "code",
   "execution_count": 60,
   "id": "d36a187f",
   "metadata": {},
   "outputs": [
    {
     "name": "stdout",
     "output_type": "stream",
     "text": [
      "Model: \"model_one\"\n",
      "_________________________________________________________________\n",
      " Layer (type)                Output Shape              Param #   \n",
      "=================================================================\n",
      " input_layer (Dense)         (None, 10)                20        \n",
      "                                                                 \n",
      " output_layer (Dense)        (None, 1)                 11        \n",
      "                                                                 \n",
      "=================================================================\n",
      "Total params: 31\n",
      "Trainable params: 31\n",
      "Non-trainable params: 0\n",
      "_________________________________________________________________\n"
     ]
    }
   ],
   "source": [
    "# Get a summary of our model\n",
    "model.summary()"
   ]
  },
  {
   "cell_type": "code",
   "execution_count": 61,
   "id": "ed2933fe",
   "metadata": {},
   "outputs": [],
   "source": [
    "from tensorflow.keras.utils import plot_model\n",
    "#plot_model(model=model) # Need graphviz, doesn't want to work rn"
   ]
  },
  {
   "cell_type": "markdown",
   "id": "ab9ae92e",
   "metadata": {},
   "source": [
    "### Visualizing our models predictions\n",
    "\n",
    "To visualize predictions, it's a good idea to plot them against the ground truth labels.\n",
    "\n",
    "Often, you'll see this in the form of `y_test` or `y_true` vs `y_pred` (ground truth versus your models predictions)"
   ]
  },
  {
   "cell_type": "code",
   "execution_count": 63,
   "id": "009e9e81",
   "metadata": {},
   "outputs": [
    {
     "name": "stdout",
     "output_type": "stream",
     "text": [
      "1/1 [==============================] - 0s 12ms/step\n"
     ]
    },
    {
     "data": {
      "text/plain": [
       "array([[ 70.552185],\n",
       "       [ 75.13991 ],\n",
       "       [ 79.72764 ],\n",
       "       [ 84.315346],\n",
       "       [ 88.90308 ],\n",
       "       [ 93.49081 ],\n",
       "       [ 98.07852 ],\n",
       "       [102.666245],\n",
       "       [107.253975],\n",
       "       [111.84169 ]], dtype=float32)"
      ]
     },
     "execution_count": 63,
     "metadata": {},
     "output_type": "execute_result"
    }
   ],
   "source": [
    "# Make some predicitons\n",
    "y_pred = model.predict(X_test)\n",
    "y_pred"
   ]
  },
  {
   "cell_type": "markdown",
   "id": "9c6a7b07",
   "metadata": {},
   "source": [
    "🔑 **Note:** If you feel like you are going to reuse some kind of functionality in the future, it's a good idea to turn it into a function"
   ]
  },
  {
   "cell_type": "code",
   "execution_count": 66,
   "id": "9a964467",
   "metadata": {},
   "outputs": [],
   "source": [
    "# Let's create a plotting function\n",
    "def plot_predictions(train_data=X_train, train_labels=y_train, test_data=X_test, test_labels=y_test, predictions=y_pred):\n",
    "    \"\"\"\n",
    "    Plots training data, test data, and compares predicitons to ground truths\n",
    "    \"\"\"\n",
    "    plt.figure(figsize=(10, 7))\n",
    "    # Plot training datat in blue\n",
    "    plt.scatter(train_data, train_labels, c='b', label=\"Training Data\")\n",
    "    # Plot testing data in green\n",
    "    plt.scatter(test_data, test_labels, c='g', label=\"Testing Data\")\n",
    "    # Plot predictions in red\n",
    "    plt.scatter(test_data, predictions, c='r', label=\"Predictions\")\n",
    "    # Show the legend\n",
    "    plt.legend();"
   ]
  },
  {
   "cell_type": "code",
   "execution_count": 70,
   "id": "792f9f3c",
   "metadata": {},
   "outputs": [
    {
     "data": {
      "image/png": "[encoded data removed]",
      "text/plain": [
       "<Figure size 720x504 with 1 Axes>"
      ]
     },
     "metadata": {
      "needs_background": "light"
     },
     "output_type": "display_data"
    }
   ],
   "source": [
    "plot_predictions(train_data=X_train,\n",
    "                 train_labels=y_train,\n",
    "                 test_data=X_test,\n",
    "                 test_labels=y_test,\n",
    "                 predictions=y_pred)"
   ]
  },
  {
   "cell_type": "markdown",
   "id": "000152a6",
   "metadata": {},
   "source": [
    "### Evaluating Our Model's Predicitons with Regression Analysis\n",
    "\n",
    "Depending on the problem you're working on, there will be different evaluation metrics to evaluate your model's performance.\n",
    "\n",
    "Since we are working on a regression, two of the main metrics:\n",
    "* MAE - Mean Absolute Error\n",
    "* MSE - Mean Square Error"
   ]
  },
  {
   "cell_type": "code",
   "execution_count": 86,
   "id": "5991899c",
   "metadata": {},
   "outputs": [
    {
     "name": "stdout",
     "output_type": "stream",
     "text": [
      "1/1 [==============================] - 0s 25ms/step - loss: 3.1969 - mae: 3.1969\n"
     ]
    },
    {
     "data": {
      "text/plain": [
       "[3.1969382762908936, 3.1969382762908936]"
      ]
     },
     "execution_count": 86,
     "metadata": {},
     "output_type": "execute_result"
    }
   ],
   "source": [
    "# Evaluate the model on the test set\n",
    "model.evaluate(X_test, y_test)"
   ]
  },
  {
   "cell_type": "code",
   "execution_count": 87,
   "id": "19a67bb0",
   "metadata": {},
   "outputs": [
    {
     "data": {
      "text/plain": [
       "<tf.Tensor: shape=(), dtype=float32, numpy=3.19694>"
      ]
     },
     "execution_count": 87,
     "metadata": {},
     "output_type": "execute_result"
    }
   ],
   "source": [
    "# Calculate the mean absolute error\n",
    "mae = tf.metrics.mean_absolute_error(y_true=y_test, y_pred=tf.squeeze(y_pred)) # Dimension match\n",
    "mae"
   ]
  },
  {
   "cell_type": "code",
   "execution_count": 88,
   "id": "6772b284",
   "metadata": {},
   "outputs": [
    {
     "data": {
      "text/plain": [
       "<tf.Tensor: shape=(), dtype=float32, numpy=13.070127>"
      ]
     },
     "execution_count": 88,
     "metadata": {},
     "output_type": "execute_result"
    }
   ],
   "source": [
    "# Calculate the mean square error\n",
    "mse = tf.metrics.mean_squared_error(y_true=y_test, y_pred=tf.squeeze(y_pred))\n",
    "mse"
   ]
  },
  {
   "cell_type": "code",
   "execution_count": 104,
   "id": "ce6b4ed3",
   "metadata": {},
   "outputs": [],
   "source": [
    "# Make some functions to reuse MAE and MSE\n",
    "def mae(y_true, y_pred):\n",
    "    return tf.metrics.mean_absolute_error(y_true=y_true, y_pred=tf.squeeze(y_pred))\n",
    "\n",
    "def mse(y_true, y_pred):\n",
    "    return tf.metrics.mean_squared_error(y_true=y_true, y_pred=tf.squeeze(y_pred))"
   ]
  },
  {
   "cell_type": "markdown",
   "id": "a8a67fc2",
   "metadata": {},
   "source": [
    "### Running Experiments to Improve Our Model\n",
    "\n",
    "1. Get more data\n",
    "2. Make your model larger\n",
    "3. Train for longer\n",
    "\n",
    "Let's do three modeling experiments:\n",
    "\n",
    "1. `model_1` - 1 layer, trained for 100 epochs (same as original\n",
    "2. `model_2` - 2 layers, trained for 100 epochs\n",
    "3. `model_3` - 2 layers, trained for 500 epochs\n",
    "4. \n",
    "5."
   ]
  },
  {
   "cell_type": "markdown",
   "id": "5f988c8f",
   "metadata": {},
   "source": [
    "**Build `model_1`**"
   ]
  },
  {
   "cell_type": "code",
   "execution_count": 98,
   "id": "1613fe65",
   "metadata": {},
   "outputs": [
    {
     "data": {
      "text/plain": [
       "<keras.callbacks.History at 0x213036c6400>"
      ]
     },
     "execution_count": 98,
     "metadata": {},
     "output_type": "execute_result"
    }
   ],
   "source": [
    "# Set random seed\n",
    "tf.random.set_seed(42)\n",
    "\n",
    "# 1. Create the model\n",
    "model_1 = tf.keras.Sequential([\n",
    "    tf.keras.layers.Dense(1, input_shape=[1])\n",
    "])\n",
    "\n",
    "# 2. Compile the model\n",
    "model_1.compile(loss=tf.keras.losses.mae,\n",
    "                optimizer=tf.keras.optimizers.SGD(),\n",
    "                metrics=[\"mae\"])\n",
    "\n",
    "# 3. Fit the model\n",
    "model_1.fit(X_train, y_train, epochs=100, verbose=0)"
   ]
  },
  {
   "cell_type": "code",
   "execution_count": 99,
   "id": "e41281cb",
   "metadata": {},
   "outputs": [
    {
     "name": "stdout",
     "output_type": "stream",
     "text": [
      "WARNING:tensorflow:5 out of the last 6 calls to <function Model.make_predict_function.<locals>.predict_function at 0x0000021303404B80> triggered tf.function retracing. Tracing is expensive and the excessive number of tracings could be due to (1) creating @tf.function repeatedly in a loop, (2) passing tensors with different shapes, (3) passing Python objects instead of tensors. For (1), please define your @tf.function outside of the loop. For (2), @tf.function has reduce_retracing=True option that can avoid unnecessary retracing. For (3), please refer to https://www.tensorflow.org/guide/function#controlling_retracing and https://www.tensorflow.org/api_docs/python/tf/function for  more details.\n",
      "1/1 [==============================] - 0s 24ms/step\n"
     ]
    },
    {
     "data": {
      "image/png": "[encoded data removed]",
      "text/plain": [
       "<Figure size 720x504 with 1 Axes>"
      ]
     },
     "metadata": {
      "needs_background": "light"
     },
     "output_type": "display_data"
    }
   ],
   "source": [
    "y_pred_1 = model_1.predict(X_test)\n",
    "plot_predictions(X_train, y_train, X_test, y_test, y_pred_1)"
   ]
  },
  {
   "cell_type": "code",
   "execution_count": 105,
   "id": "c2fe11d4",
   "metadata": {},
   "outputs": [
    {
     "data": {
      "text/plain": [
       "(<tf.Tensor: shape=(), dtype=float32, numpy=18.745327>,\n",
       " <tf.Tensor: shape=(), dtype=float32, numpy=353.57336>)"
      ]
     },
     "execution_count": 105,
     "metadata": {},
     "output_type": "execute_result"
    }
   ],
   "source": [
    "# Calculate model_1 evalutaion metircs\n",
    "mae_1 = mae(y_test, y_pred_1)\n",
    "mse_1 = mse(y_test, y_pred_1)\n",
    "mae_1, mse_1"
   ]
  },
  {
   "cell_type": "markdown",
   "id": "94dea105",
   "metadata": {},
   "source": [
    "**Build `model_2`**"
   ]
  },
  {
   "cell_type": "code",
   "execution_count": 126,
   "id": "ab067e61",
   "metadata": {},
   "outputs": [
    {
     "data": {
      "text/plain": [
       "<keras.callbacks.History at 0x21306fb9e80>"
      ]
     },
     "execution_count": 126,
     "metadata": {},
     "output_type": "execute_result"
    }
   ],
   "source": [
    "# Set random seed \n",
    "tf.random.set_seed(42)\n",
    "\n",
    "# 1. Create the model\n",
    "model_2 = tf.keras.Sequential([\n",
    "    tf.keras.layers.Dense(10, input_shape=[1]),\n",
    "    tf.keras.layers.Dense(1)\n",
    "])\n",
    "\n",
    "# 2. Compile the model\n",
    "model_2.compile(loss=tf.keras.losses.mae,\n",
    "                optimizer=tf.keras.optimizers.SGD(),\n",
    "                metrics=[\"mse\"])\n",
    "\n",
    "# 3. Fit the model\n",
    "model_2.fit(X_train, y_train, epochs=100, verbose=0)"
   ]
  },
  {
   "cell_type": "code",
   "execution_count": 138,
   "id": "4918943f",
   "metadata": {},
   "outputs": [
    {
     "name": "stdout",
     "output_type": "stream",
     "text": [
      "1/1 [==============================] - 0s 26ms/step\n"
     ]
    },
    {
     "data": {
      "image/png": "[encoded data removed]",
      "text/plain": [
       "<Figure size 720x504 with 1 Axes>"
      ]
     },
     "metadata": {
      "needs_background": "light"
     },
     "output_type": "display_data"
    }
   ],
   "source": [
    "y_pred_2 = model_2.predict(X_test)\n",
    "\n",
    "plot_predictions(X_train, y_train, X_test, y_test, y_pred_2)"
   ]
  },
  {
   "cell_type": "code",
   "execution_count": 139,
   "id": "3629f092",
   "metadata": {},
   "outputs": [
    {
     "data": {
      "text/plain": [
       "(<tf.Tensor: shape=(), dtype=float32, numpy=3.19694>,\n",
       " <tf.Tensor: shape=(), dtype=float32, numpy=13.070127>)"
      ]
     },
     "execution_count": 139,
     "metadata": {},
     "output_type": "execute_result"
    }
   ],
   "source": [
    "mae_2 = mae(y_test, y_pred_2)\n",
    "mse_2 = mse(y_test, y_pred_2)\n",
    "mae_2, mse_2"
   ]
  },
  {
   "cell_type": "markdown",
   "id": "14e74d3e",
   "metadata": {},
   "source": [
    "**Build `model_3`**"
   ]
  },
  {
   "cell_type": "code",
   "execution_count": 140,
   "id": "5e5cd292",
   "metadata": {},
   "outputs": [
    {
     "data": {
      "text/plain": [
       "<keras.callbacks.History at 0x213035ddcd0>"
      ]
     },
     "execution_count": 140,
     "metadata": {},
     "output_type": "execute_result"
    }
   ],
   "source": [
    "# Set the seed\n",
    "tf.random.set_seed(42)\n",
    "\n",
    "model_3 = tf.keras.Sequential([\n",
    "    tf.keras.layers.Dense(10, input_shape=[1]),\n",
    "    tf.keras.layers.Dense(1)\n",
    "])\n",
    "\n",
    "model_3.compile(loss=tf.keras.losses.mae,\n",
    "                optimizer=tf.keras.optimizers.SGD(),\n",
    "                metrics=[\"mae\"])\n",
    "\n",
    "model_3.fit(X_train, y_train, epochs=500, verbose=0)"
   ]
  },
  {
   "cell_type": "code",
   "execution_count": 141,
   "id": "af21b37a",
   "metadata": {},
   "outputs": [
    {
     "name": "stdout",
     "output_type": "stream",
     "text": [
      "1/1 [==============================] - 0s 26ms/step\n"
     ]
    },
    {
     "data": {
      "image/png": "[encoded data removed]",
      "text/plain": [
       "<Figure size 720x504 with 1 Axes>"
      ]
     },
     "metadata": {
      "needs_background": "light"
     },
     "output_type": "display_data"
    }
   ],
   "source": [
    "y_pred_3 = model_3.predict(X_test)\n",
    "\n",
    "plot_predictions(X_train, y_train, X_test, y_test, y_pred_3)"
   ]
  },
  {
   "cell_type": "code",
   "execution_count": 143,
   "id": "0faf3e53",
   "metadata": {},
   "outputs": [
    {
     "data": {
      "text/plain": [
       "(<tf.Tensor: shape=(), dtype=float32, numpy=68.713615>,\n",
       " <tf.Tensor: shape=(), dtype=float32, numpy=4808.0273>)"
      ]
     },
     "execution_count": 143,
     "metadata": {},
     "output_type": "execute_result"
    }
   ],
   "source": [
    "mae_3 = mae(y_test, y_pred_3)\n",
    "mse_3 = mse(y_test, y_pred_3)\n",
    "mae_3, mse_3"
   ]
  },
  {
   "cell_type": "markdown",
   "id": "2d897ab1",
   "metadata": {},
   "source": [
    "🔑 **Note:** Start with small experiments and make sure they work. Increase scale when necessary."
   ]
  },
  {
   "cell_type": "markdown",
   "id": "abe43e7b",
   "metadata": {},
   "source": [
    "### Comparing the Results of Our Experiments\n",
    "\n",
    "We've run a few experiments now, let's compare the results"
   ]
  },
  {
   "cell_type": "code",
   "execution_count": 146,
   "id": "894d60b9",
   "metadata": {},
   "outputs": [
    {
     "data": {
      "text/html": [
       "<div>\n",
       "<style scoped>\n",
       "    .dataframe tbody tr th:only-of-type {\n",
       "        vertical-align: middle;\n",
       "    }\n",
       "\n",
       "    .dataframe tbody tr th {\n",
       "        vertical-align: top;\n",
       "    }\n",
       "\n",
       "    .dataframe thead th {\n",
       "        text-align: right;\n",
       "    }\n",
       "</style>\n",
       "<table border=\"1\" class=\"dataframe\">\n",
       "  <thead>\n",
       "    <tr style=\"text-align: right;\">\n",
       "      <th></th>\n",
       "      <th>model</th>\n",
       "      <th>mae</th>\n",
       "      <th>mse</th>\n",
       "    </tr>\n",
       "  </thead>\n",
       "  <tbody>\n",
       "    <tr>\n",
       "      <th>0</th>\n",
       "      <td>model_1</td>\n",
       "      <td>18.745327</td>\n",
       "      <td>353.573364</td>\n",
       "    </tr>\n",
       "    <tr>\n",
       "      <th>1</th>\n",
       "      <td>model_2</td>\n",
       "      <td>3.196940</td>\n",
       "      <td>13.070127</td>\n",
       "    </tr>\n",
       "    <tr>\n",
       "      <th>2</th>\n",
       "      <td>model_3</td>\n",
       "      <td>68.713615</td>\n",
       "      <td>4808.027344</td>\n",
       "    </tr>\n",
       "  </tbody>\n",
       "</table>\n",
       "</div>"
      ],
      "text/plain": [
       "     model        mae          mse\n",
       "0  model_1  18.745327   353.573364\n",
       "1  model_2   3.196940    13.070127\n",
       "2  model_3  68.713615  4808.027344"
      ]
     },
     "execution_count": 146,
     "metadata": {},
     "output_type": "execute_result"
    }
   ],
   "source": [
    "# Let's compare our models' results using Pandas\n",
    "import pandas as pd\n",
    "\n",
    "model_results = [[\"model_1\", mae_1.numpy(), mse_1.numpy()],\n",
    "                 [\"model_2\", mae_2.numpy(), mse_2.numpy()],\n",
    "                 [\"model_3\", mae_3.numpy(), mse_3.numpy()]]\n",
    "\n",
    "all_results = pd.DataFrame(model_results, columns=[\"model\", \"mae\", \"mse\"])\n",
    "all_results"
   ]
  },
  {
   "cell_type": "code",
   "execution_count": 147,
   "id": "c523013f",
   "metadata": {},
   "outputs": [
    {
     "name": "stdout",
     "output_type": "stream",
     "text": [
      "Model: \"sequential_23\"\n",
      "_________________________________________________________________\n",
      " Layer (type)                Output Shape              Param #   \n",
      "=================================================================\n",
      " dense_33 (Dense)            (None, 10)                20        \n",
      "                                                                 \n",
      " dense_34 (Dense)            (None, 1)                 11        \n",
      "                                                                 \n",
      "=================================================================\n",
      "Total params: 31\n",
      "Trainable params: 31\n",
      "Non-trainable params: 0\n",
      "_________________________________________________________________\n"
     ]
    }
   ],
   "source": [
    "model_2.summary()"
   ]
  },
  {
   "cell_type": "markdown",
   "id": "abdf987c",
   "metadata": {},
   "source": [
    "🔑 **Note:** One of your main goals should be to minimize the time between your experiments. The more experiments, the more things you can figure out about your model."
   ]
  },
  {
   "cell_type": "markdown",
   "id": "a1c659b5",
   "metadata": {},
   "source": [
    "### Tracking Your Experiments\n",
    "\n",
    "One really good habit in machine learning modeling is to track the results of your experiments.\n",
    "\n",
    "When doing so, it can be tedious if you;re running lots of experiments.\n",
    "\n",
    "Luckily, there are tools to help us.\n",
    "\n",
    "📖 **Resource:** As you build more models, you'll want to look into using :\n",
    "* TensorBoard - a component of TensorFlow library to help track modeling experiments (we'll see this one later)\n",
    "* Weights & Biases - a tool for tracking all kinds of machine learning experiments (plugs straight into TensorBoard)."
   ]
  },
  {
   "cell_type": "markdown",
   "id": "7abaf21c",
   "metadata": {},
   "source": [
    "### Saving Our Models\n",
    "\n",
    "Saving our models allows us to use them outside of Google Collab (or wherever they were trained) such as in a web application or a mobile app.\n",
    "\n",
    "There are two main formats we can save our models to:\n",
    "* The SavedModel format\n",
    "* The HDF5 format"
   ]
  },
  {
   "cell_type": "code",
   "execution_count": 148,
   "id": "ac2d0c97",
   "metadata": {},
   "outputs": [
    {
     "name": "stdout",
     "output_type": "stream",
     "text": [
      "INFO:tensorflow:Assets written to: best_model_SavedModel_format\\assets\n"
     ]
    }
   ],
   "source": [
    "# Save model using the SavedModel format\n",
    "\n",
    "model_2.save(\"best_model_SavedModel_format\")"
   ]
  },
  {
   "cell_type": "code",
   "execution_count": 149,
   "id": "9a86a9d6",
   "metadata": {},
   "outputs": [],
   "source": [
    "# Save model using the HDF5 format\n",
    "model_2.save(\"best_model_HDF5_format.h5\")"
   ]
  },
  {
   "cell_type": "markdown",
   "id": "b2d6facb",
   "metadata": {},
   "source": [
    "### Loading In a Saved Model"
   ]
  },
  {
   "cell_type": "code",
   "execution_count": 152,
   "id": "6e38aea9",
   "metadata": {},
   "outputs": [
    {
     "name": "stdout",
     "output_type": "stream",
     "text": [
      "Model: \"sequential_23\"\n",
      "_________________________________________________________________\n",
      " Layer (type)                Output Shape              Param #   \n",
      "=================================================================\n",
      " dense_33 (Dense)            (None, 10)                20        \n",
      "                                                                 \n",
      " dense_34 (Dense)            (None, 1)                 11        \n",
      "                                                                 \n",
      "=================================================================\n",
      "Total params: 31\n",
      "Trainable params: 31\n",
      "Non-trainable params: 0\n",
      "_________________________________________________________________\n"
     ]
    }
   ],
   "source": [
    "# Load in the SavedModel format model\n",
    "loaded_SavedModel_format = tf.keras.models.load_model(\"best_model_SavedModel_format/\")\n",
    "loaded_SavedModel_format.summary()"
   ]
  },
  {
   "cell_type": "code",
   "execution_count": 154,
   "id": "13c77b7b",
   "metadata": {},
   "outputs": [
    {
     "name": "stdout",
     "output_type": "stream",
     "text": [
      "1/1 [==============================] - 0s 11ms/step\n",
      "1/1 [==============================] - 0s 10ms/step\n"
     ]
    },
    {
     "data": {
      "text/plain": [
       "array([[ True],\n",
       "       [ True],\n",
       "       [ True],\n",
       "       [ True],\n",
       "       [ True],\n",
       "       [ True],\n",
       "       [ True],\n",
       "       [ True],\n",
       "       [ True],\n",
       "       [ True]])"
      ]
     },
     "execution_count": 154,
     "metadata": {},
     "output_type": "execute_result"
    }
   ],
   "source": [
    "# Compare model_2 predicitions with SavedModel format model predictions \n",
    "\n",
    "model_2_preds = model_2.predict(X_test)\n",
    "loaded_SavedModel_format_preds = loaded_SavedModel_format.predict(X_test)\n",
    "\n",
    "model_2_preds == loaded_SavedModel_format_preds"
   ]
  },
  {
   "cell_type": "code",
   "execution_count": 155,
   "id": "009f8889",
   "metadata": {},
   "outputs": [
    {
     "name": "stdout",
     "output_type": "stream",
     "text": [
      "Model: \"sequential_23\"\n",
      "_________________________________________________________________\n",
      " Layer (type)                Output Shape              Param #   \n",
      "=================================================================\n",
      " dense_33 (Dense)            (None, 10)                20        \n",
      "                                                                 \n",
      " dense_34 (Dense)            (None, 1)                 11        \n",
      "                                                                 \n",
      "=================================================================\n",
      "Total params: 31\n",
      "Trainable params: 31\n",
      "Non-trainable params: 0\n",
      "_________________________________________________________________\n"
     ]
    }
   ],
   "source": [
    "# Load in the model using the HDF5 model format\n",
    "loaded_H5_model = tf.keras.models.load_model(\"best_model_HDF5_format.h5\")\n",
    "loaded_H5_model.summary()"
   ]
  },
  {
   "cell_type": "code",
   "execution_count": 156,
   "id": "3b7689e1",
   "metadata": {},
   "outputs": [
    {
     "name": "stdout",
     "output_type": "stream",
     "text": [
      "1/1 [==============================] - 0s 10ms/step\n",
      "1/1 [==============================] - 0s 28ms/step\n"
     ]
    },
    {
     "data": {
      "text/plain": [
       "array([[ True],\n",
       "       [ True],\n",
       "       [ True],\n",
       "       [ True],\n",
       "       [ True],\n",
       "       [ True],\n",
       "       [ True],\n",
       "       [ True],\n",
       "       [ True],\n",
       "       [ True]])"
      ]
     },
     "execution_count": 156,
     "metadata": {},
     "output_type": "execute_result"
    }
   ],
   "source": [
    "# Check to see if loaded .h5 model presictions match model_2\n",
    "model_2_preds = model_2.predict(X_test)\n",
    "loaded_H5_model_preds = loaded_H5_model.predict(X_test)\n",
    "\n",
    "model_2_preds == loaded_H5_model_preds"
   ]
  },
  {
   "cell_type": "markdown",
   "id": "cc584b04",
   "metadata": {},
   "source": [
    "### A Larger Example"
   ]
  },
  {
   "cell_type": "code",
   "execution_count": 345,
   "id": "f06720db",
   "metadata": {},
   "outputs": [],
   "source": [
    "# Import the required libraries\n",
    "import tensorflow as tf\n",
    "import pandas as pd\n",
    "import matplotlib.pyplot as plt"
   ]
  },
  {
   "cell_type": "code",
   "execution_count": 346,
   "id": "50db377a",
   "metadata": {},
   "outputs": [
    {
     "data": {
      "text/html": [
       "<div>\n",
       "<style scoped>\n",
       "    .dataframe tbody tr th:only-of-type {\n",
       "        vertical-align: middle;\n",
       "    }\n",
       "\n",
       "    .dataframe tbody tr th {\n",
       "        vertical-align: top;\n",
       "    }\n",
       "\n",
       "    .dataframe thead th {\n",
       "        text-align: right;\n",
       "    }\n",
       "</style>\n",
       "<table border=\"1\" class=\"dataframe\">\n",
       "  <thead>\n",
       "    <tr style=\"text-align: right;\">\n",
       "      <th></th>\n",
       "      <th>age</th>\n",
       "      <th>sex</th>\n",
       "      <th>bmi</th>\n",
       "      <th>children</th>\n",
       "      <th>smoker</th>\n",
       "      <th>region</th>\n",
       "      <th>charges</th>\n",
       "    </tr>\n",
       "  </thead>\n",
       "  <tbody>\n",
       "    <tr>\n",
       "      <th>0</th>\n",
       "      <td>19</td>\n",
       "      <td>female</td>\n",
       "      <td>27.900</td>\n",
       "      <td>0</td>\n",
       "      <td>yes</td>\n",
       "      <td>southwest</td>\n",
       "      <td>16884.92400</td>\n",
       "    </tr>\n",
       "    <tr>\n",
       "      <th>1</th>\n",
       "      <td>18</td>\n",
       "      <td>male</td>\n",
       "      <td>33.770</td>\n",
       "      <td>1</td>\n",
       "      <td>no</td>\n",
       "      <td>southeast</td>\n",
       "      <td>1725.55230</td>\n",
       "    </tr>\n",
       "    <tr>\n",
       "      <th>2</th>\n",
       "      <td>28</td>\n",
       "      <td>male</td>\n",
       "      <td>33.000</td>\n",
       "      <td>3</td>\n",
       "      <td>no</td>\n",
       "      <td>southeast</td>\n",
       "      <td>4449.46200</td>\n",
       "    </tr>\n",
       "    <tr>\n",
       "      <th>3</th>\n",
       "      <td>33</td>\n",
       "      <td>male</td>\n",
       "      <td>22.705</td>\n",
       "      <td>0</td>\n",
       "      <td>no</td>\n",
       "      <td>northwest</td>\n",
       "      <td>21984.47061</td>\n",
       "    </tr>\n",
       "    <tr>\n",
       "      <th>4</th>\n",
       "      <td>32</td>\n",
       "      <td>male</td>\n",
       "      <td>28.880</td>\n",
       "      <td>0</td>\n",
       "      <td>no</td>\n",
       "      <td>northwest</td>\n",
       "      <td>3866.85520</td>\n",
       "    </tr>\n",
       "  </tbody>\n",
       "</table>\n",
       "</div>"
      ],
      "text/plain": [
       "   age     sex     bmi  children smoker     region      charges\n",
       "0   19  female  27.900         0    yes  southwest  16884.92400\n",
       "1   18    male  33.770         1     no  southeast   1725.55230\n",
       "2   28    male  33.000         3     no  southeast   4449.46200\n",
       "3   33    male  22.705         0     no  northwest  21984.47061\n",
       "4   32    male  28.880         0     no  northwest   3866.85520"
      ]
     },
     "execution_count": 346,
     "metadata": {},
     "output_type": "execute_result"
    }
   ],
   "source": [
    "# Read in the insurace dataset\n",
    "insurance = pd.read_csv(\"https://raw.githubusercontent.com/stedy/Machine-Learning-with-R-datasets/master/insurance.csv\")\n",
    "insurance.head()"
   ]
  },
  {
   "cell_type": "code",
   "execution_count": 347,
   "id": "dee407eb",
   "metadata": {},
   "outputs": [
    {
     "data": {
      "text/html": [
       "<div>\n",
       "<style scoped>\n",
       "    .dataframe tbody tr th:only-of-type {\n",
       "        vertical-align: middle;\n",
       "    }\n",
       "\n",
       "    .dataframe tbody tr th {\n",
       "        vertical-align: top;\n",
       "    }\n",
       "\n",
       "    .dataframe thead th {\n",
       "        text-align: right;\n",
       "    }\n",
       "</style>\n",
       "<table border=\"1\" class=\"dataframe\">\n",
       "  <thead>\n",
       "    <tr style=\"text-align: right;\">\n",
       "      <th></th>\n",
       "      <th>age</th>\n",
       "      <th>bmi</th>\n",
       "      <th>children</th>\n",
       "      <th>charges</th>\n",
       "      <th>sex_female</th>\n",
       "      <th>sex_male</th>\n",
       "      <th>smoker_no</th>\n",
       "      <th>smoker_yes</th>\n",
       "      <th>region_northeast</th>\n",
       "      <th>region_northwest</th>\n",
       "      <th>region_southeast</th>\n",
       "      <th>region_southwest</th>\n",
       "    </tr>\n",
       "  </thead>\n",
       "  <tbody>\n",
       "    <tr>\n",
       "      <th>0</th>\n",
       "      <td>19</td>\n",
       "      <td>27.900</td>\n",
       "      <td>0</td>\n",
       "      <td>16884.92400</td>\n",
       "      <td>1</td>\n",
       "      <td>0</td>\n",
       "      <td>0</td>\n",
       "      <td>1</td>\n",
       "      <td>0</td>\n",
       "      <td>0</td>\n",
       "      <td>0</td>\n",
       "      <td>1</td>\n",
       "    </tr>\n",
       "    <tr>\n",
       "      <th>1</th>\n",
       "      <td>18</td>\n",
       "      <td>33.770</td>\n",
       "      <td>1</td>\n",
       "      <td>1725.55230</td>\n",
       "      <td>0</td>\n",
       "      <td>1</td>\n",
       "      <td>1</td>\n",
       "      <td>0</td>\n",
       "      <td>0</td>\n",
       "      <td>0</td>\n",
       "      <td>1</td>\n",
       "      <td>0</td>\n",
       "    </tr>\n",
       "    <tr>\n",
       "      <th>2</th>\n",
       "      <td>28</td>\n",
       "      <td>33.000</td>\n",
       "      <td>3</td>\n",
       "      <td>4449.46200</td>\n",
       "      <td>0</td>\n",
       "      <td>1</td>\n",
       "      <td>1</td>\n",
       "      <td>0</td>\n",
       "      <td>0</td>\n",
       "      <td>0</td>\n",
       "      <td>1</td>\n",
       "      <td>0</td>\n",
       "    </tr>\n",
       "    <tr>\n",
       "      <th>3</th>\n",
       "      <td>33</td>\n",
       "      <td>22.705</td>\n",
       "      <td>0</td>\n",
       "      <td>21984.47061</td>\n",
       "      <td>0</td>\n",
       "      <td>1</td>\n",
       "      <td>1</td>\n",
       "      <td>0</td>\n",
       "      <td>0</td>\n",
       "      <td>1</td>\n",
       "      <td>0</td>\n",
       "      <td>0</td>\n",
       "    </tr>\n",
       "    <tr>\n",
       "      <th>4</th>\n",
       "      <td>32</td>\n",
       "      <td>28.880</td>\n",
       "      <td>0</td>\n",
       "      <td>3866.85520</td>\n",
       "      <td>0</td>\n",
       "      <td>1</td>\n",
       "      <td>1</td>\n",
       "      <td>0</td>\n",
       "      <td>0</td>\n",
       "      <td>1</td>\n",
       "      <td>0</td>\n",
       "      <td>0</td>\n",
       "    </tr>\n",
       "    <tr>\n",
       "      <th>...</th>\n",
       "      <td>...</td>\n",
       "      <td>...</td>\n",
       "      <td>...</td>\n",
       "      <td>...</td>\n",
       "      <td>...</td>\n",
       "      <td>...</td>\n",
       "      <td>...</td>\n",
       "      <td>...</td>\n",
       "      <td>...</td>\n",
       "      <td>...</td>\n",
       "      <td>...</td>\n",
       "      <td>...</td>\n",
       "    </tr>\n",
       "    <tr>\n",
       "      <th>1333</th>\n",
       "      <td>50</td>\n",
       "      <td>30.970</td>\n",
       "      <td>3</td>\n",
       "      <td>10600.54830</td>\n",
       "      <td>0</td>\n",
       "      <td>1</td>\n",
       "      <td>1</td>\n",
       "      <td>0</td>\n",
       "      <td>0</td>\n",
       "      <td>1</td>\n",
       "      <td>0</td>\n",
       "      <td>0</td>\n",
       "    </tr>\n",
       "    <tr>\n",
       "      <th>1334</th>\n",
       "      <td>18</td>\n",
       "      <td>31.920</td>\n",
       "      <td>0</td>\n",
       "      <td>2205.98080</td>\n",
       "      <td>1</td>\n",
       "      <td>0</td>\n",
       "      <td>1</td>\n",
       "      <td>0</td>\n",
       "      <td>1</td>\n",
       "      <td>0</td>\n",
       "      <td>0</td>\n",
       "      <td>0</td>\n",
       "    </tr>\n",
       "    <tr>\n",
       "      <th>1335</th>\n",
       "      <td>18</td>\n",
       "      <td>36.850</td>\n",
       "      <td>0</td>\n",
       "      <td>1629.83350</td>\n",
       "      <td>1</td>\n",
       "      <td>0</td>\n",
       "      <td>1</td>\n",
       "      <td>0</td>\n",
       "      <td>0</td>\n",
       "      <td>0</td>\n",
       "      <td>1</td>\n",
       "      <td>0</td>\n",
       "    </tr>\n",
       "    <tr>\n",
       "      <th>1336</th>\n",
       "      <td>21</td>\n",
       "      <td>25.800</td>\n",
       "      <td>0</td>\n",
       "      <td>2007.94500</td>\n",
       "      <td>1</td>\n",
       "      <td>0</td>\n",
       "      <td>1</td>\n",
       "      <td>0</td>\n",
       "      <td>0</td>\n",
       "      <td>0</td>\n",
       "      <td>0</td>\n",
       "      <td>1</td>\n",
       "    </tr>\n",
       "    <tr>\n",
       "      <th>1337</th>\n",
       "      <td>61</td>\n",
       "      <td>29.070</td>\n",
       "      <td>0</td>\n",
       "      <td>29141.36030</td>\n",
       "      <td>1</td>\n",
       "      <td>0</td>\n",
       "      <td>0</td>\n",
       "      <td>1</td>\n",
       "      <td>0</td>\n",
       "      <td>1</td>\n",
       "      <td>0</td>\n",
       "      <td>0</td>\n",
       "    </tr>\n",
       "  </tbody>\n",
       "</table>\n",
       "<p>1338 rows × 12 columns</p>\n",
       "</div>"
      ],
      "text/plain": [
       "      age     bmi  children      charges  sex_female  sex_male  smoker_no  \\\n",
       "0      19  27.900         0  16884.92400           1         0          0   \n",
       "1      18  33.770         1   1725.55230           0         1          1   \n",
       "2      28  33.000         3   4449.46200           0         1          1   \n",
       "3      33  22.705         0  21984.47061           0         1          1   \n",
       "4      32  28.880         0   3866.85520           0         1          1   \n",
       "...   ...     ...       ...          ...         ...       ...        ...   \n",
       "1333   50  30.970         3  10600.54830           0         1          1   \n",
       "1334   18  31.920         0   2205.98080           1         0          1   \n",
       "1335   18  36.850         0   1629.83350           1         0          1   \n",
       "1336   21  25.800         0   2007.94500           1         0          1   \n",
       "1337   61  29.070         0  29141.36030           1         0          0   \n",
       "\n",
       "      smoker_yes  region_northeast  region_northwest  region_southeast  \\\n",
       "0              1                 0                 0                 0   \n",
       "1              0                 0                 0                 1   \n",
       "2              0                 0                 0                 1   \n",
       "3              0                 0                 1                 0   \n",
       "4              0                 0                 1                 0   \n",
       "...          ...               ...               ...               ...   \n",
       "1333           0                 0                 1                 0   \n",
       "1334           0                 1                 0                 0   \n",
       "1335           0                 0                 0                 1   \n",
       "1336           0                 0                 0                 0   \n",
       "1337           1                 0                 1                 0   \n",
       "\n",
       "      region_southwest  \n",
       "0                    1  \n",
       "1                    0  \n",
       "2                    0  \n",
       "3                    0  \n",
       "4                    0  \n",
       "...                ...  \n",
       "1333                 0  \n",
       "1334                 0  \n",
       "1335                 0  \n",
       "1336                 1  \n",
       "1337                 0  \n",
       "\n",
       "[1338 rows x 12 columns]"
      ]
     },
     "execution_count": 347,
     "metadata": {},
     "output_type": "execute_result"
    }
   ],
   "source": [
    "# Let's try to one-hot encode our dataframe so it is all numbers\n",
    "insurance_one_hot = pd.get_dummies(insurance)\n",
    "insurance_one_hot"
   ]
  },
  {
   "cell_type": "code",
   "execution_count": 348,
   "id": "53ce12cf",
   "metadata": {},
   "outputs": [],
   "source": [
    "# Create X and y values (features and labels)\n",
    "\n",
    "X = insurance_one_hot.drop(\"charges\", axis=1)\n",
    "y = insurance_one_hot[\"charges\"]"
   ]
  },
  {
   "cell_type": "code",
   "execution_count": 349,
   "id": "726ad987",
   "metadata": {},
   "outputs": [
    {
     "data": {
      "text/html": [
       "<div>\n",
       "<style scoped>\n",
       "    .dataframe tbody tr th:only-of-type {\n",
       "        vertical-align: middle;\n",
       "    }\n",
       "\n",
       "    .dataframe tbody tr th {\n",
       "        vertical-align: top;\n",
       "    }\n",
       "\n",
       "    .dataframe thead th {\n",
       "        text-align: right;\n",
       "    }\n",
       "</style>\n",
       "<table border=\"1\" class=\"dataframe\">\n",
       "  <thead>\n",
       "    <tr style=\"text-align: right;\">\n",
       "      <th></th>\n",
       "      <th>age</th>\n",
       "      <th>bmi</th>\n",
       "      <th>children</th>\n",
       "      <th>sex_female</th>\n",
       "      <th>sex_male</th>\n",
       "      <th>smoker_no</th>\n",
       "      <th>smoker_yes</th>\n",
       "      <th>region_northeast</th>\n",
       "      <th>region_northwest</th>\n",
       "      <th>region_southeast</th>\n",
       "      <th>region_southwest</th>\n",
       "    </tr>\n",
       "  </thead>\n",
       "  <tbody>\n",
       "    <tr>\n",
       "      <th>0</th>\n",
       "      <td>19</td>\n",
       "      <td>27.900</td>\n",
       "      <td>0</td>\n",
       "      <td>1</td>\n",
       "      <td>0</td>\n",
       "      <td>0</td>\n",
       "      <td>1</td>\n",
       "      <td>0</td>\n",
       "      <td>0</td>\n",
       "      <td>0</td>\n",
       "      <td>1</td>\n",
       "    </tr>\n",
       "    <tr>\n",
       "      <th>1</th>\n",
       "      <td>18</td>\n",
       "      <td>33.770</td>\n",
       "      <td>1</td>\n",
       "      <td>0</td>\n",
       "      <td>1</td>\n",
       "      <td>1</td>\n",
       "      <td>0</td>\n",
       "      <td>0</td>\n",
       "      <td>0</td>\n",
       "      <td>1</td>\n",
       "      <td>0</td>\n",
       "    </tr>\n",
       "    <tr>\n",
       "      <th>2</th>\n",
       "      <td>28</td>\n",
       "      <td>33.000</td>\n",
       "      <td>3</td>\n",
       "      <td>0</td>\n",
       "      <td>1</td>\n",
       "      <td>1</td>\n",
       "      <td>0</td>\n",
       "      <td>0</td>\n",
       "      <td>0</td>\n",
       "      <td>1</td>\n",
       "      <td>0</td>\n",
       "    </tr>\n",
       "    <tr>\n",
       "      <th>3</th>\n",
       "      <td>33</td>\n",
       "      <td>22.705</td>\n",
       "      <td>0</td>\n",
       "      <td>0</td>\n",
       "      <td>1</td>\n",
       "      <td>1</td>\n",
       "      <td>0</td>\n",
       "      <td>0</td>\n",
       "      <td>1</td>\n",
       "      <td>0</td>\n",
       "      <td>0</td>\n",
       "    </tr>\n",
       "    <tr>\n",
       "      <th>4</th>\n",
       "      <td>32</td>\n",
       "      <td>28.880</td>\n",
       "      <td>0</td>\n",
       "      <td>0</td>\n",
       "      <td>1</td>\n",
       "      <td>1</td>\n",
       "      <td>0</td>\n",
       "      <td>0</td>\n",
       "      <td>1</td>\n",
       "      <td>0</td>\n",
       "      <td>0</td>\n",
       "    </tr>\n",
       "  </tbody>\n",
       "</table>\n",
       "</div>"
      ],
      "text/plain": [
       "   age     bmi  children  sex_female  sex_male  smoker_no  smoker_yes  \\\n",
       "0   19  27.900         0           1         0          0           1   \n",
       "1   18  33.770         1           0         1          1           0   \n",
       "2   28  33.000         3           0         1          1           0   \n",
       "3   33  22.705         0           0         1          1           0   \n",
       "4   32  28.880         0           0         1          1           0   \n",
       "\n",
       "   region_northeast  region_northwest  region_southeast  region_southwest  \n",
       "0                 0                 0                 0                 1  \n",
       "1                 0                 0                 1                 0  \n",
       "2                 0                 0                 1                 0  \n",
       "3                 0                 1                 0                 0  \n",
       "4                 0                 1                 0                 0  "
      ]
     },
     "execution_count": 349,
     "metadata": {},
     "output_type": "execute_result"
    }
   ],
   "source": [
    "# View X\n",
    "X.head()"
   ]
  },
  {
   "cell_type": "code",
   "execution_count": 350,
   "id": "bfb0c9a6",
   "metadata": {},
   "outputs": [
    {
     "data": {
      "text/plain": [
       "0    16884.92400\n",
       "1     1725.55230\n",
       "2     4449.46200\n",
       "3    21984.47061\n",
       "4     3866.85520\n",
       "Name: charges, dtype: float64"
      ]
     },
     "execution_count": 350,
     "metadata": {},
     "output_type": "execute_result"
    }
   ],
   "source": [
    "# View y\n",
    "y.head()"
   ]
  },
  {
   "cell_type": "code",
   "execution_count": 351,
   "id": "f2eece2b",
   "metadata": {},
   "outputs": [
    {
     "data": {
      "text/plain": [
       "(1338, 1070, 268)"
      ]
     },
     "execution_count": 351,
     "metadata": {},
     "output_type": "execute_result"
    }
   ],
   "source": [
    "# Create training and test sets\n",
    "from sklearn.model_selection import train_test_split\n",
    "\n",
    "X_train, X_test, y_train, y_test = train_test_split(X, y, test_size=0.2, random_state=42)\n",
    "len(X), len(X_train), len(X_test)"
   ]
  },
  {
   "cell_type": "code",
   "execution_count": 352,
   "id": "1f40301c",
   "metadata": {},
   "outputs": [
    {
     "name": "stdout",
     "output_type": "stream",
     "text": [
      "Epoch 1/100\n",
      "34/34 [==============================] - 0s 515us/step - loss: 8637.1006 - mae: 8637.1006\n",
      "Epoch 2/100\n",
      "34/34 [==============================] - 0s 455us/step - loss: 7886.7759 - mae: 7886.7759\n",
      "Epoch 3/100\n",
      "34/34 [==============================] - 0s 515us/step - loss: 7558.1470 - mae: 7558.1470\n",
      "Epoch 4/100\n",
      "34/34 [==============================] - 0s 515us/step - loss: 7792.0229 - mae: 7792.0229\n",
      "Epoch 5/100\n",
      "34/34 [==============================] - 0s 546us/step - loss: 7748.3892 - mae: 7748.3892\n",
      "Epoch 6/100\n",
      "34/34 [==============================] - 0s 485us/step - loss: 7595.3945 - mae: 7595.3945\n",
      "Epoch 7/100\n",
      "34/34 [==============================] - 0s 485us/step - loss: 7589.9849 - mae: 7589.9849\n",
      "Epoch 8/100\n",
      "34/34 [==============================] - 0s 485us/step - loss: 7698.5591 - mae: 7698.5591\n",
      "Epoch 9/100\n",
      "34/34 [==============================] - 0s 485us/step - loss: 7496.7788 - mae: 7496.7788\n",
      "Epoch 10/100\n",
      "34/34 [==============================] - 0s 485us/step - loss: 7493.1733 - mae: 7493.1733\n",
      "Epoch 11/100\n",
      "34/34 [==============================] - 0s 515us/step - loss: 7769.7314 - mae: 7769.7314\n",
      "Epoch 12/100\n",
      "34/34 [==============================] - 0s 515us/step - loss: 7706.9033 - mae: 7706.9033\n",
      "Epoch 13/100\n",
      "34/34 [==============================] - 0s 515us/step - loss: 7687.7227 - mae: 7687.7227\n",
      "Epoch 14/100\n",
      "34/34 [==============================] - 0s 515us/step - loss: 7689.8999 - mae: 7689.8999\n",
      "Epoch 15/100\n",
      "34/34 [==============================] - 0s 515us/step - loss: 7393.5322 - mae: 7393.5322\n",
      "Epoch 16/100\n",
      "34/34 [==============================] - 0s 485us/step - loss: 7780.6982 - mae: 7780.6982\n",
      "Epoch 17/100\n",
      "34/34 [==============================] - 0s 515us/step - loss: 7578.5093 - mae: 7578.5093\n",
      "Epoch 18/100\n",
      "34/34 [==============================] - 0s 485us/step - loss: 7750.8350 - mae: 7750.8350\n",
      "Epoch 19/100\n",
      "34/34 [==============================] - 0s 546us/step - loss: 7739.2139 - mae: 7739.2139\n",
      "Epoch 20/100\n",
      "34/34 [==============================] - 0s 485us/step - loss: 7875.0635 - mae: 7875.0635\n",
      "Epoch 21/100\n",
      "34/34 [==============================] - 0s 515us/step - loss: 7466.6768 - mae: 7466.6768\n",
      "Epoch 22/100\n",
      "34/34 [==============================] - 0s 515us/step - loss: 7941.2310 - mae: 7941.2310\n",
      "Epoch 23/100\n",
      "34/34 [==============================] - 0s 515us/step - loss: 7640.2725 - mae: 7640.2725\n",
      "Epoch 24/100\n",
      "34/34 [==============================] - 0s 485us/step - loss: 7539.2656 - mae: 7539.2656\n",
      "Epoch 25/100\n",
      "34/34 [==============================] - 0s 515us/step - loss: 7619.9658 - mae: 7619.9658\n",
      "Epoch 26/100\n",
      "34/34 [==============================] - 0s 485us/step - loss: 7644.1704 - mae: 7644.1704\n",
      "Epoch 27/100\n",
      "34/34 [==============================] - 0s 515us/step - loss: 7709.0361 - mae: 7709.0361\n",
      "Epoch 28/100\n",
      "34/34 [==============================] - 0s 515us/step - loss: 7366.8662 - mae: 7366.8662\n",
      "Epoch 29/100\n",
      "34/34 [==============================] - 0s 515us/step - loss: 7444.3135 - mae: 7444.3135\n",
      "Epoch 30/100\n",
      "34/34 [==============================] - 0s 455us/step - loss: 7616.4087 - mae: 7616.4087\n",
      "Epoch 31/100\n",
      "34/34 [==============================] - 0s 546us/step - loss: 7686.3857 - mae: 7686.3857\n",
      "Epoch 32/100\n",
      "34/34 [==============================] - 0s 515us/step - loss: 7548.0981 - mae: 7548.0981\n",
      "Epoch 33/100\n",
      "34/34 [==============================] - 0s 515us/step - loss: 7501.5527 - mae: 7501.5527\n",
      "Epoch 34/100\n",
      "34/34 [==============================] - 0s 485us/step - loss: 7363.4155 - mae: 7363.4155\n",
      "Epoch 35/100\n",
      "34/34 [==============================] - 0s 515us/step - loss: 7295.4468 - mae: 7295.4468\n",
      "Epoch 36/100\n",
      "34/34 [==============================] - 0s 485us/step - loss: 7569.8804 - mae: 7569.8804\n",
      "Epoch 37/100\n",
      "34/34 [==============================] - 0s 485us/step - loss: 7548.2002 - mae: 7548.2002\n",
      "Epoch 38/100\n",
      "34/34 [==============================] - 0s 515us/step - loss: 7424.3979 - mae: 7424.3979\n",
      "Epoch 39/100\n",
      "34/34 [==============================] - 0s 515us/step - loss: 7529.7739 - mae: 7529.7739\n",
      "Epoch 40/100\n",
      "34/34 [==============================] - 0s 485us/step - loss: 7467.3237 - mae: 7467.3237\n",
      "Epoch 41/100\n",
      "34/34 [==============================] - 0s 515us/step - loss: 7635.9282 - mae: 7635.9282\n",
      "Epoch 42/100\n",
      "34/34 [==============================] - 0s 485us/step - loss: 7536.8398 - mae: 7536.8398\n",
      "Epoch 43/100\n",
      "34/34 [==============================] - 0s 515us/step - loss: 7616.5845 - mae: 7616.5845\n",
      "Epoch 44/100\n",
      "34/34 [==============================] - 0s 546us/step - loss: 7439.4937 - mae: 7439.4937\n",
      "Epoch 45/100\n",
      "34/34 [==============================] - 0s 515us/step - loss: 7538.0151 - mae: 7538.0151\n",
      "Epoch 46/100\n",
      "34/34 [==============================] - 0s 485us/step - loss: 7415.1460 - mae: 7415.1460\n",
      "Epoch 47/100\n",
      "34/34 [==============================] - 0s 515us/step - loss: 7420.6938 - mae: 7420.6938\n",
      "Epoch 48/100\n",
      "34/34 [==============================] - 0s 515us/step - loss: 7509.9839 - mae: 7509.9839\n",
      "Epoch 49/100\n",
      "34/34 [==============================] - 0s 515us/step - loss: 7541.1123 - mae: 7541.1123\n",
      "Epoch 50/100\n",
      "34/34 [==============================] - 0s 546us/step - loss: 7467.8633 - mae: 7467.8633\n",
      "Epoch 51/100\n",
      "34/34 [==============================] - 0s 606us/step - loss: 7389.3550 - mae: 7389.3550\n",
      "Epoch 52/100\n",
      "34/34 [==============================] - 0s 546us/step - loss: 7499.7749 - mae: 7499.7749\n",
      "Epoch 53/100\n",
      "34/34 [==============================] - 0s 515us/step - loss: 7523.9277 - mae: 7523.9277\n",
      "Epoch 54/100\n",
      "34/34 [==============================] - 0s 515us/step - loss: 7243.3120 - mae: 7243.3120\n",
      "Epoch 55/100\n",
      "34/34 [==============================] - 0s 515us/step - loss: 7429.5859 - mae: 7429.5859\n",
      "Epoch 56/100\n",
      "34/34 [==============================] - 0s 485us/step - loss: 7313.4004 - mae: 7313.4004\n",
      "Epoch 57/100\n",
      "34/34 [==============================] - 0s 515us/step - loss: 7526.3887 - mae: 7526.3887\n",
      "Epoch 58/100\n",
      "34/34 [==============================] - 0s 485us/step - loss: 7542.2661 - mae: 7542.2661\n",
      "Epoch 59/100\n",
      "34/34 [==============================] - 0s 485us/step - loss: 7576.9277 - mae: 7576.9277\n",
      "Epoch 60/100\n",
      "34/34 [==============================] - 0s 485us/step - loss: 7546.4058 - mae: 7546.4058\n",
      "Epoch 61/100\n",
      "34/34 [==============================] - 0s 515us/step - loss: 7351.2261 - mae: 7351.2261\n",
      "Epoch 62/100\n",
      "34/34 [==============================] - 0s 485us/step - loss: 7302.1436 - mae: 7302.1436\n",
      "Epoch 63/100\n",
      "34/34 [==============================] - 0s 515us/step - loss: 7393.0874 - mae: 7393.0874\n",
      "Epoch 64/100\n",
      "34/34 [==============================] - 0s 485us/step - loss: 7442.2886 - mae: 7442.2886\n",
      "Epoch 65/100\n",
      "34/34 [==============================] - 0s 515us/step - loss: 7492.6782 - mae: 7492.6782\n",
      "Epoch 66/100\n",
      "34/34 [==============================] - 0s 485us/step - loss: 7561.9155 - mae: 7561.9155\n",
      "Epoch 67/100\n",
      "34/34 [==============================] - 0s 515us/step - loss: 7340.5142 - mae: 7340.5142\n",
      "Epoch 68/100\n",
      "34/34 [==============================] - 0s 485us/step - loss: 7496.0850 - mae: 7496.0850\n",
      "Epoch 69/100\n",
      "34/34 [==============================] - 0s 515us/step - loss: 7617.0298 - mae: 7617.0298\n",
      "Epoch 70/100\n",
      "34/34 [==============================] - 0s 485us/step - loss: 7641.1948 - mae: 7641.1948\n",
      "Epoch 71/100\n",
      "34/34 [==============================] - 0s 485us/step - loss: 7084.2744 - mae: 7084.2744\n",
      "Epoch 72/100\n",
      "34/34 [==============================] - 0s 485us/step - loss: 7240.4907 - mae: 7240.4907\n",
      "Epoch 73/100\n",
      "34/34 [==============================] - 0s 485us/step - loss: 7283.4888 - mae: 7283.4888\n",
      "Epoch 74/100\n",
      "34/34 [==============================] - 0s 485us/step - loss: 7335.5063 - mae: 7335.5063\n",
      "Epoch 75/100\n",
      "34/34 [==============================] - 0s 485us/step - loss: 7275.6392 - mae: 7275.6392\n",
      "Epoch 76/100\n",
      "34/34 [==============================] - 0s 515us/step - loss: 7313.1855 - mae: 7313.1855\n",
      "Epoch 77/100\n",
      "34/34 [==============================] - 0s 515us/step - loss: 7485.7583 - mae: 7485.7583\n",
      "Epoch 78/100\n",
      "34/34 [==============================] - 0s 515us/step - loss: 7352.2798 - mae: 7352.2798\n",
      "Epoch 79/100\n",
      "34/34 [==============================] - 0s 546us/step - loss: 7520.5703 - mae: 7520.5703\n",
      "Epoch 80/100\n"
     ]
    },
    {
     "name": "stdout",
     "output_type": "stream",
     "text": [
      "34/34 [==============================] - 0s 515us/step - loss: 7279.3784 - mae: 7279.3784\n",
      "Epoch 81/100\n",
      "34/34 [==============================] - 0s 546us/step - loss: 7273.8477 - mae: 7273.8477\n",
      "Epoch 82/100\n",
      "34/34 [==============================] - 0s 576us/step - loss: 7176.5210 - mae: 7176.5210\n",
      "Epoch 83/100\n",
      "34/34 [==============================] - 0s 546us/step - loss: 7425.6294 - mae: 7425.6294\n",
      "Epoch 84/100\n",
      "34/34 [==============================] - 0s 546us/step - loss: 7403.1289 - mae: 7403.1289\n",
      "Epoch 85/100\n",
      "34/34 [==============================] - 0s 515us/step - loss: 7356.0088 - mae: 7356.0088\n",
      "Epoch 86/100\n",
      "34/34 [==============================] - 0s 515us/step - loss: 7484.7271 - mae: 7484.7271\n",
      "Epoch 87/100\n",
      "34/34 [==============================] - 0s 515us/step - loss: 7217.6074 - mae: 7217.6074\n",
      "Epoch 88/100\n",
      "34/34 [==============================] - 0s 546us/step - loss: 7261.0000 - mae: 7261.0000\n",
      "Epoch 89/100\n",
      "34/34 [==============================] - 0s 546us/step - loss: 7134.1558 - mae: 7134.1558\n",
      "Epoch 90/100\n",
      "34/34 [==============================] - 0s 515us/step - loss: 7083.4351 - mae: 7083.4351\n",
      "Epoch 91/100\n",
      "34/34 [==============================] - 0s 515us/step - loss: 7254.1782 - mae: 7254.1782\n",
      "Epoch 92/100\n",
      "34/34 [==============================] - 0s 546us/step - loss: 7268.7456 - mae: 7268.7456\n",
      "Epoch 93/100\n",
      "34/34 [==============================] - 0s 576us/step - loss: 7470.5225 - mae: 7470.5225\n",
      "Epoch 94/100\n",
      "34/34 [==============================] - 0s 576us/step - loss: 7210.9541 - mae: 7210.9541\n",
      "Epoch 95/100\n",
      "34/34 [==============================] - 0s 576us/step - loss: 7395.6807 - mae: 7395.6807\n",
      "Epoch 96/100\n",
      "34/34 [==============================] - 0s 606us/step - loss: 7328.0884 - mae: 7328.0884\n",
      "Epoch 97/100\n",
      "34/34 [==============================] - 0s 576us/step - loss: 7230.4380 - mae: 7230.4380\n",
      "Epoch 98/100\n",
      "34/34 [==============================] - 0s 546us/step - loss: 7261.3936 - mae: 7261.3936\n",
      "Epoch 99/100\n",
      "34/34 [==============================] - 0s 637us/step - loss: 7342.5684 - mae: 7342.5684\n",
      "Epoch 100/100\n",
      "34/34 [==============================] - 0s 576us/step - loss: 7106.1709 - mae: 7106.1709\n"
     ]
    }
   ],
   "source": [
    "# Build a neural network\n",
    "\n",
    "tf.random.set_seed(42)\n",
    "\n",
    "# 1. Create the model\n",
    "insurance_model = tf.keras.Sequential([\n",
    "    tf.keras.layers.Dense(10),\n",
    "    tf.keras.layers.Dense(1)\n",
    "])\n",
    "\n",
    "# 2. Compile the model\n",
    "insurance_model.compile(loss=tf.keras.losses.mae,\n",
    "                        optimizer=tf.keras.optimizers.SGD(),\n",
    "                        metrics=[\"mae\"])\n",
    "\n",
    "# 3. Fit the model\n",
    "history_1 = insurance_model.fit(X_train, y_train, epochs=100)"
   ]
  },
  {
   "cell_type": "code",
   "execution_count": 353,
   "id": "0d10a8c2",
   "metadata": {},
   "outputs": [
    {
     "name": "stdout",
     "output_type": "stream",
     "text": [
      "9/9 [==============================] - 0s 625us/step - loss: 7023.3286 - mae: 7023.3286\n"
     ]
    },
    {
     "data": {
      "text/plain": [
       "[7023.32861328125, 7023.32861328125]"
      ]
     },
     "execution_count": 353,
     "metadata": {},
     "output_type": "execute_result"
    }
   ],
   "source": [
    "# Check the results of the insurance model on the test data\n",
    "insurance_model.evaluate(X_test, y_test)"
   ]
  },
  {
   "cell_type": "markdown",
   "id": "4f271df3",
   "metadata": {},
   "source": [
    "Right now, it looks like our model isn't performing too well. Let's try to improve it!\n",
    "\n",
    "To (try) to improve our model, we'll run two experiments:\n",
    "1. Add an extra layer with more hidden units and use the Adam optimizer\n",
    "2. Same as above but train for longer\n",
    "3. (Insert your own experiment here)"
   ]
  },
  {
   "cell_type": "code",
   "execution_count": 354,
   "id": "ec322aaa",
   "metadata": {},
   "outputs": [
    {
     "name": "stdout",
     "output_type": "stream",
     "text": [
      "Epoch 1/100\n",
      "34/34 [==============================] - 0s 546us/step - loss: 13273.1602 - mae: 13273.1602\n",
      "Epoch 2/100\n",
      "34/34 [==============================] - 0s 515us/step - loss: 13104.4297 - mae: 13104.4297\n",
      "Epoch 3/100\n",
      "34/34 [==============================] - 0s 546us/step - loss: 12749.5410 - mae: 12749.5410\n",
      "Epoch 4/100\n",
      "34/34 [==============================] - 0s 576us/step - loss: 12055.7500 - mae: 12055.7500\n",
      "Epoch 5/100\n",
      "34/34 [==============================] - 0s 546us/step - loss: 10905.8164 - mae: 10905.8164\n",
      "Epoch 6/100\n",
      "34/34 [==============================] - 0s 576us/step - loss: 9457.7227 - mae: 9457.7227\n",
      "Epoch 7/100\n",
      "34/34 [==============================] - 0s 576us/step - loss: 8147.6543 - mae: 8147.6543\n",
      "Epoch 8/100\n",
      "34/34 [==============================] - 0s 546us/step - loss: 7528.8408 - mae: 7528.8408\n",
      "Epoch 9/100\n",
      "34/34 [==============================] - 0s 546us/step - loss: 7429.1528 - mae: 7429.1528\n",
      "Epoch 10/100\n",
      "34/34 [==============================] - 0s 546us/step - loss: 7409.0811 - mae: 7409.0811\n",
      "Epoch 11/100\n",
      "34/34 [==============================] - 0s 546us/step - loss: 7390.8042 - mae: 7390.8042\n",
      "Epoch 12/100\n",
      "34/34 [==============================] - 0s 546us/step - loss: 7368.9170 - mae: 7368.9170\n",
      "Epoch 13/100\n",
      "34/34 [==============================] - 0s 546us/step - loss: 7348.5195 - mae: 7348.5195\n",
      "Epoch 14/100\n",
      "34/34 [==============================] - 0s 546us/step - loss: 7326.4893 - mae: 7326.4893\n",
      "Epoch 15/100\n",
      "34/34 [==============================] - 0s 546us/step - loss: 7307.5806 - mae: 7307.5806\n",
      "Epoch 16/100\n",
      "34/34 [==============================] - 0s 546us/step - loss: 7285.7734 - mae: 7285.7734\n",
      "Epoch 17/100\n",
      "34/34 [==============================] - 0s 546us/step - loss: 7265.7104 - mae: 7265.7104\n",
      "Epoch 18/100\n",
      "34/34 [==============================] - 0s 546us/step - loss: 7242.5488 - mae: 7242.5488\n",
      "Epoch 19/100\n",
      "34/34 [==============================] - 0s 576us/step - loss: 7220.5068 - mae: 7220.5068\n",
      "Epoch 20/100\n",
      "34/34 [==============================] - 0s 546us/step - loss: 7197.1978 - mae: 7197.1978\n",
      "Epoch 21/100\n",
      "34/34 [==============================] - 0s 546us/step - loss: 7179.0195 - mae: 7179.0195\n",
      "Epoch 22/100\n",
      "34/34 [==============================] - 0s 546us/step - loss: 7151.2104 - mae: 7151.2104\n",
      "Epoch 23/100\n",
      "34/34 [==============================] - 0s 546us/step - loss: 7126.4639 - mae: 7126.4639\n",
      "Epoch 24/100\n",
      "34/34 [==============================] - 0s 576us/step - loss: 7101.9199 - mae: 7101.9199\n",
      "Epoch 25/100\n",
      "34/34 [==============================] - 0s 546us/step - loss: 7084.3379 - mae: 7084.3379\n",
      "Epoch 26/100\n",
      "34/34 [==============================] - 0s 515us/step - loss: 7052.3296 - mae: 7052.3296\n",
      "Epoch 27/100\n",
      "34/34 [==============================] - 0s 515us/step - loss: 7024.3511 - mae: 7024.3511\n",
      "Epoch 28/100\n",
      "34/34 [==============================] - 0s 576us/step - loss: 6996.6963 - mae: 6996.6963\n",
      "Epoch 29/100\n",
      "34/34 [==============================] - 0s 546us/step - loss: 6969.0122 - mae: 6969.0122\n",
      "Epoch 30/100\n",
      "34/34 [==============================] - 0s 546us/step - loss: 6942.1899 - mae: 6942.1899\n",
      "Epoch 31/100\n",
      "34/34 [==============================] - 0s 546us/step - loss: 6911.7280 - mae: 6911.7280\n",
      "Epoch 32/100\n",
      "34/34 [==============================] - 0s 546us/step - loss: 6884.0205 - mae: 6884.0205\n",
      "Epoch 33/100\n",
      "34/34 [==============================] - 0s 576us/step - loss: 6853.4648 - mae: 6853.4648\n",
      "Epoch 34/100\n",
      "34/34 [==============================] - 0s 546us/step - loss: 6823.0674 - mae: 6823.0674\n",
      "Epoch 35/100\n",
      "34/34 [==============================] - 0s 546us/step - loss: 6789.6855 - mae: 6789.6855\n",
      "Epoch 36/100\n",
      "34/34 [==============================] - 0s 606us/step - loss: 6755.7646 - mae: 6755.7646\n",
      "Epoch 37/100\n",
      "34/34 [==============================] - 0s 546us/step - loss: 6720.2026 - mae: 6720.2026\n",
      "Epoch 38/100\n",
      "34/34 [==============================] - 0s 546us/step - loss: 6689.7158 - mae: 6689.7158\n",
      "Epoch 39/100\n",
      "34/34 [==============================] - 0s 515us/step - loss: 6652.4614 - mae: 6652.4614\n",
      "Epoch 40/100\n",
      "34/34 [==============================] - 0s 515us/step - loss: 6618.1011 - mae: 6618.1011\n",
      "Epoch 41/100\n",
      "34/34 [==============================] - 0s 546us/step - loss: 6585.8633 - mae: 6585.8633\n",
      "Epoch 42/100\n",
      "34/34 [==============================] - 0s 576us/step - loss: 6559.4956 - mae: 6559.4956\n",
      "Epoch 43/100\n",
      "34/34 [==============================] - 0s 576us/step - loss: 6530.0439 - mae: 6530.0439\n",
      "Epoch 44/100\n",
      "34/34 [==============================] - 0s 576us/step - loss: 6506.8071 - mae: 6506.8071\n",
      "Epoch 45/100\n",
      "34/34 [==============================] - 0s 576us/step - loss: 6493.5718 - mae: 6493.5718\n",
      "Epoch 46/100\n",
      "34/34 [==============================] - 0s 576us/step - loss: 6475.9258 - mae: 6475.9258\n",
      "Epoch 47/100\n",
      "34/34 [==============================] - 0s 606us/step - loss: 6458.8984 - mae: 6458.8984\n",
      "Epoch 48/100\n",
      "34/34 [==============================] - 0s 637us/step - loss: 6445.1494 - mae: 6445.1494\n",
      "Epoch 49/100\n",
      "34/34 [==============================] - 0s 576us/step - loss: 6430.9634 - mae: 6430.9634\n",
      "Epoch 50/100\n",
      "34/34 [==============================] - 0s 576us/step - loss: 6417.7510 - mae: 6417.7510\n",
      "Epoch 51/100\n",
      "34/34 [==============================] - 0s 606us/step - loss: 6403.2759 - mae: 6403.2759\n",
      "Epoch 52/100\n",
      "34/34 [==============================] - 0s 576us/step - loss: 6392.4141 - mae: 6392.4141\n",
      "Epoch 53/100\n",
      "34/34 [==============================] - 0s 606us/step - loss: 6378.7451 - mae: 6378.7451\n",
      "Epoch 54/100\n",
      "34/34 [==============================] - 0s 606us/step - loss: 6364.9131 - mae: 6364.9131\n",
      "Epoch 55/100\n",
      "34/34 [==============================] - 0s 576us/step - loss: 6351.5273 - mae: 6351.5273\n",
      "Epoch 56/100\n",
      "34/34 [==============================] - 0s 576us/step - loss: 6337.6606 - mae: 6337.6606\n",
      "Epoch 57/100\n",
      "34/34 [==============================] - 0s 546us/step - loss: 6324.8369 - mae: 6324.8369\n",
      "Epoch 58/100\n",
      "34/34 [==============================] - 0s 576us/step - loss: 6310.1948 - mae: 6310.1948\n",
      "Epoch 59/100\n",
      "34/34 [==============================] - 0s 546us/step - loss: 6295.6035 - mae: 6295.6035\n",
      "Epoch 60/100\n",
      "34/34 [==============================] - 0s 546us/step - loss: 6284.8696 - mae: 6284.8696\n",
      "Epoch 61/100\n",
      "34/34 [==============================] - 0s 515us/step - loss: 6265.6411 - mae: 6265.6411\n",
      "Epoch 62/100\n",
      "34/34 [==============================] - 0s 546us/step - loss: 6253.0112 - mae: 6253.0112\n",
      "Epoch 63/100\n",
      "34/34 [==============================] - 0s 546us/step - loss: 6234.9292 - mae: 6234.9292\n",
      "Epoch 64/100\n",
      "34/34 [==============================] - 0s 576us/step - loss: 6218.0430 - mae: 6218.0430\n",
      "Epoch 65/100\n",
      "34/34 [==============================] - 0s 576us/step - loss: 6201.1899 - mae: 6201.1899\n",
      "Epoch 66/100\n",
      "34/34 [==============================] - 0s 546us/step - loss: 6183.9590 - mae: 6183.9590\n",
      "Epoch 67/100\n",
      "34/34 [==============================] - 0s 546us/step - loss: 6171.2993 - mae: 6171.2993\n",
      "Epoch 68/100\n",
      "34/34 [==============================] - 0s 546us/step - loss: 6148.8403 - mae: 6148.8403\n",
      "Epoch 69/100\n",
      "34/34 [==============================] - 0s 546us/step - loss: 6132.5981 - mae: 6132.5981\n",
      "Epoch 70/100\n",
      "34/34 [==============================] - 0s 515us/step - loss: 6112.3848 - mae: 6112.3848\n",
      "Epoch 71/100\n",
      "34/34 [==============================] - 0s 576us/step - loss: 6092.7202 - mae: 6092.7202\n",
      "Epoch 72/100\n",
      "34/34 [==============================] - 0s 515us/step - loss: 6073.7422 - mae: 6073.7422\n",
      "Epoch 73/100\n",
      "34/34 [==============================] - 0s 576us/step - loss: 6059.4883 - mae: 6059.4883\n",
      "Epoch 74/100\n",
      "34/34 [==============================] - 0s 546us/step - loss: 6031.3848 - mae: 6031.3848\n",
      "Epoch 75/100\n",
      "34/34 [==============================] - 0s 515us/step - loss: 6010.3350 - mae: 6010.3350\n",
      "Epoch 76/100\n",
      "34/34 [==============================] - 0s 546us/step - loss: 5995.2168 - mae: 5995.2168\n",
      "Epoch 77/100\n",
      "34/34 [==============================] - 0s 576us/step - loss: 5963.0723 - mae: 5963.0723\n",
      "Epoch 78/100\n",
      "34/34 [==============================] - 0s 576us/step - loss: 5940.0610 - mae: 5940.0610\n",
      "Epoch 79/100\n",
      "34/34 [==============================] - 0s 546us/step - loss: 5915.1064 - mae: 5915.1064\n",
      "Epoch 80/100\n"
     ]
    },
    {
     "name": "stdout",
     "output_type": "stream",
     "text": [
      "34/34 [==============================] - 0s 576us/step - loss: 5887.9990 - mae: 5887.9990\n",
      "Epoch 81/100\n",
      "34/34 [==============================] - 0s 576us/step - loss: 5861.6987 - mae: 5861.6987\n",
      "Epoch 82/100\n",
      "34/34 [==============================] - 0s 546us/step - loss: 5834.3066 - mae: 5834.3066\n",
      "Epoch 83/100\n",
      "34/34 [==============================] - 0s 606us/step - loss: 5805.8242 - mae: 5805.8242\n",
      "Epoch 84/100\n",
      "34/34 [==============================] - 0s 546us/step - loss: 5772.3232 - mae: 5772.3232\n",
      "Epoch 85/100\n",
      "34/34 [==============================] - 0s 546us/step - loss: 5745.1514 - mae: 5745.1514\n",
      "Epoch 86/100\n",
      "34/34 [==============================] - 0s 546us/step - loss: 5711.3477 - mae: 5711.3477\n",
      "Epoch 87/100\n",
      "34/34 [==============================] - 0s 546us/step - loss: 5674.5215 - mae: 5674.5215\n",
      "Epoch 88/100\n",
      "34/34 [==============================] - 0s 576us/step - loss: 5639.4927 - mae: 5639.4927\n",
      "Epoch 89/100\n",
      "34/34 [==============================] - 0s 546us/step - loss: 5600.6655 - mae: 5600.6655\n",
      "Epoch 90/100\n",
      "34/34 [==============================] - 0s 515us/step - loss: 5559.4326 - mae: 5559.4326\n",
      "Epoch 91/100\n",
      "34/34 [==============================] - 0s 546us/step - loss: 5523.6187 - mae: 5523.6187\n",
      "Epoch 92/100\n",
      "34/34 [==============================] - 0s 546us/step - loss: 5474.1250 - mae: 5474.1250\n",
      "Epoch 93/100\n",
      "34/34 [==============================] - 0s 546us/step - loss: 5432.2656 - mae: 5432.2656\n",
      "Epoch 94/100\n",
      "34/34 [==============================] - 0s 546us/step - loss: 5386.0522 - mae: 5386.0522\n",
      "Epoch 95/100\n",
      "34/34 [==============================] - 0s 515us/step - loss: 5333.1812 - mae: 5333.1812\n",
      "Epoch 96/100\n",
      "34/34 [==============================] - 0s 515us/step - loss: 5288.8159 - mae: 5288.8159\n",
      "Epoch 97/100\n",
      "34/34 [==============================] - 0s 546us/step - loss: 5234.6787 - mae: 5234.6787\n",
      "Epoch 98/100\n",
      "34/34 [==============================] - 0s 546us/step - loss: 5170.9360 - mae: 5170.9360\n",
      "Epoch 99/100\n",
      "34/34 [==============================] - 0s 546us/step - loss: 5112.9443 - mae: 5112.9443\n",
      "Epoch 100/100\n",
      "34/34 [==============================] - 0s 576us/step - loss: 5059.8447 - mae: 5059.8447\n"
     ]
    }
   ],
   "source": [
    "# Set random seed\n",
    "tf.random.set_seed(42)\n",
    "\n",
    "# 1. Create the model\n",
    "insurance_model_2 = tf.keras.Sequential([\n",
    "    tf.keras.layers.Dense(100),\n",
    "    tf.keras.layers.Dense(10),\n",
    "    tf.keras.layers.Dense(1)\n",
    "])\n",
    "\n",
    "# 2. Compile the model\n",
    "insurance_model_2.compile(loss=tf.keras.losses.mae,\n",
    "                          optimizer=tf.keras.optimizers.Adam(),\n",
    "                          metrics=[\"mae\"])\n",
    "\n",
    "# 3. Fit the model\n",
    "history_2 = insurance_model_2.fit(X_train, y_train, epochs=100)"
   ]
  },
  {
   "cell_type": "code",
   "execution_count": 355,
   "id": "01d361d4",
   "metadata": {},
   "outputs": [
    {
     "name": "stdout",
     "output_type": "stream",
     "text": [
      "9/9 [==============================] - 0s 625us/step - loss: 4924.4961 - mae: 4924.4961\n"
     ]
    },
    {
     "data": {
      "text/plain": [
       "[4924.49609375, 4924.49609375]"
      ]
     },
     "execution_count": 355,
     "metadata": {},
     "output_type": "execute_result"
    }
   ],
   "source": [
    "# Evaluate the larger model\n",
    "insurance_model_2.evaluate(X_test, y_test)"
   ]
  },
  {
   "cell_type": "code",
   "execution_count": 356,
   "id": "a73c83b0",
   "metadata": {},
   "outputs": [
    {
     "data": {
      "text/plain": [
       "Text(0.5, 0, 'epochs')"
      ]
     },
     "execution_count": 356,
     "metadata": {},
     "output_type": "execute_result"
    },
    {
     "data": {
      "image/png": "[encoded data removed]",
      "text/plain": [
       "<Figure size 432x288 with 1 Axes>"
      ]
     },
     "metadata": {
      "needs_background": "light"
     },
     "output_type": "display_data"
    }
   ],
   "source": [
    "# Plot history (also known as a loss curve or training curve)\n",
    "pd.DataFrame(history_2.history).plot()\n",
    "plt.ylabel(\"loss\")\n",
    "plt.xlabel(\"epochs\")"
   ]
  },
  {
   "cell_type": "code",
   "execution_count": 357,
   "id": "9e5379b8",
   "metadata": {},
   "outputs": [
    {
     "name": "stdout",
     "output_type": "stream",
     "text": [
      "Epoch 1/300\n",
      "34/34 [==============================] - 0s 546us/step - loss: 13273.1602 - mae: 13273.1602\n",
      "Epoch 2/300\n",
      "34/34 [==============================] - 0s 576us/step - loss: 13104.4297 - mae: 13104.4297\n",
      "Epoch 3/300\n",
      "34/34 [==============================] - 0s 515us/step - loss: 12749.5410 - mae: 12749.5410\n",
      "Epoch 4/300\n",
      "34/34 [==============================] - 0s 546us/step - loss: 12055.7500 - mae: 12055.7500\n",
      "Epoch 5/300\n",
      "34/34 [==============================] - 0s 546us/step - loss: 10905.8164 - mae: 10905.8164\n",
      "Epoch 6/300\n",
      "34/34 [==============================] - 0s 515us/step - loss: 9457.7227 - mae: 9457.7227\n",
      "Epoch 7/300\n",
      "34/34 [==============================] - 0s 546us/step - loss: 8147.6543 - mae: 8147.6543\n",
      "Epoch 8/300\n",
      "34/34 [==============================] - 0s 546us/step - loss: 7528.8408 - mae: 7528.8408\n",
      "Epoch 9/300\n",
      "34/34 [==============================] - 0s 515us/step - loss: 7429.1528 - mae: 7429.1528\n",
      "Epoch 10/300\n",
      "34/34 [==============================] - 0s 546us/step - loss: 7409.0811 - mae: 7409.0811\n",
      "Epoch 11/300\n",
      "34/34 [==============================] - 0s 546us/step - loss: 7390.8042 - mae: 7390.8042\n",
      "Epoch 12/300\n",
      "34/34 [==============================] - 0s 546us/step - loss: 7368.9170 - mae: 7368.9170\n",
      "Epoch 13/300\n",
      "34/34 [==============================] - 0s 546us/step - loss: 7348.5195 - mae: 7348.5195\n",
      "Epoch 14/300\n",
      "34/34 [==============================] - 0s 546us/step - loss: 7326.4893 - mae: 7326.4893\n",
      "Epoch 15/300\n",
      "34/34 [==============================] - 0s 546us/step - loss: 7307.5806 - mae: 7307.5806\n",
      "Epoch 16/300\n",
      "34/34 [==============================] - 0s 546us/step - loss: 7285.7734 - mae: 7285.7734\n",
      "Epoch 17/300\n",
      "34/34 [==============================] - 0s 546us/step - loss: 7265.7104 - mae: 7265.7104\n",
      "Epoch 18/300\n",
      "34/34 [==============================] - 0s 546us/step - loss: 7242.5488 - mae: 7242.5488\n",
      "Epoch 19/300\n",
      "34/34 [==============================] - 0s 546us/step - loss: 7220.5068 - mae: 7220.5068\n",
      "Epoch 20/300\n",
      "34/34 [==============================] - 0s 546us/step - loss: 7197.1978 - mae: 7197.1978\n",
      "Epoch 21/300\n",
      "34/34 [==============================] - 0s 546us/step - loss: 7179.0195 - mae: 7179.0195\n",
      "Epoch 22/300\n",
      "34/34 [==============================] - 0s 546us/step - loss: 7151.2104 - mae: 7151.2104\n",
      "Epoch 23/300\n",
      "34/34 [==============================] - 0s 576us/step - loss: 7126.4639 - mae: 7126.4639\n",
      "Epoch 24/300\n",
      "34/34 [==============================] - 0s 576us/step - loss: 7101.9199 - mae: 7101.9199\n",
      "Epoch 25/300\n",
      "34/34 [==============================] - 0s 515us/step - loss: 7084.3379 - mae: 7084.3379\n",
      "Epoch 26/300\n",
      "34/34 [==============================] - 0s 546us/step - loss: 7052.3296 - mae: 7052.3296\n",
      "Epoch 27/300\n",
      "34/34 [==============================] - 0s 546us/step - loss: 7024.3511 - mae: 7024.3511\n",
      "Epoch 28/300\n",
      "34/34 [==============================] - 0s 546us/step - loss: 6996.6963 - mae: 6996.6963\n",
      "Epoch 29/300\n",
      "34/34 [==============================] - 0s 546us/step - loss: 6969.0122 - mae: 6969.0122\n",
      "Epoch 30/300\n",
      "34/34 [==============================] - 0s 546us/step - loss: 6942.1899 - mae: 6942.1899\n",
      "Epoch 31/300\n",
      "34/34 [==============================] - 0s 546us/step - loss: 6911.7280 - mae: 6911.7280\n",
      "Epoch 32/300\n",
      "34/34 [==============================] - 0s 576us/step - loss: 6884.0205 - mae: 6884.0205\n",
      "Epoch 33/300\n",
      "34/34 [==============================] - 0s 546us/step - loss: 6853.4648 - mae: 6853.4648\n",
      "Epoch 34/300\n",
      "34/34 [==============================] - 0s 576us/step - loss: 6823.0674 - mae: 6823.0674\n",
      "Epoch 35/300\n",
      "34/34 [==============================] - 0s 576us/step - loss: 6789.6855 - mae: 6789.6855\n",
      "Epoch 36/300\n",
      "34/34 [==============================] - 0s 546us/step - loss: 6755.7646 - mae: 6755.7646\n",
      "Epoch 37/300\n",
      "34/34 [==============================] - 0s 546us/step - loss: 6720.2026 - mae: 6720.2026\n",
      "Epoch 38/300\n",
      "34/34 [==============================] - 0s 546us/step - loss: 6689.7158 - mae: 6689.7158\n",
      "Epoch 39/300\n",
      "34/34 [==============================] - 0s 546us/step - loss: 6652.4614 - mae: 6652.4614\n",
      "Epoch 40/300\n",
      "34/34 [==============================] - 0s 546us/step - loss: 6618.1011 - mae: 6618.1011\n",
      "Epoch 41/300\n",
      "34/34 [==============================] - 0s 576us/step - loss: 6585.8633 - mae: 6585.8633\n",
      "Epoch 42/300\n",
      "34/34 [==============================] - 0s 546us/step - loss: 6559.4956 - mae: 6559.4956\n",
      "Epoch 43/300\n",
      "34/34 [==============================] - 0s 546us/step - loss: 6530.0439 - mae: 6530.0439\n",
      "Epoch 44/300\n",
      "34/34 [==============================] - 0s 546us/step - loss: 6506.8071 - mae: 6506.8071\n",
      "Epoch 45/300\n",
      "34/34 [==============================] - 0s 576us/step - loss: 6493.5718 - mae: 6493.5718\n",
      "Epoch 46/300\n",
      "34/34 [==============================] - 0s 606us/step - loss: 6475.9258 - mae: 6475.9258\n",
      "Epoch 47/300\n",
      "34/34 [==============================] - 0s 576us/step - loss: 6458.8984 - mae: 6458.8984\n",
      "Epoch 48/300\n",
      "34/34 [==============================] - 0s 546us/step - loss: 6445.1494 - mae: 6445.1494\n",
      "Epoch 49/300\n",
      "34/34 [==============================] - 0s 576us/step - loss: 6430.9634 - mae: 6430.9634\n",
      "Epoch 50/300\n",
      "34/34 [==============================] - 0s 606us/step - loss: 6417.7510 - mae: 6417.7510\n",
      "Epoch 51/300\n",
      "34/34 [==============================] - 0s 606us/step - loss: 6403.2759 - mae: 6403.2759\n",
      "Epoch 52/300\n",
      "34/34 [==============================] - 0s 606us/step - loss: 6392.4141 - mae: 6392.4141\n",
      "Epoch 53/300\n",
      "34/34 [==============================] - 0s 576us/step - loss: 6378.7451 - mae: 6378.7451\n",
      "Epoch 54/300\n",
      "34/34 [==============================] - 0s 515us/step - loss: 6364.9131 - mae: 6364.9131\n",
      "Epoch 55/300\n",
      "34/34 [==============================] - 0s 576us/step - loss: 6351.5273 - mae: 6351.5273\n",
      "Epoch 56/300\n",
      "34/34 [==============================] - 0s 546us/step - loss: 6337.6606 - mae: 6337.6606\n",
      "Epoch 57/300\n",
      "34/34 [==============================] - 0s 546us/step - loss: 6324.8369 - mae: 6324.8369\n",
      "Epoch 58/300\n",
      "34/34 [==============================] - 0s 606us/step - loss: 6310.1948 - mae: 6310.1948\n",
      "Epoch 59/300\n",
      "34/34 [==============================] - 0s 576us/step - loss: 6295.6035 - mae: 6295.6035\n",
      "Epoch 60/300\n",
      "34/34 [==============================] - 0s 576us/step - loss: 6284.8696 - mae: 6284.8696\n",
      "Epoch 61/300\n",
      "34/34 [==============================] - 0s 576us/step - loss: 6265.6411 - mae: 6265.6411\n",
      "Epoch 62/300\n",
      "34/34 [==============================] - 0s 576us/step - loss: 6253.0112 - mae: 6253.0112\n",
      "Epoch 63/300\n",
      "34/34 [==============================] - 0s 606us/step - loss: 6234.9292 - mae: 6234.9292\n",
      "Epoch 64/300\n",
      "34/34 [==============================] - 0s 576us/step - loss: 6218.0430 - mae: 6218.0430\n",
      "Epoch 65/300\n",
      "34/34 [==============================] - 0s 576us/step - loss: 6201.1899 - mae: 6201.1899\n",
      "Epoch 66/300\n",
      "34/34 [==============================] - 0s 576us/step - loss: 6183.9590 - mae: 6183.9590\n",
      "Epoch 67/300\n",
      "34/34 [==============================] - 0s 576us/step - loss: 6171.2993 - mae: 6171.2993\n",
      "Epoch 68/300\n",
      "34/34 [==============================] - 0s 606us/step - loss: 6148.8403 - mae: 6148.8403\n",
      "Epoch 69/300\n",
      "34/34 [==============================] - 0s 576us/step - loss: 6132.5981 - mae: 6132.5981\n",
      "Epoch 70/300\n",
      "34/34 [==============================] - 0s 546us/step - loss: 6112.3848 - mae: 6112.3848\n",
      "Epoch 71/300\n",
      "34/34 [==============================] - 0s 606us/step - loss: 6092.7202 - mae: 6092.7202\n",
      "Epoch 72/300\n",
      "34/34 [==============================] - 0s 546us/step - loss: 6073.7422 - mae: 6073.7422\n",
      "Epoch 73/300\n",
      "34/34 [==============================] - 0s 576us/step - loss: 6059.4883 - mae: 6059.4883\n",
      "Epoch 74/300\n",
      "34/34 [==============================] - 0s 606us/step - loss: 6031.3848 - mae: 6031.3848\n",
      "Epoch 75/300\n",
      "34/34 [==============================] - 0s 576us/step - loss: 6010.3350 - mae: 6010.3350\n",
      "Epoch 76/300\n",
      "34/34 [==============================] - 0s 637us/step - loss: 5995.2168 - mae: 5995.2168\n",
      "Epoch 77/300\n",
      "34/34 [==============================] - 0s 546us/step - loss: 5963.0723 - mae: 5963.0723\n",
      "Epoch 78/300\n",
      "34/34 [==============================] - 0s 546us/step - loss: 5940.0610 - mae: 5940.0610\n",
      "Epoch 79/300\n",
      "34/34 [==============================] - 0s 576us/step - loss: 5915.1064 - mae: 5915.1064\n",
      "Epoch 80/300\n"
     ]
    },
    {
     "name": "stdout",
     "output_type": "stream",
     "text": [
      "34/34 [==============================] - 0s 576us/step - loss: 5887.9990 - mae: 5887.9990\n",
      "Epoch 81/300\n",
      "34/34 [==============================] - 0s 546us/step - loss: 5861.6987 - mae: 5861.6987\n",
      "Epoch 82/300\n",
      "34/34 [==============================] - 0s 546us/step - loss: 5834.3066 - mae: 5834.3066\n",
      "Epoch 83/300\n",
      "34/34 [==============================] - 0s 546us/step - loss: 5805.8242 - mae: 5805.8242\n",
      "Epoch 84/300\n",
      "34/34 [==============================] - 0s 546us/step - loss: 5772.3232 - mae: 5772.3232\n",
      "Epoch 85/300\n",
      "34/34 [==============================] - 0s 546us/step - loss: 5745.1514 - mae: 5745.1514\n",
      "Epoch 86/300\n",
      "34/34 [==============================] - 0s 546us/step - loss: 5711.3477 - mae: 5711.3477\n",
      "Epoch 87/300\n",
      "34/34 [==============================] - 0s 546us/step - loss: 5674.5215 - mae: 5674.5215\n",
      "Epoch 88/300\n",
      "34/34 [==============================] - 0s 576us/step - loss: 5639.4927 - mae: 5639.4927\n",
      "Epoch 89/300\n",
      "34/34 [==============================] - 0s 576us/step - loss: 5600.6655 - mae: 5600.6655\n",
      "Epoch 90/300\n",
      "34/34 [==============================] - 0s 546us/step - loss: 5559.4326 - mae: 5559.4326\n",
      "Epoch 91/300\n",
      "34/34 [==============================] - 0s 576us/step - loss: 5523.6187 - mae: 5523.6187\n",
      "Epoch 92/300\n",
      "34/34 [==============================] - 0s 606us/step - loss: 5474.1250 - mae: 5474.1250\n",
      "Epoch 93/300\n",
      "34/34 [==============================] - 0s 546us/step - loss: 5432.2656 - mae: 5432.2656\n",
      "Epoch 94/300\n",
      "34/34 [==============================] - 0s 546us/step - loss: 5386.0522 - mae: 5386.0522\n",
      "Epoch 95/300\n",
      "34/34 [==============================] - 0s 576us/step - loss: 5333.1812 - mae: 5333.1812\n",
      "Epoch 96/300\n",
      "34/34 [==============================] - 0s 546us/step - loss: 5288.8159 - mae: 5288.8159\n",
      "Epoch 97/300\n",
      "34/34 [==============================] - 0s 606us/step - loss: 5234.6787 - mae: 5234.6787\n",
      "Epoch 98/300\n",
      "34/34 [==============================] - 0s 576us/step - loss: 5170.9360 - mae: 5170.9360\n",
      "Epoch 99/300\n",
      "34/34 [==============================] - 0s 576us/step - loss: 5112.9443 - mae: 5112.9443\n",
      "Epoch 100/300\n",
      "34/34 [==============================] - 0s 576us/step - loss: 5059.8447 - mae: 5059.8447\n",
      "Epoch 101/300\n",
      "34/34 [==============================] - 0s 546us/step - loss: 4987.7085 - mae: 4987.7085\n",
      "Epoch 102/300\n",
      "34/34 [==============================] - 0s 546us/step - loss: 4915.4390 - mae: 4915.4390\n",
      "Epoch 103/300\n",
      "34/34 [==============================] - 0s 546us/step - loss: 4847.4639 - mae: 4847.4639\n",
      "Epoch 104/300\n",
      "34/34 [==============================] - 0s 546us/step - loss: 4768.1533 - mae: 4768.1533\n",
      "Epoch 105/300\n",
      "34/34 [==============================] - 0s 576us/step - loss: 4683.4321 - mae: 4683.4321\n",
      "Epoch 106/300\n",
      "34/34 [==============================] - 0s 576us/step - loss: 4601.1831 - mae: 4601.1831\n",
      "Epoch 107/300\n",
      "34/34 [==============================] - 0s 576us/step - loss: 4513.4478 - mae: 4513.4478\n",
      "Epoch 108/300\n",
      "34/34 [==============================] - 0s 576us/step - loss: 4423.2490 - mae: 4423.2490\n",
      "Epoch 109/300\n",
      "34/34 [==============================] - 0s 546us/step - loss: 4339.1406 - mae: 4339.1406\n",
      "Epoch 110/300\n",
      "34/34 [==============================] - 0s 576us/step - loss: 4255.4292 - mae: 4255.4292\n",
      "Epoch 111/300\n",
      "34/34 [==============================] - 0s 546us/step - loss: 4173.2402 - mae: 4173.2402\n",
      "Epoch 112/300\n",
      "34/34 [==============================] - 0s 546us/step - loss: 4102.3032 - mae: 4102.3032\n",
      "Epoch 113/300\n",
      "34/34 [==============================] - 0s 546us/step - loss: 4028.0874 - mae: 4028.0874\n",
      "Epoch 114/300\n",
      "34/34 [==============================] - 0s 576us/step - loss: 3987.8625 - mae: 3987.8625\n",
      "Epoch 115/300\n",
      "34/34 [==============================] - 0s 576us/step - loss: 3945.6594 - mae: 3945.6594\n",
      "Epoch 116/300\n",
      "34/34 [==============================] - 0s 576us/step - loss: 3918.2410 - mae: 3918.2410\n",
      "Epoch 117/300\n",
      "34/34 [==============================] - 0s 546us/step - loss: 3897.1458 - mae: 3897.1458\n",
      "Epoch 118/300\n",
      "34/34 [==============================] - 0s 576us/step - loss: 3871.5635 - mae: 3871.5635\n",
      "Epoch 119/300\n",
      "34/34 [==============================] - 0s 576us/step - loss: 3852.5771 - mae: 3852.5771\n",
      "Epoch 120/300\n",
      "34/34 [==============================] - 0s 576us/step - loss: 3835.2859 - mae: 3835.2859\n",
      "Epoch 121/300\n",
      "34/34 [==============================] - 0s 606us/step - loss: 3829.0356 - mae: 3829.0356\n",
      "Epoch 122/300\n",
      "34/34 [==============================] - 0s 606us/step - loss: 3823.3435 - mae: 3823.3435\n",
      "Epoch 123/300\n",
      "34/34 [==============================] - 0s 576us/step - loss: 3814.8372 - mae: 3814.8372\n",
      "Epoch 124/300\n",
      "34/34 [==============================] - 0s 576us/step - loss: 3806.4585 - mae: 3806.4585\n",
      "Epoch 125/300\n",
      "34/34 [==============================] - 0s 576us/step - loss: 3795.8462 - mae: 3795.8462\n",
      "Epoch 126/300\n",
      "34/34 [==============================] - 0s 576us/step - loss: 3805.0994 - mae: 3805.0994\n",
      "Epoch 127/300\n",
      "34/34 [==============================] - 0s 576us/step - loss: 3797.2935 - mae: 3797.2935\n",
      "Epoch 128/300\n",
      "34/34 [==============================] - 0s 576us/step - loss: 3791.3442 - mae: 3791.3442\n",
      "Epoch 129/300\n",
      "34/34 [==============================] - 0s 606us/step - loss: 3801.2888 - mae: 3801.2888\n",
      "Epoch 130/300\n",
      "34/34 [==============================] - 0s 637us/step - loss: 3790.9082 - mae: 3790.9082\n",
      "Epoch 131/300\n",
      "34/34 [==============================] - 0s 606us/step - loss: 3781.4387 - mae: 3781.4387\n",
      "Epoch 132/300\n",
      "34/34 [==============================] - 0s 636us/step - loss: 3775.3513 - mae: 3775.3513\n",
      "Epoch 133/300\n",
      "34/34 [==============================] - 0s 606us/step - loss: 3770.3953 - mae: 3770.3953\n",
      "Epoch 134/300\n",
      "34/34 [==============================] - 0s 667us/step - loss: 3771.6887 - mae: 3771.6887\n",
      "Epoch 135/300\n",
      "34/34 [==============================] - 0s 1ms/step - loss: 3767.4387 - mae: 3767.4387\n",
      "Epoch 136/300\n",
      "34/34 [==============================] - 0s 667us/step - loss: 3766.6714 - mae: 3766.6714\n",
      "Epoch 137/300\n",
      "34/34 [==============================] - 0s 758us/step - loss: 3775.2358 - mae: 3775.2358\n",
      "Epoch 138/300\n",
      "34/34 [==============================] - 0s 636us/step - loss: 3784.4844 - mae: 3784.4844\n",
      "Epoch 139/300\n",
      "34/34 [==============================] - 0s 606us/step - loss: 3761.7339 - mae: 3761.7339\n",
      "Epoch 140/300\n",
      "34/34 [==============================] - 0s 667us/step - loss: 3762.1360 - mae: 3762.1360\n",
      "Epoch 141/300\n",
      "34/34 [==============================] - 0s 576us/step - loss: 3763.4082 - mae: 3763.4082\n",
      "Epoch 142/300\n",
      "34/34 [==============================] - 0s 637us/step - loss: 3763.5349 - mae: 3763.5349\n",
      "Epoch 143/300\n",
      "34/34 [==============================] - 0s 606us/step - loss: 3754.6104 - mae: 3754.6104\n",
      "Epoch 144/300\n",
      "34/34 [==============================] - 0s 606us/step - loss: 3750.8074 - mae: 3750.8074\n",
      "Epoch 145/300\n",
      "34/34 [==============================] - 0s 697us/step - loss: 3751.2629 - mae: 3751.2629\n",
      "Epoch 146/300\n",
      "34/34 [==============================] - 0s 606us/step - loss: 3754.6194 - mae: 3754.6194\n",
      "Epoch 147/300\n",
      "34/34 [==============================] - 0s 636us/step - loss: 3751.5325 - mae: 3751.5325\n",
      "Epoch 148/300\n",
      "34/34 [==============================] - 0s 636us/step - loss: 3755.4758 - mae: 3755.4758\n",
      "Epoch 149/300\n",
      "34/34 [==============================] - 0s 636us/step - loss: 3743.7812 - mae: 3743.7812\n",
      "Epoch 150/300\n",
      "34/34 [==============================] - 0s 606us/step - loss: 3738.6592 - mae: 3738.6592\n",
      "Epoch 151/300\n",
      "34/34 [==============================] - 0s 606us/step - loss: 3741.3877 - mae: 3741.3877\n",
      "Epoch 152/300\n",
      "34/34 [==============================] - 0s 637us/step - loss: 3742.3994 - mae: 3742.3994\n",
      "Epoch 153/300\n",
      "34/34 [==============================] - 0s 606us/step - loss: 3742.1938 - mae: 3742.1938\n",
      "Epoch 154/300\n",
      "34/34 [==============================] - 0s 606us/step - loss: 3737.1804 - mae: 3737.1804\n",
      "Epoch 155/300\n",
      "34/34 [==============================] - 0s 576us/step - loss: 3738.9937 - mae: 3738.9937\n",
      "Epoch 156/300\n",
      "34/34 [==============================] - 0s 606us/step - loss: 3736.1040 - mae: 3736.1040\n",
      "Epoch 157/300\n",
      "34/34 [==============================] - 0s 546us/step - loss: 3732.9739 - mae: 3732.9739\n",
      "Epoch 158/300\n",
      "34/34 [==============================] - 0s 576us/step - loss: 3729.8030 - mae: 3729.8030\n",
      "Epoch 159/300\n"
     ]
    },
    {
     "name": "stdout",
     "output_type": "stream",
     "text": [
      "34/34 [==============================] - 0s 576us/step - loss: 3726.4563 - mae: 3726.4563\n",
      "Epoch 160/300\n",
      "34/34 [==============================] - 0s 546us/step - loss: 3733.5449 - mae: 3733.5449\n",
      "Epoch 161/300\n",
      "34/34 [==============================] - 0s 576us/step - loss: 3728.0251 - mae: 3728.0251\n",
      "Epoch 162/300\n",
      "34/34 [==============================] - 0s 576us/step - loss: 3725.0784 - mae: 3725.0784\n",
      "Epoch 163/300\n",
      "34/34 [==============================] - 0s 515us/step - loss: 3722.1680 - mae: 3722.1680\n",
      "Epoch 164/300\n",
      "34/34 [==============================] - 0s 546us/step - loss: 3726.4907 - mae: 3726.4907\n",
      "Epoch 165/300\n",
      "34/34 [==============================] - 0s 576us/step - loss: 3717.1106 - mae: 3717.1106\n",
      "Epoch 166/300\n",
      "34/34 [==============================] - 0s 606us/step - loss: 3721.8940 - mae: 3721.8940\n",
      "Epoch 167/300\n",
      "34/34 [==============================] - 0s 576us/step - loss: 3720.7314 - mae: 3720.7314\n",
      "Epoch 168/300\n",
      "34/34 [==============================] - 0s 576us/step - loss: 3715.3098 - mae: 3715.3098\n",
      "Epoch 169/300\n",
      "34/34 [==============================] - 0s 576us/step - loss: 3714.2400 - mae: 3714.2400\n",
      "Epoch 170/300\n",
      "34/34 [==============================] - 0s 546us/step - loss: 3708.1538 - mae: 3708.1538\n",
      "Epoch 171/300\n",
      "34/34 [==============================] - 0s 516us/step - loss: 3707.5679 - mae: 3707.5679\n",
      "Epoch 172/300\n",
      "34/34 [==============================] - 0s 576us/step - loss: 3709.5637 - mae: 3709.5637\n",
      "Epoch 173/300\n",
      "34/34 [==============================] - 0s 576us/step - loss: 3705.6372 - mae: 3705.6372\n",
      "Epoch 174/300\n",
      "34/34 [==============================] - 0s 546us/step - loss: 3709.1023 - mae: 3709.1023\n",
      "Epoch 175/300\n",
      "34/34 [==============================] - 0s 546us/step - loss: 3712.1282 - mae: 3712.1282\n",
      "Epoch 176/300\n",
      "34/34 [==============================] - 0s 546us/step - loss: 3705.9382 - mae: 3705.9382\n",
      "Epoch 177/300\n",
      "34/34 [==============================] - 0s 546us/step - loss: 3700.1218 - mae: 3700.1218\n",
      "Epoch 178/300\n",
      "34/34 [==============================] - 0s 515us/step - loss: 3696.2852 - mae: 3696.2852\n",
      "Epoch 179/300\n",
      "34/34 [==============================] - 0s 515us/step - loss: 3704.3586 - mae: 3704.3586\n",
      "Epoch 180/300\n",
      "34/34 [==============================] - 0s 546us/step - loss: 3709.2507 - mae: 3709.2507\n",
      "Epoch 181/300\n",
      "34/34 [==============================] - 0s 546us/step - loss: 3695.9170 - mae: 3695.9170\n",
      "Epoch 182/300\n",
      "34/34 [==============================] - 0s 515us/step - loss: 3693.5237 - mae: 3693.5237\n",
      "Epoch 183/300\n",
      "34/34 [==============================] - 0s 515us/step - loss: 3692.0999 - mae: 3692.0999\n",
      "Epoch 184/300\n",
      "34/34 [==============================] - 0s 546us/step - loss: 3698.8428 - mae: 3698.8428\n",
      "Epoch 185/300\n",
      "34/34 [==============================] - 0s 576us/step - loss: 3694.2781 - mae: 3694.2781\n",
      "Epoch 186/300\n",
      "34/34 [==============================] - 0s 546us/step - loss: 3696.6104 - mae: 3696.6104\n",
      "Epoch 187/300\n",
      "34/34 [==============================] - 0s 546us/step - loss: 3689.0247 - mae: 3689.0247\n",
      "Epoch 188/300\n",
      "34/34 [==============================] - 0s 515us/step - loss: 3694.2283 - mae: 3694.2283\n",
      "Epoch 189/300\n",
      "34/34 [==============================] - 0s 546us/step - loss: 3683.9490 - mae: 3683.9490\n",
      "Epoch 190/300\n",
      "34/34 [==============================] - 0s 515us/step - loss: 3682.8472 - mae: 3682.8472\n",
      "Epoch 191/300\n",
      "34/34 [==============================] - 0s 515us/step - loss: 3699.1458 - mae: 3699.1458\n",
      "Epoch 192/300\n",
      "34/34 [==============================] - 0s 576us/step - loss: 3684.8535 - mae: 3684.8535\n",
      "Epoch 193/300\n",
      "34/34 [==============================] - 0s 576us/step - loss: 3675.5303 - mae: 3675.5303\n",
      "Epoch 194/300\n",
      "34/34 [==============================] - 0s 515us/step - loss: 3675.5764 - mae: 3675.5764\n",
      "Epoch 195/300\n",
      "34/34 [==============================] - 0s 515us/step - loss: 3673.1931 - mae: 3673.1931\n",
      "Epoch 196/300\n",
      "34/34 [==============================] - 0s 546us/step - loss: 3682.2253 - mae: 3682.2253\n",
      "Epoch 197/300\n",
      "34/34 [==============================] - 0s 546us/step - loss: 3666.2058 - mae: 3666.2058\n",
      "Epoch 198/300\n",
      "34/34 [==============================] - 0s 546us/step - loss: 3671.8364 - mae: 3671.8364\n",
      "Epoch 199/300\n",
      "34/34 [==============================] - 0s 546us/step - loss: 3680.2202 - mae: 3680.2202\n",
      "Epoch 200/300\n",
      "34/34 [==============================] - 0s 546us/step - loss: 3666.9412 - mae: 3666.9412\n",
      "Epoch 201/300\n",
      "34/34 [==============================] - 0s 515us/step - loss: 3666.5859 - mae: 3666.5859\n",
      "Epoch 202/300\n",
      "34/34 [==============================] - 0s 546us/step - loss: 3667.2139 - mae: 3667.2139\n",
      "Epoch 203/300\n",
      "34/34 [==============================] - 0s 546us/step - loss: 3663.9014 - mae: 3663.9014\n",
      "Epoch 204/300\n",
      "34/34 [==============================] - 0s 546us/step - loss: 3654.8442 - mae: 3654.8442\n",
      "Epoch 205/300\n",
      "34/34 [==============================] - 0s 546us/step - loss: 3663.6572 - mae: 3663.6572\n",
      "Epoch 206/300\n",
      "34/34 [==============================] - 0s 576us/step - loss: 3657.2104 - mae: 3657.2104\n",
      "Epoch 207/300\n",
      "34/34 [==============================] - 0s 546us/step - loss: 3656.2354 - mae: 3656.2354\n",
      "Epoch 208/300\n",
      "34/34 [==============================] - 0s 546us/step - loss: 3654.6501 - mae: 3654.6501\n",
      "Epoch 209/300\n",
      "34/34 [==============================] - 0s 546us/step - loss: 3653.5361 - mae: 3653.5361\n",
      "Epoch 210/300\n",
      "34/34 [==============================] - 0s 546us/step - loss: 3657.0867 - mae: 3657.0867\n",
      "Epoch 211/300\n",
      "34/34 [==============================] - 0s 546us/step - loss: 3654.8066 - mae: 3654.8066\n",
      "Epoch 212/300\n",
      "34/34 [==============================] - 0s 546us/step - loss: 3670.9839 - mae: 3670.9839\n",
      "Epoch 213/300\n",
      "34/34 [==============================] - 0s 546us/step - loss: 3658.0090 - mae: 3658.0090\n",
      "Epoch 214/300\n",
      "34/34 [==============================] - 0s 546us/step - loss: 3676.4031 - mae: 3676.4031\n",
      "Epoch 215/300\n",
      "34/34 [==============================] - 0s 576us/step - loss: 3652.4697 - mae: 3652.4697\n",
      "Epoch 216/300\n",
      "34/34 [==============================] - 0s 546us/step - loss: 3645.3047 - mae: 3645.3047\n",
      "Epoch 217/300\n",
      "34/34 [==============================] - 0s 546us/step - loss: 3648.8865 - mae: 3648.8865\n",
      "Epoch 218/300\n",
      "34/34 [==============================] - 0s 546us/step - loss: 3641.0957 - mae: 3641.0957\n",
      "Epoch 219/300\n",
      "34/34 [==============================] - 0s 515us/step - loss: 3650.7844 - mae: 3650.7844\n",
      "Epoch 220/300\n",
      "34/34 [==============================] - 0s 546us/step - loss: 3639.8477 - mae: 3639.8477\n",
      "Epoch 221/300\n",
      "34/34 [==============================] - 0s 576us/step - loss: 3640.4226 - mae: 3640.4226\n",
      "Epoch 222/300\n",
      "34/34 [==============================] - 0s 576us/step - loss: 3648.5039 - mae: 3648.5039\n",
      "Epoch 223/300\n",
      "34/34 [==============================] - 0s 576us/step - loss: 3633.2607 - mae: 3633.2607\n",
      "Epoch 224/300\n",
      "34/34 [==============================] - 0s 606us/step - loss: 3637.2197 - mae: 3637.2197\n",
      "Epoch 225/300\n",
      "34/34 [==============================] - 0s 576us/step - loss: 3631.1592 - mae: 3631.1592\n",
      "Epoch 226/300\n",
      "34/34 [==============================] - 0s 546us/step - loss: 3627.6760 - mae: 3627.6760\n",
      "Epoch 227/300\n",
      "34/34 [==============================] - 0s 576us/step - loss: 3622.4905 - mae: 3622.4905\n",
      "Epoch 228/300\n",
      "34/34 [==============================] - 0s 576us/step - loss: 3631.2241 - mae: 3631.2241\n",
      "Epoch 229/300\n",
      "34/34 [==============================] - 0s 576us/step - loss: 3635.1733 - mae: 3635.1733\n",
      "Epoch 230/300\n",
      "34/34 [==============================] - 0s 576us/step - loss: 3617.2610 - mae: 3617.2610\n",
      "Epoch 231/300\n",
      "34/34 [==============================] - 0s 576us/step - loss: 3615.7905 - mae: 3615.7905\n",
      "Epoch 232/300\n",
      "34/34 [==============================] - 0s 546us/step - loss: 3613.4084 - mae: 3613.4084\n",
      "Epoch 233/300\n",
      "34/34 [==============================] - 0s 606us/step - loss: 3611.3999 - mae: 3611.3999\n",
      "Epoch 234/300\n",
      "34/34 [==============================] - 0s 576us/step - loss: 3623.1475 - mae: 3623.1475\n",
      "Epoch 235/300\n",
      "34/34 [==============================] - 0s 546us/step - loss: 3624.7256 - mae: 3624.7256\n",
      "Epoch 236/300\n",
      "34/34 [==============================] - 0s 576us/step - loss: 3612.7253 - mae: 3612.7253\n",
      "Epoch 237/300\n"
     ]
    },
    {
     "name": "stdout",
     "output_type": "stream",
     "text": [
      "34/34 [==============================] - 0s 576us/step - loss: 3615.2422 - mae: 3615.2422\n",
      "Epoch 238/300\n",
      "34/34 [==============================] - 0s 576us/step - loss: 3598.2754 - mae: 3598.2754\n",
      "Epoch 239/300\n",
      "34/34 [==============================] - 0s 515us/step - loss: 3607.2253 - mae: 3607.2253\n",
      "Epoch 240/300\n",
      "34/34 [==============================] - 0s 576us/step - loss: 3604.3447 - mae: 3604.3447\n",
      "Epoch 241/300\n",
      "34/34 [==============================] - 0s 546us/step - loss: 3597.2034 - mae: 3597.2034\n",
      "Epoch 242/300\n",
      "34/34 [==============================] - 0s 546us/step - loss: 3599.5796 - mae: 3599.5796\n",
      "Epoch 243/300\n",
      "34/34 [==============================] - 0s 576us/step - loss: 3592.3210 - mae: 3592.3210\n",
      "Epoch 244/300\n",
      "34/34 [==============================] - 0s 546us/step - loss: 3606.6270 - mae: 3606.6270\n",
      "Epoch 245/300\n",
      "34/34 [==============================] - 0s 576us/step - loss: 3591.3340 - mae: 3591.3340\n",
      "Epoch 246/300\n",
      "34/34 [==============================] - 0s 546us/step - loss: 3587.2715 - mae: 3587.2715\n",
      "Epoch 247/300\n",
      "34/34 [==============================] - 0s 515us/step - loss: 3586.1104 - mae: 3586.1104\n",
      "Epoch 248/300\n",
      "34/34 [==============================] - 0s 546us/step - loss: 3607.2571 - mae: 3607.2571\n",
      "Epoch 249/300\n",
      "34/34 [==============================] - 0s 546us/step - loss: 3588.6802 - mae: 3588.6802\n",
      "Epoch 250/300\n",
      "34/34 [==============================] - 0s 546us/step - loss: 3580.9404 - mae: 3580.9404\n",
      "Epoch 251/300\n",
      "34/34 [==============================] - 0s 515us/step - loss: 3577.2532 - mae: 3577.2532\n",
      "Epoch 252/300\n",
      "34/34 [==============================] - 0s 546us/step - loss: 3581.8059 - mae: 3581.8059\n",
      "Epoch 253/300\n",
      "34/34 [==============================] - 0s 546us/step - loss: 3575.6616 - mae: 3575.6616\n",
      "Epoch 254/300\n",
      "34/34 [==============================] - 0s 515us/step - loss: 3572.4160 - mae: 3572.4160\n",
      "Epoch 255/300\n",
      "34/34 [==============================] - 0s 546us/step - loss: 3566.1519 - mae: 3566.1519\n",
      "Epoch 256/300\n",
      "34/34 [==============================] - 0s 546us/step - loss: 3572.6675 - mae: 3572.6675\n",
      "Epoch 257/300\n",
      "34/34 [==============================] - 0s 546us/step - loss: 3568.5332 - mae: 3568.5332\n",
      "Epoch 258/300\n",
      "34/34 [==============================] - 0s 515us/step - loss: 3584.3787 - mae: 3584.3787\n",
      "Epoch 259/300\n",
      "34/34 [==============================] - 0s 546us/step - loss: 3563.2393 - mae: 3563.2393\n",
      "Epoch 260/300\n",
      "34/34 [==============================] - 0s 546us/step - loss: 3568.1704 - mae: 3568.1704\n",
      "Epoch 261/300\n",
      "34/34 [==============================] - 0s 515us/step - loss: 3565.5295 - mae: 3565.5295\n",
      "Epoch 262/300\n",
      "34/34 [==============================] - 0s 546us/step - loss: 3559.8918 - mae: 3559.8918\n",
      "Epoch 263/300\n",
      "34/34 [==============================] - 0s 546us/step - loss: 3559.3064 - mae: 3559.3064\n",
      "Epoch 264/300\n",
      "34/34 [==============================] - 0s 576us/step - loss: 3561.1343 - mae: 3561.1343\n",
      "Epoch 265/300\n",
      "34/34 [==============================] - 0s 515us/step - loss: 3558.5962 - mae: 3558.5962\n",
      "Epoch 266/300\n",
      "34/34 [==============================] - 0s 546us/step - loss: 3558.4700 - mae: 3558.4700\n",
      "Epoch 267/300\n",
      "34/34 [==============================] - 0s 546us/step - loss: 3561.1499 - mae: 3561.1499\n",
      "Epoch 268/300\n",
      "34/34 [==============================] - 0s 576us/step - loss: 3550.9036 - mae: 3550.9036\n",
      "Epoch 269/300\n",
      "34/34 [==============================] - 0s 546us/step - loss: 3556.6663 - mae: 3556.6663\n",
      "Epoch 270/300\n",
      "34/34 [==============================] - 0s 546us/step - loss: 3546.8916 - mae: 3546.8916\n",
      "Epoch 271/300\n",
      "34/34 [==============================] - 0s 515us/step - loss: 3548.0073 - mae: 3548.0073\n",
      "Epoch 272/300\n",
      "34/34 [==============================] - 0s 546us/step - loss: 3543.5903 - mae: 3543.5903\n",
      "Epoch 273/300\n",
      "34/34 [==============================] - 0s 546us/step - loss: 3543.6897 - mae: 3543.6897\n",
      "Epoch 274/300\n",
      "34/34 [==============================] - 0s 546us/step - loss: 3542.1479 - mae: 3542.1479\n",
      "Epoch 275/300\n",
      "34/34 [==============================] - 0s 546us/step - loss: 3539.4846 - mae: 3539.4846\n",
      "Epoch 276/300\n",
      "34/34 [==============================] - 0s 515us/step - loss: 3542.0374 - mae: 3542.0374\n",
      "Epoch 277/300\n",
      "34/34 [==============================] - 0s 515us/step - loss: 3539.2014 - mae: 3539.2014\n",
      "Epoch 278/300\n",
      "34/34 [==============================] - 0s 515us/step - loss: 3540.0730 - mae: 3540.0730\n",
      "Epoch 279/300\n",
      "34/34 [==============================] - 0s 546us/step - loss: 3539.7798 - mae: 3539.7798\n",
      "Epoch 280/300\n",
      "34/34 [==============================] - 0s 546us/step - loss: 3532.1309 - mae: 3532.1309\n",
      "Epoch 281/300\n",
      "34/34 [==============================] - 0s 576us/step - loss: 3541.1682 - mae: 3541.1682\n",
      "Epoch 282/300\n",
      "34/34 [==============================] - 0s 515us/step - loss: 3530.9551 - mae: 3530.9551\n",
      "Epoch 283/300\n",
      "34/34 [==============================] - 0s 515us/step - loss: 3535.6165 - mae: 3535.6165\n",
      "Epoch 284/300\n",
      "34/34 [==============================] - 0s 546us/step - loss: 3530.1577 - mae: 3530.1577\n",
      "Epoch 285/300\n",
      "34/34 [==============================] - 0s 546us/step - loss: 3529.9480 - mae: 3529.9480\n",
      "Epoch 286/300\n",
      "34/34 [==============================] - 0s 546us/step - loss: 3523.8989 - mae: 3523.8989\n",
      "Epoch 287/300\n",
      "34/34 [==============================] - 0s 576us/step - loss: 3522.8616 - mae: 3522.8616\n",
      "Epoch 288/300\n",
      "34/34 [==============================] - 0s 515us/step - loss: 3522.2529 - mae: 3522.2529\n",
      "Epoch 289/300\n",
      "34/34 [==============================] - 0s 576us/step - loss: 3523.6277 - mae: 3523.6277\n",
      "Epoch 290/300\n",
      "34/34 [==============================] - 0s 515us/step - loss: 3526.8005 - mae: 3526.8005\n",
      "Epoch 291/300\n",
      "34/34 [==============================] - 0s 546us/step - loss: 3529.2947 - mae: 3529.2947\n",
      "Epoch 292/300\n",
      "34/34 [==============================] - 0s 546us/step - loss: 3527.0537 - mae: 3527.0537\n",
      "Epoch 293/300\n",
      "34/34 [==============================] - 0s 546us/step - loss: 3517.7183 - mae: 3517.7183\n",
      "Epoch 294/300\n",
      "34/34 [==============================] - 0s 546us/step - loss: 3532.4072 - mae: 3532.4072\n",
      "Epoch 295/300\n",
      "34/34 [==============================] - 0s 546us/step - loss: 3527.7681 - mae: 3527.7681\n",
      "Epoch 296/300\n",
      "34/34 [==============================] - 0s 576us/step - loss: 3517.7468 - mae: 3517.7468\n",
      "Epoch 297/300\n",
      "34/34 [==============================] - 0s 576us/step - loss: 3507.5862 - mae: 3507.5862\n",
      "Epoch 298/300\n",
      "34/34 [==============================] - 0s 576us/step - loss: 3508.5842 - mae: 3508.5842\n",
      "Epoch 299/300\n",
      "34/34 [==============================] - 0s 546us/step - loss: 3521.3545 - mae: 3521.3545\n",
      "Epoch 300/300\n",
      "34/34 [==============================] - 0s 576us/step - loss: 3511.0701 - mae: 3511.0701\n"
     ]
    }
   ],
   "source": [
    "# Set random seed\n",
    "tf.random.set_seed(42)\n",
    "\n",
    "# 1. Create the model\n",
    "insurance_model_3 = tf.keras.Sequential([\n",
    "    tf.keras.layers.Dense(100),\n",
    "    tf.keras.layers.Dense(10),\n",
    "    tf.keras.layers.Dense(1)\n",
    "])\n",
    "\n",
    "# 2. Compile the model\n",
    "insurance_model_3.compile(loss=tf.keras.losses.mae,\n",
    "                          optimizer=tf.keras.optimizers.Adam(),\n",
    "                          metrics=[\"mae\"])\n",
    "\n",
    "# 3. Fit the model\n",
    "history_3 = insurance_model_3.fit(X_train, y_train, epochs=300)"
   ]
  },
  {
   "cell_type": "code",
   "execution_count": 358,
   "id": "27afc480",
   "metadata": {},
   "outputs": [
    {
     "name": "stdout",
     "output_type": "stream",
     "text": [
      "9/9 [==============================] - 0s 625us/step - loss: 3217.6089 - mae: 3217.6089\n"
     ]
    },
    {
     "data": {
      "text/plain": [
       "[3217.60888671875, 3217.60888671875]"
      ]
     },
     "execution_count": 358,
     "metadata": {},
     "output_type": "execute_result"
    }
   ],
   "source": [
    "# Evaluate the third model\n",
    "insurance_model_3.evaluate(X_test, y_test)"
   ]
  },
  {
   "cell_type": "code",
   "execution_count": 359,
   "id": "f88b47c1",
   "metadata": {},
   "outputs": [
    {
     "name": "stdout",
     "output_type": "stream",
     "text": [
      "9/9 [==============================] - 0s 625us/step - loss: 7023.3286 - mae: 7023.3286\n"
     ]
    },
    {
     "data": {
      "text/plain": [
       "[7023.32861328125, 7023.32861328125]"
      ]
     },
     "execution_count": 359,
     "metadata": {},
     "output_type": "execute_result"
    }
   ],
   "source": [
    "insurance_model.evaluate(X_test, y_test)"
   ]
  },
  {
   "cell_type": "code",
   "execution_count": 360,
   "id": "f300d33a",
   "metadata": {},
   "outputs": [
    {
     "data": {
      "text/plain": [
       "Text(0.5, 0, 'epochs')"
      ]
     },
     "execution_count": 360,
     "metadata": {},
     "output_type": "execute_result"
    },
    {
     "data": {
      "image/png": "[encoded data removed]",
      "text/plain": [
       "<Figure size 432x288 with 1 Axes>"
      ]
     },
     "metadata": {
      "needs_background": "light"
     },
     "output_type": "display_data"
    }
   ],
   "source": [
    "# Plot history (also known as a loss curve or training curve)\n",
    "pd.DataFrame(history.history).plot()\n",
    "plt.ylabel(\"loss\")\n",
    "plt.xlabel(\"epochs\")"
   ]
  },
  {
   "cell_type": "markdown",
   "id": "ef21dbc8",
   "metadata": {},
   "source": [
    "🤔 **Question:** How long should you train for?\n",
    "\n",
    "It depends. Really... it depends on the problem you're working on. However, many people have asked this question before, so TensorFlow has a solution. It's called the EarlyStopping Callback, which is a TensorFlow component you can add to your model to stop training once it stops improving beyond a certain metric."
   ]
  },
  {
   "cell_type": "markdown",
   "id": "17177673",
   "metadata": {},
   "source": [
    "### Preprocessing Data (Normalization and Standardization)\n",
    "\n",
    "In terms of scaling values, neural networks tend to prefer normalization. \n",
    "\n",
    "If not sure, try both normalization and standardization and see which works better."
   ]
  },
  {
   "cell_type": "code",
   "execution_count": 361,
   "id": "2077d42e",
   "metadata": {},
   "outputs": [
    {
     "data": {
      "text/html": [
       "<div>\n",
       "<style scoped>\n",
       "    .dataframe tbody tr th:only-of-type {\n",
       "        vertical-align: middle;\n",
       "    }\n",
       "\n",
       "    .dataframe tbody tr th {\n",
       "        vertical-align: top;\n",
       "    }\n",
       "\n",
       "    .dataframe thead th {\n",
       "        text-align: right;\n",
       "    }\n",
       "</style>\n",
       "<table border=\"1\" class=\"dataframe\">\n",
       "  <thead>\n",
       "    <tr style=\"text-align: right;\">\n",
       "      <th></th>\n",
       "      <th>age</th>\n",
       "      <th>sex</th>\n",
       "      <th>bmi</th>\n",
       "      <th>children</th>\n",
       "      <th>smoker</th>\n",
       "      <th>region</th>\n",
       "      <th>charges</th>\n",
       "    </tr>\n",
       "  </thead>\n",
       "  <tbody>\n",
       "    <tr>\n",
       "      <th>0</th>\n",
       "      <td>19</td>\n",
       "      <td>female</td>\n",
       "      <td>27.900</td>\n",
       "      <td>0</td>\n",
       "      <td>yes</td>\n",
       "      <td>southwest</td>\n",
       "      <td>16884.92400</td>\n",
       "    </tr>\n",
       "    <tr>\n",
       "      <th>1</th>\n",
       "      <td>18</td>\n",
       "      <td>male</td>\n",
       "      <td>33.770</td>\n",
       "      <td>1</td>\n",
       "      <td>no</td>\n",
       "      <td>southeast</td>\n",
       "      <td>1725.55230</td>\n",
       "    </tr>\n",
       "    <tr>\n",
       "      <th>2</th>\n",
       "      <td>28</td>\n",
       "      <td>male</td>\n",
       "      <td>33.000</td>\n",
       "      <td>3</td>\n",
       "      <td>no</td>\n",
       "      <td>southeast</td>\n",
       "      <td>4449.46200</td>\n",
       "    </tr>\n",
       "    <tr>\n",
       "      <th>3</th>\n",
       "      <td>33</td>\n",
       "      <td>male</td>\n",
       "      <td>22.705</td>\n",
       "      <td>0</td>\n",
       "      <td>no</td>\n",
       "      <td>northwest</td>\n",
       "      <td>21984.47061</td>\n",
       "    </tr>\n",
       "    <tr>\n",
       "      <th>4</th>\n",
       "      <td>32</td>\n",
       "      <td>male</td>\n",
       "      <td>28.880</td>\n",
       "      <td>0</td>\n",
       "      <td>no</td>\n",
       "      <td>northwest</td>\n",
       "      <td>3866.85520</td>\n",
       "    </tr>\n",
       "  </tbody>\n",
       "</table>\n",
       "</div>"
      ],
      "text/plain": [
       "   age     sex     bmi  children smoker     region      charges\n",
       "0   19  female  27.900         0    yes  southwest  16884.92400\n",
       "1   18    male  33.770         1     no  southeast   1725.55230\n",
       "2   28    male  33.000         3     no  southeast   4449.46200\n",
       "3   33    male  22.705         0     no  northwest  21984.47061\n",
       "4   32    male  28.880         0     no  northwest   3866.85520"
      ]
     },
     "execution_count": 361,
     "metadata": {},
     "output_type": "execute_result"
    }
   ],
   "source": [
    "import pandas as pd\n",
    "import matplotlib.pyplot as plt\n",
    "import tensorflow as tf\n",
    "\n",
    "# Read in the insurance dataframe\n",
    "insurance = pd.read_csv(\"https://raw.githubusercontent.com/stedy/Machine-Learning-with-R-datasets/master/insurance.csv\")\n",
    "insurance.head()"
   ]
  },
  {
   "cell_type": "markdown",
   "id": "42101f4d",
   "metadata": {},
   "source": [
    "To prepare our data, we can borrow a few classes from SciKit-Learn"
   ]
  },
  {
   "cell_type": "code",
   "execution_count": 362,
   "id": "99f683ef",
   "metadata": {},
   "outputs": [],
   "source": [
    "from sklearn.compose import make_column_transformer\n",
    "from sklearn.preprocessing import MinMaxScaler, OneHotEncoder\n",
    "from sklearn.model_selection import train_test_split\n",
    "\n",
    "# Create a column transformer\n",
    "ct = make_column_transformer(\n",
    "    (MinMaxScaler(), [\"age\", \"bmi\", \"children\"]), # Turn all values in these columns between 0 and 1\n",
    "    (OneHotEncoder(handle_unknown=\"ignore\"), [\"sex\", \"smoker\", \"region\"])\n",
    ")\n",
    "\n",
    "# Create X & y\n",
    "X = insurance.drop(\"charges\", axis=1)\n",
    "y = insurance[\"charges\"]\n",
    "\n",
    "# Build train and test sets\n",
    "X_train, X_test, y_train, y_test = train_test_split(X, y, test_size=0.2, random_state=42)\n",
    "\n",
    "# Fit the column transformer to our training data\n",
    "ct.fit(X_train)\n",
    "\n",
    "# Transform training and test data with normalization (MinMaxScalar and OneHotEncoder)\n",
    "X_train_normal = ct.transform(X_train)\n",
    "X_test_normal = ct.transform(X_test)"
   ]
  },
  {
   "cell_type": "code",
   "execution_count": 363,
   "id": "2dc9ba14",
   "metadata": {},
   "outputs": [
    {
     "data": {
      "text/plain": [
       "age                19\n",
       "sex            female\n",
       "bmi              27.9\n",
       "children            0\n",
       "smoker            yes\n",
       "region      southwest\n",
       "Name: 0, dtype: object"
      ]
     },
     "execution_count": 363,
     "metadata": {},
     "output_type": "execute_result"
    }
   ],
   "source": [
    "# What does our data look like now\n",
    "X_train.loc[0]"
   ]
  },
  {
   "cell_type": "code",
   "execution_count": 364,
   "id": "5d961ceb",
   "metadata": {},
   "outputs": [
    {
     "data": {
      "text/plain": [
       "array([0.60869565, 0.10734463, 0.4       , 1.        , 0.        ,\n",
       "       1.        , 0.        , 0.        , 1.        , 0.        ,\n",
       "       0.        ])"
      ]
     },
     "execution_count": 364,
     "metadata": {},
     "output_type": "execute_result"
    }
   ],
   "source": [
    "X_train_normal[0]"
   ]
  },
  {
   "cell_type": "code",
   "execution_count": 365,
   "id": "ffe79f87",
   "metadata": {},
   "outputs": [
    {
     "data": {
      "text/plain": [
       "((1070, 6), (1070, 11))"
      ]
     },
     "execution_count": 365,
     "metadata": {},
     "output_type": "execute_result"
    }
   ],
   "source": [
    "X_train.shape, X_train_normal.shape"
   ]
  },
  {
   "cell_type": "markdown",
   "id": "bc2c31e3",
   "metadata": {},
   "source": [
    "Beautiful! Our data has been normalized and one-hot encoded. Now let's build a neural network model from it and see how it goes."
   ]
  },
  {
   "cell_type": "code",
   "execution_count": 366,
   "id": "2847a985",
   "metadata": {},
   "outputs": [
    {
     "name": "stdout",
     "output_type": "stream",
     "text": [
      "Epoch 1/100\n",
      "34/34 [==============================] - 0s 546us/step - loss: 13342.6475 - mae: 13342.6475\n",
      "Epoch 2/100\n",
      "34/34 [==============================] - 0s 515us/step - loss: 13333.4785 - mae: 13333.4785\n",
      "Epoch 3/100\n",
      "34/34 [==============================] - 0s 546us/step - loss: 13312.0234 - mae: 13312.0234\n",
      "Epoch 4/100\n",
      "34/34 [==============================] - 0s 546us/step - loss: 13267.7930 - mae: 13267.7930\n",
      "Epoch 5/100\n",
      "34/34 [==============================] - 0s 515us/step - loss: 13189.5850 - mae: 13189.5850\n",
      "Epoch 6/100\n",
      "34/34 [==============================] - 0s 576us/step - loss: 13066.4502 - mae: 13066.4502\n",
      "Epoch 7/100\n",
      "34/34 [==============================] - 0s 546us/step - loss: 12888.1953 - mae: 12888.1953\n",
      "Epoch 8/100\n",
      "34/34 [==============================] - 0s 606us/step - loss: 12644.6523 - mae: 12644.6523\n",
      "Epoch 9/100\n",
      "34/34 [==============================] - 0s 576us/step - loss: 12325.5469 - mae: 12325.5469\n",
      "Epoch 10/100\n",
      "34/34 [==============================] - 0s 546us/step - loss: 11925.9658 - mae: 11925.9658\n",
      "Epoch 11/100\n",
      "34/34 [==============================] - 0s 515us/step - loss: 11454.3350 - mae: 11454.3350\n",
      "Epoch 12/100\n",
      "34/34 [==============================] - 0s 546us/step - loss: 10949.8086 - mae: 10949.8086\n",
      "Epoch 13/100\n",
      "34/34 [==============================] - 0s 515us/step - loss: 10448.9404 - mae: 10448.9404\n",
      "Epoch 14/100\n",
      "34/34 [==============================] - 0s 546us/step - loss: 9951.6250 - mae: 9951.6250\n",
      "Epoch 15/100\n",
      "34/34 [==============================] - 0s 546us/step - loss: 9482.7422 - mae: 9482.7422\n",
      "Epoch 16/100\n",
      "34/34 [==============================] - 0s 515us/step - loss: 9066.7461 - mae: 9066.7461\n",
      "Epoch 17/100\n",
      "34/34 [==============================] - 0s 546us/step - loss: 8721.9854 - mae: 8721.9854\n",
      "Epoch 18/100\n",
      "34/34 [==============================] - 0s 576us/step - loss: 8441.2002 - mae: 8441.2002\n",
      "Epoch 19/100\n",
      "34/34 [==============================] - 0s 546us/step - loss: 8227.5117 - mae: 8227.5117\n",
      "Epoch 20/100\n",
      "34/34 [==============================] - 0s 546us/step - loss: 8081.9775 - mae: 8081.9775\n",
      "Epoch 21/100\n",
      "34/34 [==============================] - 0s 546us/step - loss: 7973.8945 - mae: 7973.8945\n",
      "Epoch 22/100\n",
      "34/34 [==============================] - 0s 546us/step - loss: 7899.1597 - mae: 7899.1597\n",
      "Epoch 23/100\n",
      "34/34 [==============================] - 0s 546us/step - loss: 7840.3906 - mae: 7840.3906\n",
      "Epoch 24/100\n",
      "34/34 [==============================] - 0s 546us/step - loss: 7787.9619 - mae: 7787.9619\n",
      "Epoch 25/100\n",
      "34/34 [==============================] - 0s 546us/step - loss: 7749.2622 - mae: 7749.2622\n",
      "Epoch 26/100\n",
      "34/34 [==============================] - 0s 576us/step - loss: 7697.9595 - mae: 7697.9595\n",
      "Epoch 27/100\n",
      "34/34 [==============================] - 0s 576us/step - loss: 7656.0273 - mae: 7656.0273\n",
      "Epoch 28/100\n",
      "34/34 [==============================] - 0s 546us/step - loss: 7613.4780 - mae: 7613.4780\n",
      "Epoch 29/100\n",
      "34/34 [==============================] - 0s 546us/step - loss: 7570.9482 - mae: 7570.9482\n",
      "Epoch 30/100\n",
      "34/34 [==============================] - 0s 546us/step - loss: 7527.4175 - mae: 7527.4175\n",
      "Epoch 31/100\n",
      "34/34 [==============================] - 0s 573us/step - loss: 7483.5947 - mae: 7483.5947\n",
      "Epoch 32/100\n",
      "34/34 [==============================] - 0s 576us/step - loss: 7439.4419 - mae: 7439.4419\n",
      "Epoch 33/100\n",
      "34/34 [==============================] - 0s 546us/step - loss: 7395.0552 - mae: 7395.0552\n",
      "Epoch 34/100\n",
      "34/34 [==============================] - 0s 576us/step - loss: 7346.8125 - mae: 7346.8125\n",
      "Epoch 35/100\n",
      "34/34 [==============================] - 0s 515us/step - loss: 7300.0488 - mae: 7300.0488\n",
      "Epoch 36/100\n",
      "34/34 [==============================] - 0s 575us/step - loss: 7249.8452 - mae: 7249.8452\n",
      "Epoch 37/100\n",
      "34/34 [==============================] - 0s 576us/step - loss: 7199.5303 - mae: 7199.5303\n",
      "Epoch 38/100\n",
      "34/34 [==============================] - 0s 546us/step - loss: 7148.4805 - mae: 7148.4805\n",
      "Epoch 39/100\n",
      "34/34 [==============================] - 0s 546us/step - loss: 7093.6660 - mae: 7093.6660\n",
      "Epoch 40/100\n",
      "34/34 [==============================] - 0s 546us/step - loss: 7038.1792 - mae: 7038.1792\n",
      "Epoch 41/100\n",
      "34/34 [==============================] - 0s 570us/step - loss: 6981.7393 - mae: 6981.7393\n",
      "Epoch 42/100\n",
      "34/34 [==============================] - 0s 546us/step - loss: 6922.7847 - mae: 6922.7847\n",
      "Epoch 43/100\n",
      "34/34 [==============================] - 0s 606us/step - loss: 6860.1724 - mae: 6860.1724\n",
      "Epoch 44/100\n",
      "34/34 [==============================] - 0s 576us/step - loss: 6793.7969 - mae: 6793.7969\n",
      "Epoch 45/100\n",
      "34/34 [==============================] - 0s 576us/step - loss: 6726.6201 - mae: 6726.6201\n",
      "Epoch 46/100\n",
      "34/34 [==============================] - 0s 546us/step - loss: 6657.4683 - mae: 6657.4683\n",
      "Epoch 47/100\n",
      "34/34 [==============================] - 0s 546us/step - loss: 6586.3086 - mae: 6586.3086\n",
      "Epoch 48/100\n",
      "34/34 [==============================] - 0s 546us/step - loss: 6507.5063 - mae: 6507.5063\n",
      "Epoch 49/100\n",
      "34/34 [==============================] - 0s 576us/step - loss: 6428.6021 - mae: 6428.6021\n",
      "Epoch 50/100\n",
      "34/34 [==============================] - 0s 576us/step - loss: 6342.7100 - mae: 6342.7100\n",
      "Epoch 51/100\n",
      "34/34 [==============================] - 0s 546us/step - loss: 6258.0718 - mae: 6258.0718\n",
      "Epoch 52/100\n",
      "34/34 [==============================] - 0s 546us/step - loss: 6164.7046 - mae: 6164.7046\n",
      "Epoch 53/100\n",
      "34/34 [==============================] - 0s 546us/step - loss: 6068.6748 - mae: 6068.6748\n",
      "Epoch 54/100\n",
      "34/34 [==============================] - 0s 546us/step - loss: 5970.0981 - mae: 5970.0981\n",
      "Epoch 55/100\n",
      "34/34 [==============================] - 0s 515us/step - loss: 5862.5625 - mae: 5862.5625\n",
      "Epoch 56/100\n",
      "34/34 [==============================] - 0s 546us/step - loss: 5753.9526 - mae: 5753.9526\n",
      "Epoch 57/100\n",
      "34/34 [==============================] - 0s 546us/step - loss: 5638.0942 - mae: 5638.0942\n",
      "Epoch 58/100\n",
      "34/34 [==============================] - 0s 546us/step - loss: 5519.8687 - mae: 5519.8687\n",
      "Epoch 59/100\n",
      "34/34 [==============================] - 0s 546us/step - loss: 5401.3198 - mae: 5401.3198\n",
      "Epoch 60/100\n",
      "34/34 [==============================] - 0s 546us/step - loss: 5277.3506 - mae: 5277.3506\n",
      "Epoch 61/100\n",
      "34/34 [==============================] - 0s 576us/step - loss: 5149.7637 - mae: 5149.7637\n",
      "Epoch 62/100\n",
      "34/34 [==============================] - 0s 576us/step - loss: 5019.3535 - mae: 5019.3535\n",
      "Epoch 63/100\n",
      "34/34 [==============================] - 0s 546us/step - loss: 4889.6865 - mae: 4889.6865\n",
      "Epoch 64/100\n",
      "34/34 [==============================] - 0s 546us/step - loss: 4756.8560 - mae: 4756.8560\n",
      "Epoch 65/100\n",
      "34/34 [==============================] - 0s 546us/step - loss: 4629.4370 - mae: 4629.4370\n",
      "Epoch 66/100\n",
      "34/34 [==============================] - 0s 546us/step - loss: 4503.5991 - mae: 4503.5991\n",
      "Epoch 67/100\n",
      "34/34 [==============================] - 0s 576us/step - loss: 4392.9922 - mae: 4392.9922\n",
      "Epoch 68/100\n",
      "34/34 [==============================] - 0s 546us/step - loss: 4284.3862 - mae: 4284.3862\n",
      "Epoch 69/100\n",
      "34/34 [==============================] - 0s 576us/step - loss: 4182.6182 - mae: 4182.6182\n",
      "Epoch 70/100\n",
      "34/34 [==============================] - 0s 515us/step - loss: 4089.5725 - mae: 4089.5725\n",
      "Epoch 71/100\n",
      "34/34 [==============================] - 0s 546us/step - loss: 4003.3896 - mae: 4003.3896\n",
      "Epoch 72/100\n",
      "34/34 [==============================] - 0s 515us/step - loss: 3929.0093 - mae: 3929.0093\n",
      "Epoch 73/100\n",
      "34/34 [==============================] - 0s 515us/step - loss: 3866.3110 - mae: 3866.3110\n",
      "Epoch 74/100\n",
      "34/34 [==============================] - 0s 515us/step - loss: 3813.7144 - mae: 3813.7144\n",
      "Epoch 75/100\n",
      "34/34 [==============================] - 0s 546us/step - loss: 3773.0320 - mae: 3773.0320\n",
      "Epoch 76/100\n",
      "34/34 [==============================] - 0s 515us/step - loss: 3744.1995 - mae: 3744.1995\n",
      "Epoch 77/100\n",
      "34/34 [==============================] - 0s 546us/step - loss: 3719.6870 - mae: 3719.6870\n",
      "Epoch 78/100\n",
      "34/34 [==============================] - 0s 546us/step - loss: 3702.9109 - mae: 3702.9109\n",
      "Epoch 79/100\n",
      "34/34 [==============================] - 0s 546us/step - loss: 3691.8787 - mae: 3691.8787\n",
      "Epoch 80/100\n"
     ]
    },
    {
     "name": "stdout",
     "output_type": "stream",
     "text": [
      "34/34 [==============================] - 0s 515us/step - loss: 3682.8350 - mae: 3682.8350\n",
      "Epoch 81/100\n",
      "34/34 [==============================] - 0s 546us/step - loss: 3676.9768 - mae: 3676.9768\n",
      "Epoch 82/100\n",
      "34/34 [==============================] - 0s 546us/step - loss: 3673.9495 - mae: 3673.9495\n",
      "Epoch 83/100\n",
      "34/34 [==============================] - 0s 515us/step - loss: 3667.8452 - mae: 3667.8452\n",
      "Epoch 84/100\n",
      "34/34 [==============================] - 0s 515us/step - loss: 3664.5752 - mae: 3664.5752\n",
      "Epoch 85/100\n",
      "34/34 [==============================] - 0s 515us/step - loss: 3661.8562 - mae: 3661.8562\n",
      "Epoch 86/100\n",
      "34/34 [==============================] - 0s 546us/step - loss: 3660.3044 - mae: 3660.3044\n",
      "Epoch 87/100\n",
      "34/34 [==============================] - 0s 546us/step - loss: 3657.5137 - mae: 3657.5137\n",
      "Epoch 88/100\n",
      "34/34 [==============================] - 0s 515us/step - loss: 3655.2200 - mae: 3655.2200\n",
      "Epoch 89/100\n",
      "34/34 [==============================] - 0s 546us/step - loss: 3653.8831 - mae: 3653.8831\n",
      "Epoch 90/100\n",
      "34/34 [==============================] - 0s 546us/step - loss: 3652.0193 - mae: 3652.0193\n",
      "Epoch 91/100\n",
      "34/34 [==============================] - 0s 546us/step - loss: 3648.9990 - mae: 3648.9990\n",
      "Epoch 92/100\n",
      "34/34 [==============================] - 0s 576us/step - loss: 3648.4460 - mae: 3648.4460\n",
      "Epoch 93/100\n",
      "34/34 [==============================] - 0s 546us/step - loss: 3646.2300 - mae: 3646.2300\n",
      "Epoch 94/100\n",
      "34/34 [==============================] - 0s 515us/step - loss: 3644.4375 - mae: 3644.4375\n",
      "Epoch 95/100\n",
      "34/34 [==============================] - 0s 546us/step - loss: 3645.8772 - mae: 3645.8772\n",
      "Epoch 96/100\n",
      "34/34 [==============================] - 0s 545us/step - loss: 3642.2576 - mae: 3642.2576\n",
      "Epoch 97/100\n",
      "34/34 [==============================] - 0s 515us/step - loss: 3640.1189 - mae: 3640.1189\n",
      "Epoch 98/100\n",
      "34/34 [==============================] - 0s 546us/step - loss: 3638.0647 - mae: 3638.0647\n",
      "Epoch 99/100\n",
      "34/34 [==============================] - 0s 515us/step - loss: 3637.2051 - mae: 3637.2051\n",
      "Epoch 100/100\n",
      "34/34 [==============================] - 0s 546us/step - loss: 3636.1707 - mae: 3636.1707\n"
     ]
    }
   ],
   "source": [
    "# Build a neural network model to fit on our normalized data\n",
    "\n",
    "# Set random seed\n",
    "tf.random.set_seed(42)\n",
    "\n",
    "# 1. Create the model\n",
    "insurance_model_4 = tf.keras.Sequential([\n",
    "    tf.keras.layers.Dense(100),\n",
    "    tf.keras.layers.Dense(10),\n",
    "    tf.keras.layers.Dense(1)\n",
    "])\n",
    "\n",
    "# 2. Compile the model\n",
    "insurance_model_4.compile(\n",
    "    loss=tf.keras.losses.mae,\n",
    "    optimizer=tf.keras.optimizers.Adam(),\n",
    "    metrics=[\"mae\"]\n",
    ")\n",
    "\n",
    "# Fit the model\n",
    "history_4 = insurance_model_4.fit(X_train_normal, y_train, epochs=100)"
   ]
  },
  {
   "cell_type": "code",
   "execution_count": 288,
   "id": "34f3a3ee",
   "metadata": {},
   "outputs": [
    {
     "name": "stdout",
     "output_type": "stream",
     "text": [
      "9/9 [==============================] - 0s 625us/step - loss: 3438.7842 - mae: 3438.7842\n"
     ]
    },
    {
     "data": {
      "text/plain": [
       "[3438.7841796875, 3438.7841796875]"
      ]
     },
     "execution_count": 288,
     "metadata": {},
     "output_type": "execute_result"
    }
   ],
   "source": [
    "# Evaluate our insurance model trained on normalized data\n",
    "insurance_model_4.evaluate(X_test_normal, y_test)"
   ]
  },
  {
   "cell_type": "code",
   "execution_count": 289,
   "id": "ec373717",
   "metadata": {},
   "outputs": [],
   "source": [
    "# Insurance model 2\n",
    "# 9/9 [==============================] - 0s 500us/step - loss: 4924.4961 - mae: 4924.4961"
   ]
  },
  {
   "cell_type": "code",
   "execution_count": 382,
   "id": "26804273",
   "metadata": {},
   "outputs": [
    {
     "data": {
      "image/png": "[encoded data removed]",
      "text/plain": [
       "<Figure size 432x288 with 1 Axes>"
      ]
     },
     "metadata": {
      "needs_background": "light"
     },
     "output_type": "display_data"
    }
   ],
   "source": [
    "# Plot history (also known as a loss curve or training curve)\n",
    "x = np.linspace(1, (len(history_2.history['loss'])), 100)\n",
    "x_300 = np.linspace(1, (len(history_3.history['loss'])), 300)\n",
    "\n",
    "fig, ax = plt.subplots()\n",
    "\n",
    "ax.plot(x, history_1.history['loss'], c='r', label=\"model_1\")\n",
    "ax.plot(x_300, history_3.history['loss'], c='b', label=\"model_3\")\n",
    "ax.plot(x, history_4.history['loss'], c='purple', label=\"model_4\")\n",
    "ax.plot(x, history_2.history['loss'], c='g', label=\"model_2\")\n",
    "plt.ylabel(\"loss\")\n",
    "plt.xlabel(\"epochs\")\n",
    "plt.legend()\n",
    "plt.show()"
   ]
  },
  {
   "cell_type": "code",
   "execution_count": null,
   "id": "3965d794",
   "metadata": {},
   "outputs": [],
   "source": []
  }
 ],
 "metadata": {
  "kernelspec": {
   "display_name": "Python 3 (ipykernel)",
   "language": "python",
   "name": "python3"
  },
  "language_info": {
   "codemirror_mode": {
    "name": "ipython",
    "version": 3
   },
   "file_extension": ".py",
   "mimetype": "text/x-python",
   "name": "python",
   "nbconvert_exporter": "python",
   "pygments_lexer": "ipython3",
   "version": "3.9.10"
  }
 },
 "nbformat": 4,
 "nbformat_minor": 5
}
